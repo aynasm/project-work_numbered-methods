{
 "cells": [
  {
   "cell_type": "markdown",
   "metadata": {},
   "source": [
    "# Определение стоимости автомобилей"
   ]
  },
  {
   "cell_type": "markdown",
   "metadata": {},
   "source": [
    "Сервис по продаже автомобилей с пробегом «Не бит, не крашен» разрабатывает приложение для привлечения новых клиентов. В нём можно быстро узнать рыночную стоимость своего автомобиля. В вашем распоряжении исторические данные: технические характеристики, комплектации и цены автомобилей. Вам нужно построить модель для определения стоимости. \n",
    "\n",
    "Заказчику важны:\n",
    "\n",
    "- качество предсказания;\n",
    "- скорость предсказания;\n",
    "- время обучения."
   ]
  },
  {
   "cell_type": "markdown",
   "metadata": {},
   "source": [
    "## Основные шаги:\n",
    "1. Загрузите данные, путь к файлу: /datasets/autos.csv.\n",
    "2. Изучите данные. Заполните пропущенные значения и обработайте аномалии в столбцах. Если среди признаков имеются неинформативные, удалите их.\n",
    "3. Подготовьте выборки для обучения моделей.\n",
    "4. Обучите разные модели, одна из которых — LightGBM, как минимум одна — не бустинг. Для каждой модели попробуйте разные гиперпараметры.\n",
    "5. Проанализируйте время обучения, время предсказания и качество моделей.\n",
    "6. Опираясь на критерии заказчика, выберете лучшую модель, проверьте её качество на тестовой выборке.\n",
    "\n",
    "Примечания:\n",
    "- Для оценки качества моделей применяйте метрику RMSE.\n",
    "- Значение метрики RMSE должно быть меньше 2500.\n",
    "- Самостоятельно освойте библиотеку LightGBM и её средствами постройте модели градиентного бустинга.\n",
    "- Время выполнения ячейки кода Jupyter Notebook можно получить специальной командой. Найдите её.\n",
    "- Модель градиентного бустинга может долго обучаться, поэтому измените у неё только два-три параметра.\n",
    "- Если перестанет работать Jupyter Notebook, удалите лишние переменные оператором del.\n",
    "\n",
    "Признаки:\n",
    "- DateCrawled — дата скачивания анкеты из базы\n",
    "- VehicleType — тип автомобильного кузова\n",
    "- RegistrationYear — год регистрации автомобиля\n",
    "- Gearbox — тип коробки передач\n",
    "- Power — мощность (л. с.)\n",
    "- Model — модель автомобиля\n",
    "- Kilometer — пробег (км)\n",
    "- RegistrationMonth — месяц регистрации автомобиля\n",
    "- FuelType — тип топлива\n",
    "- Brand — марка автомобиля\n",
    "- Repaired — была машина в ремонте или нет\n",
    "- DateCreated — дата создания анкеты\n",
    "- NumberOfPictures — количество фотографий автомобиля\n",
    "- PostalCode — почтовый индекс владельца анкеты (пользователя)\n",
    "- LastSeen — дата последней активности пользователя\n",
    "\n",
    "Целевой признак\n",
    "- Price — цена (евро)"
   ]
  },
  {
   "cell_type": "markdown",
   "metadata": {},
   "source": [
    "## Подготовка данных"
   ]
  },
  {
   "cell_type": "code",
   "execution_count": 1,
   "metadata": {},
   "outputs": [],
   "source": [
    "# импорты из стандартной библиотеки\n",
    "import warnings\n",
    "\n",
    "# импорты сторонних библиотек\n",
    "import numpy as np\n",
    "import pandas as pd\n",
    "import seaborn as sns\n",
    "import matplotlib.pyplot as plt\n",
    "\n",
    "# импорты модулей текущего проекта\n",
    "from sklearn.compose import make_column_transformer\n",
    "#from sklearn.ensemble import RandomForestRegressor\n",
    "#from sklearn.linear_model import LinearRegression\n",
    "from sklearn.ensemble import RandomForestRegressor \n",
    "from sklearn.metrics import mean_squared_error\n",
    "from sklearn.model_selection import (\n",
    "    GridSearchCV, \n",
    "    #RandomizedSearchCV,\n",
    "    train_test_split\n",
    ")\n",
    "\n",
    "from lightgbm import LGBMRegressor\n",
    "from catboost import CatBoostRegressor \n",
    "\n",
    "from sklearn.pipeline import make_pipeline\n",
    "from sklearn.preprocessing import (\n",
    "    #OneHotEncoder,\n",
    "    OrdinalEncoder,\n",
    "    StandardScaler\n",
    ")\n",
    "\n",
    "# настройки\n",
    "warnings.filterwarnings(\"ignore\")\n",
    "\n",
    "# константы заглавными буквами\n",
    "RANDOM_STATE = 12345"
   ]
  },
  {
   "cell_type": "code",
   "execution_count": 2,
   "metadata": {},
   "outputs": [],
   "source": [
    "#Считываем данные из csv-файла в датафрейм\n",
    "try:\n",
    "    data = pd.read_csv('/datasets/autos.csv')\n",
    "except:\n",
    "    data = pd.read_csv('https://code.s3.yandex.net/datasets/autos.csv')\n",
    "\n",
    "# КОД РЕВЬЮЕРА\n",
    "INIT_DATA_SIZE = data.shape[0]"
   ]
  },
  {
   "cell_type": "code",
   "execution_count": 3,
   "metadata": {},
   "outputs": [
    {
     "name": "stdout",
     "output_type": "stream",
     "text": [
      "------------- Первые 5 строк ------------\n"
     ]
    },
    {
     "data": {
      "text/html": [
       "<div>\n",
       "<style scoped>\n",
       "    .dataframe tbody tr th:only-of-type {\n",
       "        vertical-align: middle;\n",
       "    }\n",
       "\n",
       "    .dataframe tbody tr th {\n",
       "        vertical-align: top;\n",
       "    }\n",
       "\n",
       "    .dataframe thead th {\n",
       "        text-align: right;\n",
       "    }\n",
       "</style>\n",
       "<table border=\"1\" class=\"dataframe\">\n",
       "  <thead>\n",
       "    <tr style=\"text-align: right;\">\n",
       "      <th></th>\n",
       "      <th>DateCrawled</th>\n",
       "      <th>Price</th>\n",
       "      <th>VehicleType</th>\n",
       "      <th>RegistrationYear</th>\n",
       "      <th>Gearbox</th>\n",
       "      <th>Power</th>\n",
       "      <th>Model</th>\n",
       "      <th>Kilometer</th>\n",
       "      <th>RegistrationMonth</th>\n",
       "      <th>FuelType</th>\n",
       "      <th>Brand</th>\n",
       "      <th>Repaired</th>\n",
       "      <th>DateCreated</th>\n",
       "      <th>NumberOfPictures</th>\n",
       "      <th>PostalCode</th>\n",
       "      <th>LastSeen</th>\n",
       "    </tr>\n",
       "  </thead>\n",
       "  <tbody>\n",
       "    <tr>\n",
       "      <th>0</th>\n",
       "      <td>2016-03-24 11:52:17</td>\n",
       "      <td>480</td>\n",
       "      <td>NaN</td>\n",
       "      <td>1993</td>\n",
       "      <td>manual</td>\n",
       "      <td>0</td>\n",
       "      <td>golf</td>\n",
       "      <td>150000</td>\n",
       "      <td>0</td>\n",
       "      <td>petrol</td>\n",
       "      <td>volkswagen</td>\n",
       "      <td>NaN</td>\n",
       "      <td>2016-03-24 00:00:00</td>\n",
       "      <td>0</td>\n",
       "      <td>70435</td>\n",
       "      <td>2016-04-07 03:16:57</td>\n",
       "    </tr>\n",
       "    <tr>\n",
       "      <th>1</th>\n",
       "      <td>2016-03-24 10:58:45</td>\n",
       "      <td>18300</td>\n",
       "      <td>coupe</td>\n",
       "      <td>2011</td>\n",
       "      <td>manual</td>\n",
       "      <td>190</td>\n",
       "      <td>NaN</td>\n",
       "      <td>125000</td>\n",
       "      <td>5</td>\n",
       "      <td>gasoline</td>\n",
       "      <td>audi</td>\n",
       "      <td>yes</td>\n",
       "      <td>2016-03-24 00:00:00</td>\n",
       "      <td>0</td>\n",
       "      <td>66954</td>\n",
       "      <td>2016-04-07 01:46:50</td>\n",
       "    </tr>\n",
       "    <tr>\n",
       "      <th>2</th>\n",
       "      <td>2016-03-14 12:52:21</td>\n",
       "      <td>9800</td>\n",
       "      <td>suv</td>\n",
       "      <td>2004</td>\n",
       "      <td>auto</td>\n",
       "      <td>163</td>\n",
       "      <td>grand</td>\n",
       "      <td>125000</td>\n",
       "      <td>8</td>\n",
       "      <td>gasoline</td>\n",
       "      <td>jeep</td>\n",
       "      <td>NaN</td>\n",
       "      <td>2016-03-14 00:00:00</td>\n",
       "      <td>0</td>\n",
       "      <td>90480</td>\n",
       "      <td>2016-04-05 12:47:46</td>\n",
       "    </tr>\n",
       "    <tr>\n",
       "      <th>3</th>\n",
       "      <td>2016-03-17 16:54:04</td>\n",
       "      <td>1500</td>\n",
       "      <td>small</td>\n",
       "      <td>2001</td>\n",
       "      <td>manual</td>\n",
       "      <td>75</td>\n",
       "      <td>golf</td>\n",
       "      <td>150000</td>\n",
       "      <td>6</td>\n",
       "      <td>petrol</td>\n",
       "      <td>volkswagen</td>\n",
       "      <td>no</td>\n",
       "      <td>2016-03-17 00:00:00</td>\n",
       "      <td>0</td>\n",
       "      <td>91074</td>\n",
       "      <td>2016-03-17 17:40:17</td>\n",
       "    </tr>\n",
       "    <tr>\n",
       "      <th>4</th>\n",
       "      <td>2016-03-31 17:25:20</td>\n",
       "      <td>3600</td>\n",
       "      <td>small</td>\n",
       "      <td>2008</td>\n",
       "      <td>manual</td>\n",
       "      <td>69</td>\n",
       "      <td>fabia</td>\n",
       "      <td>90000</td>\n",
       "      <td>7</td>\n",
       "      <td>gasoline</td>\n",
       "      <td>skoda</td>\n",
       "      <td>no</td>\n",
       "      <td>2016-03-31 00:00:00</td>\n",
       "      <td>0</td>\n",
       "      <td>60437</td>\n",
       "      <td>2016-04-06 10:17:21</td>\n",
       "    </tr>\n",
       "  </tbody>\n",
       "</table>\n",
       "</div>"
      ],
      "text/plain": [
       "           DateCrawled  Price VehicleType  RegistrationYear Gearbox  Power  \\\n",
       "0  2016-03-24 11:52:17    480         NaN              1993  manual      0   \n",
       "1  2016-03-24 10:58:45  18300       coupe              2011  manual    190   \n",
       "2  2016-03-14 12:52:21   9800         suv              2004    auto    163   \n",
       "3  2016-03-17 16:54:04   1500       small              2001  manual     75   \n",
       "4  2016-03-31 17:25:20   3600       small              2008  manual     69   \n",
       "\n",
       "   Model  Kilometer  RegistrationMonth  FuelType       Brand Repaired  \\\n",
       "0   golf     150000                  0    petrol  volkswagen      NaN   \n",
       "1    NaN     125000                  5  gasoline        audi      yes   \n",
       "2  grand     125000                  8  gasoline        jeep      NaN   \n",
       "3   golf     150000                  6    petrol  volkswagen       no   \n",
       "4  fabia      90000                  7  gasoline       skoda       no   \n",
       "\n",
       "           DateCreated  NumberOfPictures  PostalCode             LastSeen  \n",
       "0  2016-03-24 00:00:00                 0       70435  2016-04-07 03:16:57  \n",
       "1  2016-03-24 00:00:00                 0       66954  2016-04-07 01:46:50  \n",
       "2  2016-03-14 00:00:00                 0       90480  2016-04-05 12:47:46  \n",
       "3  2016-03-17 00:00:00                 0       91074  2016-03-17 17:40:17  \n",
       "4  2016-03-31 00:00:00                 0       60437  2016-04-06 10:17:21  "
      ]
     },
     "metadata": {},
     "output_type": "display_data"
    },
    {
     "name": "stdout",
     "output_type": "stream",
     "text": [
      "\n",
      "\n",
      "------------- Типы данных ------------\n",
      "<class 'pandas.core.frame.DataFrame'>\n",
      "RangeIndex: 354369 entries, 0 to 354368\n",
      "Data columns (total 16 columns):\n",
      " #   Column             Non-Null Count   Dtype \n",
      "---  ------             --------------   ----- \n",
      " 0   DateCrawled        354369 non-null  object\n",
      " 1   Price              354369 non-null  int64 \n",
      " 2   VehicleType        316879 non-null  object\n",
      " 3   RegistrationYear   354369 non-null  int64 \n",
      " 4   Gearbox            334536 non-null  object\n",
      " 5   Power              354369 non-null  int64 \n",
      " 6   Model              334664 non-null  object\n",
      " 7   Kilometer          354369 non-null  int64 \n",
      " 8   RegistrationMonth  354369 non-null  int64 \n",
      " 9   FuelType           321474 non-null  object\n",
      " 10  Brand              354369 non-null  object\n",
      " 11  Repaired           283215 non-null  object\n",
      " 12  DateCreated        354369 non-null  object\n",
      " 13  NumberOfPictures   354369 non-null  int64 \n",
      " 14  PostalCode         354369 non-null  int64 \n",
      " 15  LastSeen           354369 non-null  object\n",
      "dtypes: int64(7), object(9)\n",
      "memory usage: 43.3+ MB\n",
      "None\n",
      "\n",
      "\n",
      "------------- Пропуски ------------\n",
      "DateCrawled Пропусков НЕТ\n",
      "Price Пропусков НЕТ\n",
      "VehicleType  -  37490 пропусков\n",
      "Gearbox  -  19833 пропусков\n",
      "Model  -  19705 пропусков\n",
      "FuelType  -  32895 пропусков\n",
      "Repaired  -  71154 пропусков\n",
      "\n",
      "\n",
      "------------- Дубликаты ------------\n",
      "Дубликатов:  4\n",
      "\n",
      "\n"
     ]
    },
    {
     "data": {
      "text/html": [
       "<div>\n",
       "<style scoped>\n",
       "    .dataframe tbody tr th:only-of-type {\n",
       "        vertical-align: middle;\n",
       "    }\n",
       "\n",
       "    .dataframe tbody tr th {\n",
       "        vertical-align: top;\n",
       "    }\n",
       "\n",
       "    .dataframe thead th {\n",
       "        text-align: right;\n",
       "    }\n",
       "</style>\n",
       "<table border=\"1\" class=\"dataframe\">\n",
       "  <thead>\n",
       "    <tr style=\"text-align: right;\">\n",
       "      <th></th>\n",
       "      <th>Price</th>\n",
       "      <th>RegistrationYear</th>\n",
       "      <th>Power</th>\n",
       "      <th>Kilometer</th>\n",
       "      <th>RegistrationMonth</th>\n",
       "      <th>NumberOfPictures</th>\n",
       "      <th>PostalCode</th>\n",
       "    </tr>\n",
       "  </thead>\n",
       "  <tbody>\n",
       "    <tr>\n",
       "      <th>count</th>\n",
       "      <td>354369.000000</td>\n",
       "      <td>354369.000000</td>\n",
       "      <td>354369.000000</td>\n",
       "      <td>354369.000000</td>\n",
       "      <td>354369.000000</td>\n",
       "      <td>354369.0</td>\n",
       "      <td>354369.000000</td>\n",
       "    </tr>\n",
       "    <tr>\n",
       "      <th>mean</th>\n",
       "      <td>4416.656776</td>\n",
       "      <td>2004.234448</td>\n",
       "      <td>110.094337</td>\n",
       "      <td>128211.172535</td>\n",
       "      <td>5.714645</td>\n",
       "      <td>0.0</td>\n",
       "      <td>50508.689087</td>\n",
       "    </tr>\n",
       "    <tr>\n",
       "      <th>std</th>\n",
       "      <td>4514.158514</td>\n",
       "      <td>90.227958</td>\n",
       "      <td>189.850405</td>\n",
       "      <td>37905.341530</td>\n",
       "      <td>3.726421</td>\n",
       "      <td>0.0</td>\n",
       "      <td>25783.096248</td>\n",
       "    </tr>\n",
       "    <tr>\n",
       "      <th>min</th>\n",
       "      <td>0.000000</td>\n",
       "      <td>1000.000000</td>\n",
       "      <td>0.000000</td>\n",
       "      <td>5000.000000</td>\n",
       "      <td>0.000000</td>\n",
       "      <td>0.0</td>\n",
       "      <td>1067.000000</td>\n",
       "    </tr>\n",
       "    <tr>\n",
       "      <th>25%</th>\n",
       "      <td>1050.000000</td>\n",
       "      <td>1999.000000</td>\n",
       "      <td>69.000000</td>\n",
       "      <td>125000.000000</td>\n",
       "      <td>3.000000</td>\n",
       "      <td>0.0</td>\n",
       "      <td>30165.000000</td>\n",
       "    </tr>\n",
       "    <tr>\n",
       "      <th>50%</th>\n",
       "      <td>2700.000000</td>\n",
       "      <td>2003.000000</td>\n",
       "      <td>105.000000</td>\n",
       "      <td>150000.000000</td>\n",
       "      <td>6.000000</td>\n",
       "      <td>0.0</td>\n",
       "      <td>49413.000000</td>\n",
       "    </tr>\n",
       "    <tr>\n",
       "      <th>75%</th>\n",
       "      <td>6400.000000</td>\n",
       "      <td>2008.000000</td>\n",
       "      <td>143.000000</td>\n",
       "      <td>150000.000000</td>\n",
       "      <td>9.000000</td>\n",
       "      <td>0.0</td>\n",
       "      <td>71083.000000</td>\n",
       "    </tr>\n",
       "    <tr>\n",
       "      <th>max</th>\n",
       "      <td>20000.000000</td>\n",
       "      <td>9999.000000</td>\n",
       "      <td>20000.000000</td>\n",
       "      <td>150000.000000</td>\n",
       "      <td>12.000000</td>\n",
       "      <td>0.0</td>\n",
       "      <td>99998.000000</td>\n",
       "    </tr>\n",
       "  </tbody>\n",
       "</table>\n",
       "</div>"
      ],
      "text/plain": [
       "               Price  RegistrationYear          Power      Kilometer  \\\n",
       "count  354369.000000     354369.000000  354369.000000  354369.000000   \n",
       "mean     4416.656776       2004.234448     110.094337  128211.172535   \n",
       "std      4514.158514         90.227958     189.850405   37905.341530   \n",
       "min         0.000000       1000.000000       0.000000    5000.000000   \n",
       "25%      1050.000000       1999.000000      69.000000  125000.000000   \n",
       "50%      2700.000000       2003.000000     105.000000  150000.000000   \n",
       "75%      6400.000000       2008.000000     143.000000  150000.000000   \n",
       "max     20000.000000       9999.000000   20000.000000  150000.000000   \n",
       "\n",
       "       RegistrationMonth  NumberOfPictures     PostalCode  \n",
       "count      354369.000000          354369.0  354369.000000  \n",
       "mean            5.714645               0.0   50508.689087  \n",
       "std             3.726421               0.0   25783.096248  \n",
       "min             0.000000               0.0    1067.000000  \n",
       "25%             3.000000               0.0   30165.000000  \n",
       "50%             6.000000               0.0   49413.000000  \n",
       "75%             9.000000               0.0   71083.000000  \n",
       "max            12.000000               0.0   99998.000000  "
      ]
     },
     "metadata": {},
     "output_type": "display_data"
    }
   ],
   "source": [
    "#Функция получения первичной информации о датафрейме\n",
    "def studying_the_data (data):\n",
    "    print ('------------- Первые 5 строк ------------')\n",
    "    display(data.head())\n",
    "    print('')\n",
    "    print('')\n",
    "    print ('------------- Типы данных ------------')\n",
    "    print (data.info())\n",
    "    print('')\n",
    "    print('')\n",
    "    print ('------------- Пропуски ------------')\n",
    "    count = 0\n",
    "    for element in data.columns:\n",
    "        if data[element].isna().sum() > 0: \n",
    "            print(element, ' - ', data[element].isna().sum(), 'пропусков')\n",
    "            count = +1\n",
    "        if count == 0:\n",
    "            print(element, 'Пропусков НЕТ')\n",
    "    print('')\n",
    "    print('')\n",
    "    print ('------------- Дубликаты ------------')\n",
    "    if data.duplicated().sum() > 0:\n",
    "        print('Дубликатов: ', data.duplicated().sum())\n",
    "    else:\n",
    "        print('Дубликатов НЕТ')\n",
    "    print('')\n",
    "    print('')\n",
    "    display(data.describe())\n",
    "\n",
    "studying_the_data (data)"
   ]
  },
  {
   "cell_type": "markdown",
   "metadata": {},
   "source": [
    "Удалим дубликаты, их всего 4"
   ]
  },
  {
   "cell_type": "code",
   "execution_count": 4,
   "metadata": {},
   "outputs": [],
   "source": [
    "data.drop_duplicates(inplace=True) "
   ]
  },
  {
   "cell_type": "markdown",
   "metadata": {},
   "source": [
    "Удалим столбцы не несущие важной информации: DateCrawled, RegistrationMonth, DateCreated, NumberOfPictures, PostalCode, LastSeen"
   ]
  },
  {
   "cell_type": "code",
   "execution_count": 5,
   "metadata": {},
   "outputs": [
    {
     "data": {
      "text/html": [
       "<div>\n",
       "<style scoped>\n",
       "    .dataframe tbody tr th:only-of-type {\n",
       "        vertical-align: middle;\n",
       "    }\n",
       "\n",
       "    .dataframe tbody tr th {\n",
       "        vertical-align: top;\n",
       "    }\n",
       "\n",
       "    .dataframe thead th {\n",
       "        text-align: right;\n",
       "    }\n",
       "</style>\n",
       "<table border=\"1\" class=\"dataframe\">\n",
       "  <thead>\n",
       "    <tr style=\"text-align: right;\">\n",
       "      <th></th>\n",
       "      <th>Price</th>\n",
       "      <th>VehicleType</th>\n",
       "      <th>RegistrationYear</th>\n",
       "      <th>Gearbox</th>\n",
       "      <th>Power</th>\n",
       "      <th>Model</th>\n",
       "      <th>Kilometer</th>\n",
       "      <th>FuelType</th>\n",
       "      <th>Brand</th>\n",
       "      <th>Repaired</th>\n",
       "    </tr>\n",
       "  </thead>\n",
       "  <tbody>\n",
       "    <tr>\n",
       "      <th>0</th>\n",
       "      <td>480</td>\n",
       "      <td>NaN</td>\n",
       "      <td>1993</td>\n",
       "      <td>manual</td>\n",
       "      <td>0</td>\n",
       "      <td>golf</td>\n",
       "      <td>150000</td>\n",
       "      <td>petrol</td>\n",
       "      <td>volkswagen</td>\n",
       "      <td>NaN</td>\n",
       "    </tr>\n",
       "    <tr>\n",
       "      <th>1</th>\n",
       "      <td>18300</td>\n",
       "      <td>coupe</td>\n",
       "      <td>2011</td>\n",
       "      <td>manual</td>\n",
       "      <td>190</td>\n",
       "      <td>NaN</td>\n",
       "      <td>125000</td>\n",
       "      <td>gasoline</td>\n",
       "      <td>audi</td>\n",
       "      <td>yes</td>\n",
       "    </tr>\n",
       "    <tr>\n",
       "      <th>2</th>\n",
       "      <td>9800</td>\n",
       "      <td>suv</td>\n",
       "      <td>2004</td>\n",
       "      <td>auto</td>\n",
       "      <td>163</td>\n",
       "      <td>grand</td>\n",
       "      <td>125000</td>\n",
       "      <td>gasoline</td>\n",
       "      <td>jeep</td>\n",
       "      <td>NaN</td>\n",
       "    </tr>\n",
       "    <tr>\n",
       "      <th>3</th>\n",
       "      <td>1500</td>\n",
       "      <td>small</td>\n",
       "      <td>2001</td>\n",
       "      <td>manual</td>\n",
       "      <td>75</td>\n",
       "      <td>golf</td>\n",
       "      <td>150000</td>\n",
       "      <td>petrol</td>\n",
       "      <td>volkswagen</td>\n",
       "      <td>no</td>\n",
       "    </tr>\n",
       "    <tr>\n",
       "      <th>4</th>\n",
       "      <td>3600</td>\n",
       "      <td>small</td>\n",
       "      <td>2008</td>\n",
       "      <td>manual</td>\n",
       "      <td>69</td>\n",
       "      <td>fabia</td>\n",
       "      <td>90000</td>\n",
       "      <td>gasoline</td>\n",
       "      <td>skoda</td>\n",
       "      <td>no</td>\n",
       "    </tr>\n",
       "  </tbody>\n",
       "</table>\n",
       "</div>"
      ],
      "text/plain": [
       "   Price VehicleType  RegistrationYear Gearbox  Power  Model  Kilometer  \\\n",
       "0    480         NaN              1993  manual      0   golf     150000   \n",
       "1  18300       coupe              2011  manual    190    NaN     125000   \n",
       "2   9800         suv              2004    auto    163  grand     125000   \n",
       "3   1500       small              2001  manual     75   golf     150000   \n",
       "4   3600       small              2008  manual     69  fabia      90000   \n",
       "\n",
       "   FuelType       Brand Repaired  \n",
       "0    petrol  volkswagen      NaN  \n",
       "1  gasoline        audi      yes  \n",
       "2  gasoline        jeep      NaN  \n",
       "3    petrol  volkswagen       no  \n",
       "4  gasoline       skoda       no  "
      ]
     },
     "execution_count": 5,
     "metadata": {},
     "output_type": "execute_result"
    }
   ],
   "source": [
    "data = data.drop(['DateCrawled', 'RegistrationMonth', 'DateCreated', 'NumberOfPictures', 'PostalCode', 'LastSeen'], axis=1)\n",
    "data.head()"
   ]
  },
  {
   "cell_type": "markdown",
   "metadata": {},
   "source": [
    "Проведем предобработку оставшихся данных"
   ]
  },
  {
   "cell_type": "code",
   "execution_count": 6,
   "metadata": {},
   "outputs": [
    {
     "data": {
      "image/png": "[encoded data removed]",
      "text/plain": [
       "<Figure size 864x720 with 1 Axes>"
      ]
     },
     "metadata": {
      "needs_background": "light"
     },
     "output_type": "display_data"
    }
   ],
   "source": [
    "#Построим диаграмму размаха (график «ящик с усами») для Price\n",
    "plt.figure(figsize=(12,10))\n",
    "sns.boxplot(data=data['Price'])\n",
    "plt.title('Диаграмма размаха \"Ящик с усами\"')\n",
    "plt.show()"
   ]
  },
  {
   "cell_type": "code",
   "execution_count": 7,
   "metadata": {},
   "outputs": [
    {
     "data": {
      "text/plain": [
       "0.05      200.0\n",
       "0.95    14600.0\n",
       "Name: Price, dtype: float64"
      ]
     },
     "execution_count": 7,
     "metadata": {},
     "output_type": "execute_result"
    }
   ],
   "source": [
    "#Посмотрим квантили\n",
    "data['Price'].quantile([.05, 0.95])"
   ]
  },
  {
   "cell_type": "code",
   "execution_count": 8,
   "metadata": {},
   "outputs": [
    {
     "data": {
      "text/plain": [
       "count    342337.000000\n",
       "mean       4571.855254\n",
       "std        4514.902138\n",
       "min          10.000000\n",
       "25%        1200.000000\n",
       "50%        2900.000000\n",
       "75%        6500.000000\n",
       "max       20000.000000\n",
       "Name: Price, dtype: float64"
      ]
     },
     "metadata": {},
     "output_type": "display_data"
    }
   ],
   "source": [
    "#Исключим данные с ценой меньше 10 и больше 30000\n",
    "data = data.query('10 <= Price <= 30000')\n",
    "\n",
    "display(data['Price'].describe())"
   ]
  },
  {
   "cell_type": "code",
   "execution_count": 9,
   "metadata": {},
   "outputs": [
    {
     "data": {
      "text/plain": [
       "0"
      ]
     },
     "execution_count": 9,
     "metadata": {},
     "output_type": "execute_result"
    }
   ],
   "source": [
    "#Заменим строки с пропусками Model на Unknown, так как узнать модель мы их не сможем\n",
    "data['Model'] = data['Model'].fillna('Unknown')\n",
    "\n",
    "data['Model'].isna().sum()"
   ]
  },
  {
   "cell_type": "code",
   "execution_count": 10,
   "metadata": {},
   "outputs": [],
   "source": [
    "#Заменим пропуски в VehicleType\n",
    "#data['VehicleType']=data['VehicleType'].fillna(data.groupby(['Brand', 'Model'])['VehicleType'].transform(lambda x:x.mode()[0] if not x.mode().empty else \"unknown\"))\n",
    "#Для этого напишем функцию  \n",
    "def fill_na(column, column1, column2):\n",
    "    data[column]=data[column].fillna(data.groupby([column1, column2])[column].transform(lambda x:x.mode()[0] if not x.mode().empty else \"unknown\"))"
   ]
  },
  {
   "cell_type": "code",
   "execution_count": 11,
   "metadata": {},
   "outputs": [
    {
     "data": {
      "text/plain": [
       "0"
      ]
     },
     "execution_count": 11,
     "metadata": {},
     "output_type": "execute_result"
    }
   ],
   "source": [
    "#Заменим пропуски в VehicleType\n",
    "fill_na('VehicleType', 'Brand', 'Model')\n",
    "\n",
    "data['VehicleType'].isna().sum()"
   ]
  },
  {
   "cell_type": "code",
   "execution_count": 12,
   "metadata": {},
   "outputs": [
    {
     "data": {
      "text/plain": [
       "0"
      ]
     },
     "execution_count": 12,
     "metadata": {},
     "output_type": "execute_result"
    }
   ],
   "source": [
    "#Заменим строки с пропусками Gearbox на Unknown, так как узнать тип коробки передач мы не сможем\n",
    "data['Gearbox'] = data['Gearbox'].fillna('Unknown')\n",
    "\n",
    "data['Gearbox'].isna().sum()"
   ]
  },
  {
   "cell_type": "code",
   "execution_count": 13,
   "metadata": {},
   "outputs": [
    {
     "data": {
      "text/plain": [
       "0"
      ]
     },
     "execution_count": 13,
     "metadata": {},
     "output_type": "execute_result"
    }
   ],
   "source": [
    "#Заменим пропуски в FuelType\n",
    "fill_na('FuelType', 'Brand', 'Model')\n",
    "\n",
    "data['FuelType'].isna().sum()"
   ]
  },
  {
   "cell_type": "code",
   "execution_count": 14,
   "metadata": {},
   "outputs": [
    {
     "data": {
      "text/plain": [
       "0"
      ]
     },
     "execution_count": 14,
     "metadata": {},
     "output_type": "execute_result"
    }
   ],
   "source": [
    "#Заменим строки с пропусками Repaired на Unknown, так как узнать был ремонт или нет мы не сможем\n",
    "data['Repaired'] = data['Repaired'].fillna('Unknown')\n",
    "\n",
    "data['Repaired'].isna().sum()"
   ]
  },
  {
   "cell_type": "code",
   "execution_count": 15,
   "metadata": {
    "scrolled": true
   },
   "outputs": [
    {
     "data": {
      "image/png": "[encoded data removed]",
      "text/plain": [
       "<Figure size 864x720 with 1 Axes>"
      ]
     },
     "metadata": {
      "needs_background": "light"
     },
     "output_type": "display_data"
    }
   ],
   "source": [
    "#Построим диаграмму размаха (график «ящик с усами») для RegistrationYear\n",
    "plt.figure(figsize=(12,10))\n",
    "sns.boxplot(data=data['RegistrationYear'])\n",
    "plt.title('Диаграмма размаха \"Ящик с усами\"')\n",
    "plt.show()"
   ]
  },
  {
   "cell_type": "code",
   "execution_count": 16,
   "metadata": {},
   "outputs": [
    {
     "data": {
      "text/plain": [
       "0.05    1993.0\n",
       "0.95    2016.0\n",
       "Name: RegistrationYear, dtype: float64"
      ]
     },
     "execution_count": 16,
     "metadata": {},
     "output_type": "execute_result"
    }
   ],
   "source": [
    "#Посмотрим квантили\n",
    "data['RegistrationYear'].quantile([.05, 0.95])"
   ]
  },
  {
   "cell_type": "code",
   "execution_count": 17,
   "metadata": {},
   "outputs": [
    {
     "data": {
      "text/plain": [
       "count    328532.000000\n",
       "mean       2002.621790\n",
       "std           6.807305\n",
       "min        1923.000000\n",
       "25%        1999.000000\n",
       "50%        2003.000000\n",
       "75%        2007.000000\n",
       "max        2016.000000\n",
       "Name: RegistrationYear, dtype: float64"
      ]
     },
     "metadata": {},
     "output_type": "display_data"
    }
   ],
   "source": [
    "#Исключим данные с годами меньше 1920 и больше 2016\n",
    "data = data.query('1920 <= RegistrationYear <= 2016')\n",
    "\n",
    "display(data['RegistrationYear'].describe())"
   ]
  },
  {
   "cell_type": "code",
   "execution_count": 18,
   "metadata": {},
   "outputs": [
    {
     "data": {
      "image/png": "[encoded data removed]",
      "text/plain": [
       "<Figure size 864x720 with 1 Axes>"
      ]
     },
     "metadata": {
      "needs_background": "light"
     },
     "output_type": "display_data"
    }
   ],
   "source": [
    "#Построим диаграмму размаха (график «ящик с усами») для Power\n",
    "plt.figure(figsize=(12,10))\n",
    "sns.boxplot(data=data['Power'])\n",
    "plt.title('Диаграмма размаха \"Ящик с усами\"')\n",
    "plt.show()"
   ]
  },
  {
   "cell_type": "code",
   "execution_count": 19,
   "metadata": {},
   "outputs": [
    {
     "data": {
      "text/plain": [
       "<AxesSubplot:>"
      ]
     },
     "execution_count": 19,
     "metadata": {},
     "output_type": "execute_result"
    },
    {
     "data": {
      "image/png": "[encoded data removed]",
      "text/plain": [
       "<Figure size 1080x360 with 1 Axes>"
      ]
     },
     "metadata": {
      "needs_background": "light"
     },
     "output_type": "display_data"
    }
   ],
   "source": [
    "#Построим гистрограмму Power\n",
    "data['Power'].hist(bins=100, range=(0, 1000), figsize=(15,5))"
   ]
  },
  {
   "cell_type": "code",
   "execution_count": 20,
   "metadata": {
    "scrolled": true
   },
   "outputs": [
    {
     "data": {
      "text/plain": [
       "0.05      0.0\n",
       "0.95    218.0\n",
       "Name: Power, dtype: float64"
      ]
     },
     "execution_count": 20,
     "metadata": {},
     "output_type": "execute_result"
    }
   ],
   "source": [
    "#Посмотрим квантили\n",
    "data['Power'].quantile([.05, 0.95])"
   ]
  },
  {
   "cell_type": "code",
   "execution_count": 21,
   "metadata": {
    "scrolled": true
   },
   "outputs": [
    {
     "data": {
      "text/plain": [
       "count    295910.000000\n",
       "mean        120.615701\n",
       "std          54.115699\n",
       "min           1.000000\n",
       "25%          75.000000\n",
       "50%         111.000000\n",
       "75%         150.000000\n",
       "max         700.000000\n",
       "Name: Power, dtype: float64"
      ]
     },
     "metadata": {},
     "output_type": "display_data"
    }
   ],
   "source": [
    "#Исключим данные с мощностью 0 и больше 700\n",
    "data = data.query('0 < Power <= 700')\n",
    "\n",
    "display(data['Power'].describe())"
   ]
  },
  {
   "cell_type": "code",
   "execution_count": 22,
   "metadata": {},
   "outputs": [
    {
     "data": {
      "text/plain": [
       "0.8350335384867187"
      ]
     },
     "execution_count": 22,
     "metadata": {},
     "output_type": "execute_result"
    }
   ],
   "source": [
    "# КОД РЕВЬЮЕРА\n",
    "data.shape[0] / 354369"
   ]
  },
  {
   "cell_type": "markdown",
   "metadata": {},
   "source": [
    "### Вывод\n",
    "1. Удалили явные дубликаты\n",
    "2. Удалили столбцы не несущие важной информации: DateCrawled, RegistrationMonth, DateCreated, NumberOfPictures, PostalCode, LastSeen\n",
    "3. Исключили пропуски заменяя/удаляя\n",
    "4. Удалили выбросы"
   ]
  },
  {
   "cell_type": "markdown",
   "metadata": {},
   "source": [
    "## Обучение моделей"
   ]
  },
  {
   "cell_type": "code",
   "execution_count": 23,
   "metadata": {},
   "outputs": [
    {
     "name": "stdout",
     "output_type": "stream",
     "text": [
      "['VehicleType', 'Gearbox', 'Model', 'FuelType', 'Brand', 'Repaired']\n"
     ]
    },
    {
     "data": {
      "text/plain": [
       "['RegistrationYear', 'Power', 'Kilometer']"
      ]
     },
     "execution_count": 23,
     "metadata": {},
     "output_type": "execute_result"
    }
   ],
   "source": [
    "#Категориальные признаки\n",
    "oe_data_linear = data.select_dtypes(include='object').columns.to_list()\n",
    "print(oe_data_linear)\n",
    "\n",
    "#Численные признаки\n",
    "num_scaler = data.select_dtypes(exclude='object').columns.to_list()\n",
    "num_scaler.remove('Price')\n",
    "num_scaler"
   ]
  },
  {
   "cell_type": "markdown",
   "metadata": {},
   "source": [
    "Выделим целевые признаки."
   ]
  },
  {
   "cell_type": "code",
   "execution_count": 24,
   "metadata": {},
   "outputs": [],
   "source": [
    "target = data[['Price']]\n",
    "features = data.drop(['Price'], axis=1)"
   ]
  },
  {
   "cell_type": "markdown",
   "metadata": {},
   "source": [
    "Разделим исходные данные на обучающую и тестовую выборки."
   ]
  },
  {
   "cell_type": "code",
   "execution_count": 25,
   "metadata": {
    "scrolled": true
   },
   "outputs": [
    {
     "name": "stdout",
     "output_type": "stream",
     "text": [
      "221932\n",
      "221932\n",
      "73978\n",
      "73978\n"
     ]
    }
   ],
   "source": [
    "features_train, features_test, target_train, target_test = train_test_split(\n",
    "    features, target, test_size=0.25, random_state=12345\n",
    ")\n",
    "\n",
    "#features_train_valid, features_test_valid, target_train_valid, target_test_valid = train_test_split(\n",
    "#    features_test, target_test, test_size=0.5, random_state=12345)\n",
    "\n",
    "print(features_train.shape[0])\n",
    "print(target_train.shape[0])\n",
    "print(features_test.shape[0])\n",
    "print(target_test.shape[0])"
   ]
  },
  {
   "cell_type": "code",
   "execution_count": 26,
   "metadata": {},
   "outputs": [],
   "source": [
    "features_train_orig = features_train.copy()\n",
    "target_train_orig = features_test.copy()"
   ]
  },
  {
   "cell_type": "markdown",
   "metadata": {},
   "source": [
    "Проведем кодирование используя OrdinalEncoder"
   ]
  },
  {
   "cell_type": "code",
   "execution_count": 27,
   "metadata": {},
   "outputs": [],
   "source": [
    "#encoder = OrdinalEncoder(dtype=np.int16)\n",
    "#encoder.fit(data[oe_data_linear])\n",
    "#data[oe_data_linear] = encoder.transform(data[oe_data_linear])\n",
    "#data = data.astype(np.int16)\n",
    "#data.info()\n",
    "\n",
    "def ordinal_encoder(train, test):\n",
    "    encoder = OrdinalEncoder(dtype=np.int16)\n",
    "    encoder.fit(train[oe_data_linear])\n",
    "    train[oe_data_linear] = encoder.transform(train[oe_data_linear])\n",
    "    test[oe_data_linear] = encoder.transform(test[oe_data_linear])\n",
    "    train = train.astype(np.int16)\n",
    "    \n",
    "ordinal_encoder(features_train, features_test)"
   ]
  },
  {
   "cell_type": "markdown",
   "metadata": {},
   "source": [
    "Стандартизируем признаки используя StandardScaler"
   ]
  },
  {
   "cell_type": "code",
   "execution_count": 28,
   "metadata": {},
   "outputs": [],
   "source": [
    "def scale_to_standard(train, test):\n",
    "    scaler = StandardScaler()\n",
    "    scaler.fit(train[num_scaler])\n",
    "    train[num_scaler] = scaler.transform(train[num_scaler])\n",
    "    test[num_scaler] = scaler.transform(test[num_scaler])\n",
    "\n",
    "scale_to_standard(features_train, features_test)"
   ]
  },
  {
   "cell_type": "markdown",
   "metadata": {},
   "source": [
    "~Обозначим категориальные и числовые признаки~"
   ]
  },
  {
   "cell_type": "code",
   "execution_count": 29,
   "metadata": {},
   "outputs": [],
   "source": [
    "#Категориальные признаки для OHE linear\n",
    "#ohe_features_linear = features_train.select_dtypes(include='object').columns.to_list()\n",
    "#print(ohe_features_linear)\n",
    "\n",
    "#Категориальные признаки для OHE RandomForestRegressor\n",
    "#ohe_features_rf = ohe_features_linear.copy()\n",
    "#ohe_features_rf.remove('Model')\n",
    "#ohe_features_rf"
   ]
  },
  {
   "cell_type": "code",
   "execution_count": 30,
   "metadata": {},
   "outputs": [],
   "source": [
    "#Численные признаки\n",
    "#num_features = features_train.select_dtypes(exclude='object').columns.to_list()\n",
    "#num_features.remove('Repaired')\n",
    "#num_features"
   ]
  },
  {
   "cell_type": "markdown",
   "metadata": {},
   "source": [
    "~Проведем кодирование и масштабирование используя make_column_transformer~"
   ]
  },
  {
   "cell_type": "code",
   "execution_count": 31,
   "metadata": {},
   "outputs": [],
   "source": [
    "#features_train_linear = features_train.copy()\n",
    "#features_test_linear = features_test.copy()"
   ]
  },
  {
   "cell_type": "code",
   "execution_count": 32,
   "metadata": {},
   "outputs": [],
   "source": [
    "# Признак repaired уже бинарный, его не будем кодировать/масштабировать\n",
    "# добавляем remainder='passthrough, чтобы он не пропал \n",
    "#col_transformer_linear = make_column_transformer(\n",
    "#    (\n",
    "#        OneHotEncoder(drop='first', handle_unknown='ignore'),\n",
    "#        ohe_features_linear\n",
    "#    ),\n",
    "#    (\n",
    "#        StandardScaler(), \n",
    "#        num_features\n",
    "#    ),\n",
    "#    remainder='passthrough',\n",
    "#)\n",
    "\n",
    "#features_train_ridge = pd.DataFrame.sparse.from_spmatrix(\n",
    "#    col_transformer_ridge.fit_transform(features_train_ridge),\n",
    "#    columns=col_transformer_ridge.get_feature_names_out()\n",
    "#)\n",
    "\n",
    "#Смотрим на результат\n",
    "#features_train_ridge.head()"
   ]
  },
  {
   "cell_type": "markdown",
   "metadata": {},
   "source": [
    "~Будем использовать pipeline~"
   ]
  },
  {
   "cell_type": "code",
   "execution_count": 33,
   "metadata": {},
   "outputs": [],
   "source": [
    "#model_linear = LinearRegression\n",
    "\n",
    "#pipeline_linear = make_pipeline(col_transformer_linear, model_linear(n_jobs=-1))\n",
    "\n",
    "#param_grid_linear = {\n",
    "#    'linearregression__normalize':[False, True],\n",
    "#}\n",
    "\n",
    "#gs_linear_pl = GridSearchCV(\n",
    "#    pipeline_linear,\n",
    "#    param_grid=param_grid_linear,\n",
    "#    scoring='neg_root_mean_squared_error',\n",
    "#    n_jobs=-1,\n",
    "#    verbose=1\n",
    "#)\n",
    "\n",
    "#gs_linear_pl.fit(features_train_linear, features_train)\n",
    "\n",
    "#gs_linear_best_score = gs_linear_pl.best_score_ * -1\n",
    "#gs_linear_best_params = gs_linear_pl.best_params_\n",
    "\n",
    "# лучшее значение RMSE на кросс-валидации\n",
    "#print(f'best_score: {gs_linear_best_score}')\n",
    "# лучшие гиперпараметры\n",
    "#print(f'best_params: {gs_linear_best_params}')"
   ]
  },
  {
   "cell_type": "code",
   "execution_count": 34,
   "metadata": {},
   "outputs": [],
   "source": [
    "#features_train_rf = features_train.copy()\n",
    "#features_test_rf = features_test.copy()"
   ]
  },
  {
   "cell_type": "code",
   "execution_count": 35,
   "metadata": {},
   "outputs": [],
   "source": [
    "#col_transformer_rf= make_column_transformer(\n",
    "#    (\n",
    "#        OneHotEncoder(drop='first', handle_unknown='ignore'), \n",
    "#        ohe_features_rf\n",
    "#    ),\n",
    "#    (\n",
    "#        OrdinalEncoder(handle_unknown='use_encoded_value', unknown_value=-1), \n",
    "#        ['Model']\n",
    "#    ),\n",
    "#    (\n",
    "#        StandardScaler(), \n",
    "#        num_features\n",
    "#    ),\n",
    "#    remainder='passthrough'\n",
    "#)\n",
    "\n",
    "#model_rf = RandomForestRegressor(random_state=RANDOM_STATE)\n",
    "\n",
    "#pipline_rf = make_pipeline(col_transformer_rf, model_rf)\n",
    "\n",
    "#param_grid_rf = {\n",
    "#    'randomforestregressor__n_estimators': range(50, 251, 50),\n",
    "#    'randomforestregressor__max_depth': range(2, 15),\n",
    "#    'randomforestregressor__min_samples_split': (2, 3, 4),\n",
    "#    'randomforestregressor__min_samples_leaf': (1, 2, 3, 4)\n",
    "#}\n",
    "\n",
    "# получается достаточно много комбинаций гиперпараметров при переборе\n",
    "# будем использовать RandomizedSearchCV, он работает на много быстрее\n",
    "#gs_rf = RandomizedSearchCV(\n",
    "#    pipline_rf, \n",
    "#    param_distributions=param_grid_rf, \n",
    "#    scoring='neg_root_mean_squared_error', \n",
    "#    n_jobs=-1, \n",
    "#    random_state=RANDOM_STATE\n",
    "#)\n",
    "\n",
    "#gs_rf.fit(features_train_rf, features_train)\n",
    "\n",
    "#gs_rf_best_score = gs_rf.best_score_ * -1\n",
    "#gs_rf_best_params = gs_rf.best_params_\n",
    "#print(f'best_score: {gs_rf_best_score}')\n",
    "#print(f'best_params: {gs_rf_best_params}')"
   ]
  },
  {
   "cell_type": "markdown",
   "metadata": {},
   "source": [
    "### LGBMRegressor"
   ]
  },
  {
   "cell_type": "code",
   "execution_count": 36,
   "metadata": {
    "scrolled": true
   },
   "outputs": [
    {
     "name": "stdout",
     "output_type": "stream",
     "text": [
      "Лучшие параметры:  {'boosting_type': 'gbdt', 'colsample_bytree': 1.0, 'learning_rate': 0.1, 'max_depth': -1, 'min_child_samples': 20, 'min_split_gain': 0.0, 'n_estimators': 100, 'num_leaves': 31, 'objective': 'regression', 'random_state': None, 'reg_alpha': 0.0, 'reg_lambda': 0.0, 'silent': True, 'subsample': 1.0, 'subsample_freq': 0}\n",
      "RMSE значение на тренеровочной выборке: 1613.74\n",
      "CPU times: user 5min 59s, sys: 2.02 s, total: 6min 1s\n",
      "Wall time: 6min 4s\n"
     ]
    }
   ],
   "source": [
    "%%time\n",
    "\n",
    "model_lgbm = LGBMRegressor()\n",
    "\n",
    "params_grid_lgbm = {\n",
    "    #'random_state' : [12345],\n",
    "    #'n_estimators' : [200, 500, 700],\n",
    "    #'max_depth' : [20, 30, 40],\n",
    "    #'num_leaves' : [120, 150, 200],\n",
    "    #'learning_rate':[0.05, 0.1, 0.3]\n",
    "    \n",
    "    'boosting_type':['gbdt'],\n",
    "    'num_leaves':[31],\n",
    "    'max_depth':[-1],\n",
    "    'learning_rate':[0.1],\n",
    "    'n_estimators':[100],\n",
    "    'objective':['regression'], # The default is two categories\n",
    "    'min_split_gain':[0.0],\n",
    "    'min_child_samples':[20],\n",
    "    'subsample':[1.0],\n",
    "    'subsample_freq':[0],\n",
    "    'colsample_bytree':[1.0],\n",
    "    'reg_alpha':[0.0],\n",
    "    'reg_lambda':[0.0],\n",
    "    'random_state':[None],\n",
    "    'silent':[True]\n",
    "}        \n",
    "\n",
    "#grid_cv = GridSearchCV(estimator=model_lgbm, param_grid=params_grid_lgbm, cv=3, n_jobs=-1, scoring='neg_mean_squared_error')\n",
    "#grid_cv.fit(features_train, target_train, categorical_feature=oe_data_linear)\n",
    "#print('Лучшие параметры: ', grid_cv.best_params_)\n",
    "#print('RMSE значение на тренеровочной выборке: {:.2f}'.format((-grid_cv.best_score_) ** 0.5))"
   ]
  },
  {
   "attachments": {
    "image.png": {
     "image/png": "[encoded data removed]"
    }
   },
   "cell_type": "markdown",
   "metadata": {},
   "source": [
    "![image.png](attachment:image.png)"
   ]
  },
  {
   "cell_type": "markdown",
   "metadata": {},
   "source": [
    "**Примечание.** Если запускать с подбором параметров, то не могу дождаться результата. "
   ]
  },
  {
   "cell_type": "markdown",
   "metadata": {},
   "source": [
    "### CatBoost"
   ]
  },
  {
   "cell_type": "code",
   "execution_count": 37,
   "metadata": {},
   "outputs": [
    {
     "name": "stdout",
     "output_type": "stream",
     "text": [
      "Learning rate set to 0.5\n",
      "0:\tlearn: 3304.6001328\ttotal: 119ms\tremaining: 5.85s\n",
      "10:\tlearn: 1923.3302797\ttotal: 664ms\tremaining: 2.35s\n",
      "20:\tlearn: 1833.5742058\ttotal: 1.17s\tremaining: 1.61s\n",
      "30:\tlearn: 1782.5654242\ttotal: 1.65s\tremaining: 1.01s\n",
      "40:\tlearn: 1752.9111712\ttotal: 2.14s\tremaining: 470ms\n",
      "49:\tlearn: 1731.3458776\ttotal: 2.58s\tremaining: 0us\n",
      "Learning rate set to 0.5\n",
      "0:\tlearn: 3348.4323108\ttotal: 71.6ms\tremaining: 3.51s\n",
      "10:\tlearn: 1918.9905953\ttotal: 655ms\tremaining: 2.32s\n",
      "20:\tlearn: 1835.7013812\ttotal: 1.19s\tremaining: 1.64s\n",
      "30:\tlearn: 1784.9704313\ttotal: 1.72s\tremaining: 1.06s\n",
      "40:\tlearn: 1746.6728296\ttotal: 2.24s\tremaining: 493ms\n",
      "49:\tlearn: 1725.7129368\ttotal: 2.71s\tremaining: 0us\n",
      "Learning rate set to 0.5\n",
      "0:\tlearn: 3357.7047773\ttotal: 68.3ms\tremaining: 3.35s\n",
      "10:\tlearn: 1925.6800777\ttotal: 646ms\tremaining: 2.29s\n",
      "20:\tlearn: 1827.1709640\ttotal: 1.14s\tremaining: 1.57s\n",
      "30:\tlearn: 1785.8369688\ttotal: 1.64s\tremaining: 1s\n",
      "40:\tlearn: 1756.3381366\ttotal: 2.12s\tremaining: 466ms\n",
      "49:\tlearn: 1724.4337758\ttotal: 2.57s\tremaining: 0us\n",
      "Learning rate set to 0.5\n",
      "0:\tlearn: 3304.6001328\ttotal: 60.8ms\tremaining: 6.02s\n",
      "10:\tlearn: 1923.3302797\ttotal: 592ms\tremaining: 4.79s\n",
      "20:\tlearn: 1833.5742058\ttotal: 1.1s\tremaining: 4.16s\n",
      "30:\tlearn: 1782.5654242\ttotal: 1.6s\tremaining: 3.57s\n",
      "40:\tlearn: 1752.9111712\ttotal: 2.17s\tremaining: 3.12s\n",
      "50:\tlearn: 1730.4617320\ttotal: 2.72s\tremaining: 2.61s\n",
      "60:\tlearn: 1708.7400983\ttotal: 3.23s\tremaining: 2.06s\n",
      "70:\tlearn: 1691.7825029\ttotal: 3.73s\tremaining: 1.52s\n",
      "80:\tlearn: 1680.2326760\ttotal: 4.24s\tremaining: 993ms\n",
      "90:\tlearn: 1666.6133166\ttotal: 4.72s\tremaining: 467ms\n",
      "99:\tlearn: 1658.6774697\ttotal: 5.17s\tremaining: 0us\n",
      "Learning rate set to 0.5\n",
      "0:\tlearn: 3348.4323108\ttotal: 68.5ms\tremaining: 6.78s\n",
      "10:\tlearn: 1918.9905953\ttotal: 584ms\tremaining: 4.72s\n",
      "20:\tlearn: 1835.7013812\ttotal: 1.08s\tremaining: 4.06s\n",
      "30:\tlearn: 1784.9704313\ttotal: 1.57s\tremaining: 3.49s\n",
      "40:\tlearn: 1746.6728296\ttotal: 2.07s\tremaining: 2.98s\n",
      "50:\tlearn: 1722.9216152\ttotal: 2.61s\tremaining: 2.51s\n",
      "60:\tlearn: 1702.5371152\ttotal: 3.15s\tremaining: 2.01s\n",
      "70:\tlearn: 1686.2365041\ttotal: 3.67s\tremaining: 1.5s\n",
      "80:\tlearn: 1672.1935502\ttotal: 4.18s\tremaining: 981ms\n",
      "90:\tlearn: 1663.1497444\ttotal: 4.68s\tremaining: 463ms\n",
      "99:\tlearn: 1653.5059623\ttotal: 5.12s\tremaining: 0us\n",
      "Learning rate set to 0.5\n",
      "0:\tlearn: 3357.7047773\ttotal: 69.5ms\tremaining: 6.88s\n",
      "10:\tlearn: 1925.6800777\ttotal: 589ms\tremaining: 4.77s\n",
      "20:\tlearn: 1827.1709640\ttotal: 1.08s\tremaining: 4.07s\n",
      "30:\tlearn: 1785.8369688\ttotal: 1.56s\tremaining: 3.48s\n",
      "40:\tlearn: 1756.3381366\ttotal: 2.06s\tremaining: 2.97s\n",
      "50:\tlearn: 1722.0709881\ttotal: 2.55s\tremaining: 2.45s\n",
      "60:\tlearn: 1707.7498367\ttotal: 3.04s\tremaining: 1.95s\n",
      "70:\tlearn: 1690.5711247\ttotal: 3.55s\tremaining: 1.45s\n",
      "80:\tlearn: 1678.0090969\ttotal: 4.05s\tremaining: 950ms\n",
      "90:\tlearn: 1665.4089369\ttotal: 4.55s\tremaining: 450ms\n",
      "99:\tlearn: 1657.5325241\ttotal: 5.01s\tremaining: 0us\n",
      "Learning rate set to 0.5\n",
      "0:\tlearn: 3191.8596811\ttotal: 73.2ms\tremaining: 3.59s\n",
      "10:\tlearn: 1834.3503173\ttotal: 733ms\tremaining: 2.6s\n",
      "20:\tlearn: 1746.5544545\ttotal: 1.37s\tremaining: 1.89s\n",
      "30:\tlearn: 1690.2389283\ttotal: 1.99s\tremaining: 1.22s\n",
      "40:\tlearn: 1658.0413153\ttotal: 2.63s\tremaining: 577ms\n",
      "49:\tlearn: 1639.1700627\ttotal: 3.26s\tremaining: 0us\n",
      "Learning rate set to 0.5\n",
      "0:\tlearn: 3216.3900056\ttotal: 83.8ms\tremaining: 4.11s\n",
      "10:\tlearn: 1832.0602537\ttotal: 815ms\tremaining: 2.89s\n",
      "20:\tlearn: 1751.4864876\ttotal: 1.47s\tremaining: 2.02s\n",
      "30:\tlearn: 1697.5192889\ttotal: 2.11s\tremaining: 1.29s\n",
      "40:\tlearn: 1661.5251442\ttotal: 2.79s\tremaining: 612ms\n",
      "49:\tlearn: 1643.1672813\ttotal: 3.41s\tremaining: 0us\n",
      "Learning rate set to 0.5\n",
      "0:\tlearn: 3231.1001094\ttotal: 83.7ms\tremaining: 4.1s\n",
      "10:\tlearn: 1845.3802017\ttotal: 793ms\tremaining: 2.81s\n",
      "20:\tlearn: 1756.8087254\ttotal: 1.52s\tremaining: 2.1s\n",
      "30:\tlearn: 1705.8902960\ttotal: 2.22s\tremaining: 1.36s\n",
      "40:\tlearn: 1672.8411809\ttotal: 2.92s\tremaining: 642ms\n",
      "49:\tlearn: 1650.4430989\ttotal: 3.56s\tremaining: 0us\n",
      "Learning rate set to 0.5\n",
      "0:\tlearn: 3191.8596811\ttotal: 84.1ms\tremaining: 8.33s\n",
      "10:\tlearn: 1834.3503173\ttotal: 805ms\tremaining: 6.51s\n",
      "20:\tlearn: 1746.5544545\ttotal: 1.49s\tremaining: 5.61s\n",
      "30:\tlearn: 1690.2389283\ttotal: 2.17s\tremaining: 4.83s\n",
      "40:\tlearn: 1658.0413153\ttotal: 2.85s\tremaining: 4.1s\n",
      "50:\tlearn: 1638.0786263\ttotal: 3.53s\tremaining: 3.39s\n",
      "60:\tlearn: 1616.4592631\ttotal: 4.19s\tremaining: 2.68s\n",
      "70:\tlearn: 1601.0222314\ttotal: 4.84s\tremaining: 1.98s\n",
      "80:\tlearn: 1586.6571011\ttotal: 5.49s\tremaining: 1.29s\n",
      "90:\tlearn: 1575.3916156\ttotal: 6.15s\tremaining: 609ms\n",
      "99:\tlearn: 1560.8209646\ttotal: 6.77s\tremaining: 0us\n",
      "Learning rate set to 0.5\n",
      "0:\tlearn: 3216.3900056\ttotal: 78.3ms\tremaining: 7.75s\n",
      "10:\tlearn: 1832.0602537\ttotal: 753ms\tremaining: 6.1s\n",
      "20:\tlearn: 1751.4864876\ttotal: 1.43s\tremaining: 5.37s\n",
      "30:\tlearn: 1697.5192889\ttotal: 2.09s\tremaining: 4.66s\n",
      "40:\tlearn: 1661.5251442\ttotal: 2.85s\tremaining: 4.09s\n",
      "50:\tlearn: 1641.8331027\ttotal: 3.56s\tremaining: 3.42s\n",
      "60:\tlearn: 1622.0426068\ttotal: 4.27s\tremaining: 2.73s\n",
      "70:\tlearn: 1604.7605544\ttotal: 4.95s\tremaining: 2.02s\n",
      "80:\tlearn: 1585.9255233\ttotal: 5.66s\tremaining: 1.33s\n",
      "90:\tlearn: 1572.3614147\ttotal: 6.33s\tremaining: 626ms\n",
      "99:\tlearn: 1560.4815570\ttotal: 6.92s\tremaining: 0us\n",
      "Learning rate set to 0.5\n",
      "0:\tlearn: 3231.1001094\ttotal: 80.3ms\tremaining: 7.95s\n",
      "10:\tlearn: 1845.3802017\ttotal: 800ms\tremaining: 6.47s\n",
      "20:\tlearn: 1756.8087254\ttotal: 1.45s\tremaining: 5.45s\n",
      "30:\tlearn: 1705.8902960\ttotal: 2.12s\tremaining: 4.71s\n",
      "40:\tlearn: 1672.8411809\ttotal: 2.77s\tremaining: 3.98s\n",
      "50:\tlearn: 1648.1408400\ttotal: 3.44s\tremaining: 3.3s\n",
      "60:\tlearn: 1626.9981041\ttotal: 4.21s\tremaining: 2.69s\n",
      "70:\tlearn: 1612.8627501\ttotal: 4.94s\tremaining: 2.02s\n",
      "80:\tlearn: 1601.4254149\ttotal: 5.63s\tremaining: 1.32s\n",
      "90:\tlearn: 1583.0005503\ttotal: 6.35s\tremaining: 628ms\n",
      "99:\tlearn: 1571.3809190\ttotal: 6.99s\tremaining: 0us\n",
      "Learning rate set to 0.5\n",
      "0:\tlearn: 3101.3475864\ttotal: 113ms\tremaining: 5.56s\n",
      "10:\tlearn: 1729.3487848\ttotal: 1.15s\tremaining: 4.07s\n",
      "20:\tlearn: 1640.2050246\ttotal: 2.08s\tremaining: 2.88s\n",
      "30:\tlearn: 1580.8650580\ttotal: 3.04s\tremaining: 1.86s\n",
      "40:\tlearn: 1530.4316096\ttotal: 4.01s\tremaining: 880ms\n",
      "49:\tlearn: 1505.8357822\ttotal: 4.86s\tremaining: 0us\n",
      "Learning rate set to 0.5\n",
      "0:\tlearn: 3137.5797435\ttotal: 134ms\tremaining: 6.54s\n",
      "10:\tlearn: 1732.3251392\ttotal: 1.1s\tremaining: 3.91s\n",
      "20:\tlearn: 1633.8387468\ttotal: 2.03s\tremaining: 2.81s\n",
      "30:\tlearn: 1578.6774483\ttotal: 2.98s\tremaining: 1.83s\n",
      "40:\tlearn: 1541.4314134\ttotal: 3.92s\tremaining: 862ms\n",
      "49:\tlearn: 1516.3063750\ttotal: 4.78s\tremaining: 0us\n",
      "Learning rate set to 0.5\n",
      "0:\tlearn: 3145.6626027\ttotal: 106ms\tremaining: 5.19s\n",
      "10:\tlearn: 1743.2652850\ttotal: 1.09s\tremaining: 3.85s\n",
      "20:\tlearn: 1656.9914941\ttotal: 2.06s\tremaining: 2.84s\n",
      "30:\tlearn: 1602.0260296\ttotal: 3.06s\tremaining: 1.87s\n",
      "40:\tlearn: 1554.3518318\ttotal: 4.09s\tremaining: 899ms\n",
      "49:\tlearn: 1513.0371259\ttotal: 4.98s\tremaining: 0us\n",
      "Learning rate set to 0.5\n",
      "0:\tlearn: 3101.3475864\ttotal: 106ms\tremaining: 10.5s\n",
      "10:\tlearn: 1729.3487848\ttotal: 1.14s\tremaining: 9.19s\n",
      "20:\tlearn: 1640.2050246\ttotal: 2.07s\tremaining: 7.8s\n",
      "30:\tlearn: 1580.8650580\ttotal: 3.03s\tremaining: 6.74s\n",
      "40:\tlearn: 1530.4316096\ttotal: 3.98s\tremaining: 5.72s\n",
      "50:\tlearn: 1501.6716038\ttotal: 4.96s\tremaining: 4.77s\n",
      "60:\tlearn: 1478.4693484\ttotal: 5.96s\tremaining: 3.81s\n",
      "70:\tlearn: 1455.5550644\ttotal: 6.89s\tremaining: 2.81s\n",
      "80:\tlearn: 1438.7437359\ttotal: 7.91s\tremaining: 1.85s\n",
      "90:\tlearn: 1421.2733209\ttotal: 8.84s\tremaining: 875ms\n",
      "99:\tlearn: 1407.8092143\ttotal: 9.71s\tremaining: 0us\n",
      "Learning rate set to 0.5\n",
      "0:\tlearn: 3137.5797435\ttotal: 117ms\tremaining: 11.6s\n",
      "10:\tlearn: 1732.3251392\ttotal: 1.15s\tremaining: 9.32s\n",
      "20:\tlearn: 1633.8387468\ttotal: 2.16s\tremaining: 8.12s\n",
      "30:\tlearn: 1578.6774483\ttotal: 3.11s\tremaining: 6.92s\n",
      "40:\tlearn: 1541.4314134\ttotal: 4.08s\tremaining: 5.87s\n",
      "50:\tlearn: 1512.5234504\ttotal: 5.03s\tremaining: 4.83s\n",
      "60:\tlearn: 1480.5751982\ttotal: 6.03s\tremaining: 3.86s\n",
      "70:\tlearn: 1459.3571085\ttotal: 7.09s\tremaining: 2.9s\n",
      "80:\tlearn: 1438.0905598\ttotal: 8.11s\tremaining: 1.9s\n",
      "90:\tlearn: 1416.8602600\ttotal: 9.03s\tremaining: 893ms\n",
      "99:\tlearn: 1399.9779964\ttotal: 9.88s\tremaining: 0us\n",
      "Learning rate set to 0.5\n",
      "0:\tlearn: 3145.6626027\ttotal: 104ms\tremaining: 10.3s\n",
      "10:\tlearn: 1743.2652850\ttotal: 1.09s\tremaining: 8.85s\n",
      "20:\tlearn: 1656.9914941\ttotal: 2.21s\tremaining: 8.3s\n",
      "30:\tlearn: 1602.0260296\ttotal: 3.15s\tremaining: 7.02s\n",
      "40:\tlearn: 1554.3518318\ttotal: 4.09s\tremaining: 5.89s\n",
      "50:\tlearn: 1511.3416735\ttotal: 5.06s\tremaining: 4.86s\n",
      "60:\tlearn: 1487.0644657\ttotal: 6.07s\tremaining: 3.88s\n",
      "70:\tlearn: 1463.0787494\ttotal: 7.04s\tremaining: 2.87s\n",
      "80:\tlearn: 1446.0224851\ttotal: 8.01s\tremaining: 1.88s\n",
      "90:\tlearn: 1431.2905562\ttotal: 8.95s\tremaining: 885ms\n",
      "99:\tlearn: 1415.1393221\ttotal: 9.82s\tremaining: 0us\n",
      "Learning rate set to 0.5\n",
      "0:\tlearn: 3102.2325481\ttotal: 151ms\tremaining: 14.9s\n",
      "10:\tlearn: 1729.6358927\ttotal: 1.55s\tremaining: 12.5s\n",
      "20:\tlearn: 1636.0572064\ttotal: 2.92s\tremaining: 11s\n",
      "30:\tlearn: 1580.8227413\ttotal: 4.28s\tremaining: 9.54s\n",
      "40:\tlearn: 1546.7118206\ttotal: 5.8s\tremaining: 8.35s\n",
      "50:\tlearn: 1515.6062529\ttotal: 7.21s\tremaining: 6.93s\n",
      "60:\tlearn: 1494.2791391\ttotal: 8.67s\tremaining: 5.54s\n",
      "70:\tlearn: 1480.8777397\ttotal: 10.1s\tremaining: 4.13s\n",
      "80:\tlearn: 1460.3488852\ttotal: 11.5s\tremaining: 2.7s\n",
      "90:\tlearn: 1441.4911356\ttotal: 12.9s\tremaining: 1.27s\n",
      "99:\tlearn: 1431.7168348\ttotal: 14.2s\tremaining: 0us\n",
      "Лучшие параметры:  {'max_depth': 10, 'n_estimators': 100, 'random_state': 12345, 'verbose': 0}\n",
      "RMSE значение на тренеровочной выборке: 1602.68\n",
      "CPU times: user 1min 58s, sys: 1.03 s, total: 1min 59s\n",
      "Wall time: 2min 15s\n"
     ]
    }
   ],
   "source": [
    "%%time\n",
    "\n",
    "model_cat = CatBoostRegressor()\n",
    "params_grid_cat = {\n",
    "    'n_estimators' : [50, 100],\n",
    "    'verbose' : [0],\n",
    "    'random_state' : [RANDOM_STATE],\n",
    "    'max_depth' : [5, 7, 10]\n",
    "}\n",
    "\n",
    "grid_cv = GridSearchCV(estimator=model_cat, param_grid=params_grid_cat, cv=3, n_jobs=-1, scoring='neg_mean_squared_error')\n",
    "grid_cv.fit(features_train, target_train, cat_features=oe_data_linear, verbose=10)\n",
    "print('Лучшие параметры: ', grid_cv.best_params_)\n",
    "print('RMSE значение на тренеровочной выборке: {:.2f}'.format((-grid_cv.best_score_) ** 0.5))"
   ]
  },
  {
   "attachments": {
    "image.png": {
     "image/png": "[encoded data removed]"
    }
   },
   "cell_type": "markdown",
   "metadata": {},
   "source": [
    "![image.png](attachment:image.png)"
   ]
  },
  {
   "cell_type": "markdown",
   "metadata": {},
   "source": [
    "### RandomForestRegressor"
   ]
  },
  {
   "cell_type": "code",
   "execution_count": 38,
   "metadata": {},
   "outputs": [
    {
     "name": "stdout",
     "output_type": "stream",
     "text": [
      "RMSE значение на тренеровочной выборке:  1798.7583701497547\n",
      "CPU times: user 33 s, sys: 119 ms, total: 33.1 s\n",
      "Wall time: 33.1 s\n"
     ]
    }
   ],
   "source": [
    "%%time\n",
    "\n",
    "#model_lr = LinearRegression()\n",
    "model_rfr = RandomForestRegressor(max_depth=10, random_state=RANDOM_STATE)\n",
    "model_rfr.fit(features_train, target_train)\n",
    "target_predict = model_rfr.predict(features_train)\n",
    "rmse_rfr = mean_squared_error(target_train, target_predict) ** .5\n",
    "print('RMSE значение на тренеровочной выборке: ', rmse_rfr)"
   ]
  },
  {
   "cell_type": "markdown",
   "metadata": {},
   "source": [
    "### Вывод. Получили следующие реузультаты:\n",
    "1. LGBMRegressor. RMSE значение на тренеровочной выборке: 1613.74 Wall time: 6min 4s\n",
    "2. CatBoost. RMSE значение на тренеровочной выборке: 1602.68. Wall time: 2min 15s\n",
    "3. RandomForestRegressor. RMSE значение на тренеровочной выборке:  1798.76. Wall time: 33.1 s"
   ]
  },
  {
   "cell_type": "markdown",
   "metadata": {},
   "source": [
    "## Анализ моделей"
   ]
  },
  {
   "cell_type": "markdown",
   "metadata": {},
   "source": [
    "Лучший результат показала CatBoost. RMSE значение на тренеровочной выборке: 1602.68. Wall time: 2min 15s\n",
    "\n",
    "Проверим лучшую модель на тестовой выборке."
   ]
  },
  {
   "cell_type": "code",
   "execution_count": 44,
   "metadata": {},
   "outputs": [
    {
     "name": "stdout",
     "output_type": "stream",
     "text": [
      "RMSE значение на тестовой выборке:  1357.5233206787018\n",
      "CPU times: user 2.59 s, sys: 23.8 ms, total: 2.61 s\n",
      "Wall time: 3.12 s\n"
     ]
    }
   ],
   "source": [
    "%%time\n",
    "\n",
    "model_cat = CatBoostRegressor(n_estimators=100, verbose=0, random_state=RANDOM_STATE, max_depth=10)\n",
    "model_cat.fit(features_test, target_test)\n",
    "target_predict = model_cat.predict(features_test)\n",
    "rsme_cat = mean_squared_error(target_test, target_predict) ** 0.5\n",
    "print('RMSE значение на тестовой выборке: ', rsme_cat)"
   ]
  },
  {
   "cell_type": "markdown",
   "metadata": {},
   "source": [
    "Проверка на тестовой выборке показала хороший результат"
   ]
  },
  {
   "cell_type": "markdown",
   "metadata": {},
   "source": [
    "### Вывод\n",
    "Построили три модели: LGBMRegressor, CatBoost, RandomForestRegressor.\n",
    "\n",
    "Результаты:\n",
    "1. LGBMRegressor. RMSE значение на тренеровочной выборке: 1613.74 Wall time: 6min 4s\n",
    "2. CatBoost. RMSE значение на тренеровочной выборке: 1602.68. Wall time: 2min 15s\n",
    "3. RandomForestRegressor. RMSE значение на тренеровочной выборке: 1798.76. Wall time: 33.1 s\n",
    "\n",
    "Лучшую модель выбрали CatBoost с RMSE 1602.68. "
   ]
  },
  {
   "cell_type": "markdown",
   "metadata": {},
   "source": [
    "## Чек-лист проверки"
   ]
  },
  {
   "cell_type": "markdown",
   "metadata": {},
   "source": [
    "Поставьте 'x' в выполненных пунктах. Далее нажмите Shift+Enter."
   ]
  },
  {
   "cell_type": "markdown",
   "metadata": {},
   "source": [
    "- [x]  Jupyter Notebook открыт\n",
    "- [x]  Весь код выполняется без ошибок\n",
    "- [x]  Ячейки с кодом расположены в порядке исполнения\n",
    "- [x]  Выполнена загрузка и подготовка данных\n",
    "- [x]  Выполнено обучение моделей\n",
    "- [x]  Есть анализ скорости работы и качества моделей"
   ]
  },
  {
   "cell_type": "code",
   "execution_count": null,
   "metadata": {},
   "outputs": [],
   "source": []
  }
 ],
 "metadata": {
  "ExecuteTimeLog": [
   {
    "duration": 430,
    "start_time": "2023-05-02T20:38:21.842Z"
   },
   {
    "duration": 1130,
    "start_time": "2023-05-02T20:39:09.714Z"
   },
   {
    "duration": 1437,
    "start_time": "2023-05-02T20:39:34.642Z"
   },
   {
    "duration": 1431,
    "start_time": "2023-05-02T21:04:29.859Z"
   },
   {
    "duration": 1478,
    "start_time": "2023-05-02T21:04:47.090Z"
   },
   {
    "duration": 47,
    "start_time": "2023-05-03T06:42:37.068Z"
   },
   {
    "duration": 412,
    "start_time": "2023-05-03T06:42:43.601Z"
   },
   {
    "duration": 2842,
    "start_time": "2023-05-03T06:42:44.014Z"
   },
   {
    "duration": 1354,
    "start_time": "2023-05-03T06:42:46.858Z"
   },
   {
    "duration": 511,
    "start_time": "2023-05-03T06:42:48.215Z"
   },
   {
    "duration": 506,
    "start_time": "2023-05-03T06:43:22.693Z"
   },
   {
    "duration": 30,
    "start_time": "2023-05-03T09:42:29.508Z"
   },
   {
    "duration": 117,
    "start_time": "2023-05-03T09:42:34.934Z"
   },
   {
    "duration": 416,
    "start_time": "2023-05-03T09:42:46.409Z"
   },
   {
    "duration": 909,
    "start_time": "2023-05-03T09:42:46.827Z"
   },
   {
    "duration": 1439,
    "start_time": "2023-05-03T09:42:47.737Z"
   },
   {
    "duration": 540,
    "start_time": "2023-05-03T09:42:49.178Z"
   },
   {
    "duration": 51,
    "start_time": "2023-05-03T09:42:49.720Z"
   },
   {
    "duration": 75,
    "start_time": "2023-05-03T13:11:47.594Z"
   },
   {
    "duration": 13,
    "start_time": "2023-05-03T13:12:22.181Z"
   },
   {
    "duration": 574,
    "start_time": "2023-05-03T13:13:04.536Z"
   },
   {
    "duration": 22,
    "start_time": "2023-05-03T13:13:10.401Z"
   },
   {
    "duration": 551,
    "start_time": "2023-05-03T13:13:33.056Z"
   },
   {
    "duration": 59,
    "start_time": "2023-05-03T13:13:37.598Z"
   },
   {
    "duration": 148,
    "start_time": "2023-05-03T13:14:34.743Z"
   },
   {
    "duration": 217,
    "start_time": "2023-05-03T13:14:56.813Z"
   },
   {
    "duration": 20,
    "start_time": "2023-05-03T13:30:07.763Z"
   },
   {
    "duration": 14,
    "start_time": "2023-05-03T13:30:30.501Z"
   },
   {
    "duration": 29,
    "start_time": "2023-05-03T13:50:22.504Z"
   },
   {
    "duration": 18,
    "start_time": "2023-05-03T13:51:43.001Z"
   },
   {
    "duration": 70,
    "start_time": "2023-05-03T20:17:08.187Z"
   },
   {
    "duration": 1811,
    "start_time": "2023-05-03T20:17:54.839Z"
   },
   {
    "duration": 2314,
    "start_time": "2023-05-03T20:17:56.654Z"
   },
   {
    "duration": 1837,
    "start_time": "2023-05-03T20:17:58.970Z"
   },
   {
    "duration": 757,
    "start_time": "2023-05-03T20:18:00.813Z"
   },
   {
    "duration": 69,
    "start_time": "2023-05-03T20:18:01.573Z"
   },
   {
    "duration": 331,
    "start_time": "2023-05-03T20:18:01.645Z"
   },
   {
    "duration": 23,
    "start_time": "2023-05-03T20:18:01.977Z"
   },
   {
    "duration": 65,
    "start_time": "2023-05-03T20:18:02.003Z"
   },
   {
    "duration": 34,
    "start_time": "2023-05-03T20:18:02.070Z"
   },
   {
    "duration": 173,
    "start_time": "2023-05-03T20:18:02.110Z"
   },
   {
    "duration": 14,
    "start_time": "2023-05-03T20:25:31.462Z"
   },
   {
    "duration": 1397,
    "start_time": "2023-05-03T20:25:38.387Z"
   },
   {
    "duration": 1054,
    "start_time": "2023-05-03T20:25:39.786Z"
   },
   {
    "duration": 2005,
    "start_time": "2023-05-03T20:25:40.842Z"
   },
   {
    "duration": 759,
    "start_time": "2023-05-03T20:25:42.850Z"
   },
   {
    "duration": 71,
    "start_time": "2023-05-03T20:25:43.611Z"
   },
   {
    "duration": 271,
    "start_time": "2023-05-03T20:25:43.684Z"
   },
   {
    "duration": 13,
    "start_time": "2023-05-03T20:25:43.957Z"
   },
   {
    "duration": 62,
    "start_time": "2023-05-03T20:25:43.972Z"
   },
   {
    "duration": 22,
    "start_time": "2023-05-03T20:25:44.036Z"
   },
   {
    "duration": 5,
    "start_time": "2023-05-03T20:25:44.061Z"
   },
   {
    "duration": 175,
    "start_time": "2023-05-03T20:25:44.068Z"
   },
   {
    "duration": 727,
    "start_time": "2023-05-03T20:26:05.955Z"
   },
   {
    "duration": 1176,
    "start_time": "2023-05-03T20:48:39.292Z"
   },
   {
    "duration": 1337,
    "start_time": "2023-05-03T20:50:23.008Z"
   },
   {
    "duration": 15,
    "start_time": "2023-05-03T20:50:57.643Z"
   },
   {
    "duration": 919,
    "start_time": "2023-05-03T20:51:05.939Z"
   },
   {
    "duration": 16,
    "start_time": "2023-05-03T20:51:25.022Z"
   },
   {
    "duration": 46,
    "start_time": "2023-05-03T21:47:22.628Z"
   },
   {
    "duration": 63,
    "start_time": "2023-05-03T21:48:16.751Z"
   },
   {
    "duration": 1310,
    "start_time": "2023-05-03T21:48:26.545Z"
   },
   {
    "duration": 1000,
    "start_time": "2023-05-03T21:48:27.858Z"
   },
   {
    "duration": 1701,
    "start_time": "2023-05-03T21:48:28.860Z"
   },
   {
    "duration": 656,
    "start_time": "2023-05-03T21:48:30.564Z"
   },
   {
    "duration": 57,
    "start_time": "2023-05-03T21:48:31.222Z"
   },
   {
    "duration": 263,
    "start_time": "2023-05-03T21:48:31.280Z"
   },
   {
    "duration": 13,
    "start_time": "2023-05-03T21:48:31.544Z"
   },
   {
    "duration": 99,
    "start_time": "2023-05-03T21:48:31.559Z"
   },
   {
    "duration": 18,
    "start_time": "2023-05-03T21:48:31.661Z"
   },
   {
    "duration": 91,
    "start_time": "2023-05-03T21:48:31.682Z"
   },
   {
    "duration": 12,
    "start_time": "2023-05-03T21:48:31.774Z"
   },
   {
    "duration": 20,
    "start_time": "2023-05-03T21:48:31.787Z"
   },
   {
    "duration": 7839,
    "start_time": "2023-05-03T21:48:31.810Z"
   },
   {
    "duration": 28,
    "start_time": "2023-05-03T22:06:34.670Z"
   },
   {
    "duration": 27,
    "start_time": "2023-05-03T22:09:13.839Z"
   },
   {
    "duration": 1317,
    "start_time": "2023-05-03T22:10:56.498Z"
   },
   {
    "duration": 1176,
    "start_time": "2023-05-03T22:11:08.279Z"
   },
   {
    "duration": 865,
    "start_time": "2023-05-03T22:11:09.457Z"
   },
   {
    "duration": 1446,
    "start_time": "2023-05-03T22:11:10.324Z"
   },
   {
    "duration": 552,
    "start_time": "2023-05-03T22:11:11.772Z"
   },
   {
    "duration": 53,
    "start_time": "2023-05-03T22:11:12.325Z"
   },
   {
    "duration": 209,
    "start_time": "2023-05-03T22:11:12.391Z"
   },
   {
    "duration": 15,
    "start_time": "2023-05-03T22:11:12.603Z"
   },
   {
    "duration": 33,
    "start_time": "2023-05-03T22:11:12.620Z"
   },
   {
    "duration": 47,
    "start_time": "2023-05-03T22:11:12.655Z"
   },
   {
    "duration": 57,
    "start_time": "2023-05-03T22:11:12.706Z"
   },
   {
    "duration": 1480,
    "start_time": "2023-05-03T22:11:12.765Z"
   },
   {
    "duration": 0,
    "start_time": "2023-05-03T22:11:14.247Z"
   },
   {
    "duration": 0,
    "start_time": "2023-05-03T22:11:14.248Z"
   },
   {
    "duration": 1304,
    "start_time": "2023-05-03T22:22:27.380Z"
   },
   {
    "duration": 911,
    "start_time": "2023-05-03T22:22:28.685Z"
   },
   {
    "duration": 1449,
    "start_time": "2023-05-03T22:22:29.600Z"
   },
   {
    "duration": 598,
    "start_time": "2023-05-03T22:22:31.051Z"
   },
   {
    "duration": 61,
    "start_time": "2023-05-03T22:22:31.652Z"
   },
   {
    "duration": 247,
    "start_time": "2023-05-03T22:22:31.715Z"
   },
   {
    "duration": 14,
    "start_time": "2023-05-03T22:22:31.963Z"
   },
   {
    "duration": 50,
    "start_time": "2023-05-03T22:22:31.979Z"
   },
   {
    "duration": 18,
    "start_time": "2023-05-03T22:22:32.031Z"
   },
   {
    "duration": 76,
    "start_time": "2023-05-03T22:22:32.051Z"
   },
   {
    "duration": 1335,
    "start_time": "2023-05-03T22:22:32.129Z"
   },
   {
    "duration": 0,
    "start_time": "2023-05-03T22:22:33.466Z"
   },
   {
    "duration": 0,
    "start_time": "2023-05-03T22:22:33.467Z"
   },
   {
    "duration": 1211,
    "start_time": "2023-05-03T22:23:36.305Z"
   },
   {
    "duration": 950,
    "start_time": "2023-05-03T22:23:37.519Z"
   },
   {
    "duration": 1402,
    "start_time": "2023-05-03T22:23:38.471Z"
   },
   {
    "duration": 548,
    "start_time": "2023-05-03T22:23:39.876Z"
   },
   {
    "duration": 65,
    "start_time": "2023-05-03T22:23:40.426Z"
   },
   {
    "duration": 217,
    "start_time": "2023-05-03T22:23:40.494Z"
   },
   {
    "duration": 12,
    "start_time": "2023-05-03T22:23:40.713Z"
   },
   {
    "duration": 29,
    "start_time": "2023-05-03T22:23:40.727Z"
   },
   {
    "duration": 51,
    "start_time": "2023-05-03T22:23:40.758Z"
   },
   {
    "duration": 52,
    "start_time": "2023-05-03T22:23:40.812Z"
   },
   {
    "duration": 4,
    "start_time": "2023-05-03T22:23:40.866Z"
   },
   {
    "duration": 135,
    "start_time": "2023-05-03T22:23:40.872Z"
   },
   {
    "duration": 319,
    "start_time": "2023-05-03T22:23:55.899Z"
   },
   {
    "duration": 4138,
    "start_time": "2023-05-04T06:23:29.488Z"
   },
   {
    "duration": 3333,
    "start_time": "2023-05-04T06:23:33.628Z"
   },
   {
    "duration": 1447,
    "start_time": "2023-05-04T06:23:36.963Z"
   },
   {
    "duration": 538,
    "start_time": "2023-05-04T06:23:38.412Z"
   },
   {
    "duration": 53,
    "start_time": "2023-05-04T06:23:38.953Z"
   },
   {
    "duration": 223,
    "start_time": "2023-05-04T06:23:39.008Z"
   },
   {
    "duration": 18,
    "start_time": "2023-05-04T06:23:39.233Z"
   },
   {
    "duration": 37,
    "start_time": "2023-05-04T06:23:39.252Z"
   },
   {
    "duration": 15,
    "start_time": "2023-05-04T06:23:39.291Z"
   },
   {
    "duration": 74,
    "start_time": "2023-05-04T06:23:39.309Z"
   },
   {
    "duration": 4,
    "start_time": "2023-05-04T06:23:39.385Z"
   },
   {
    "duration": 422,
    "start_time": "2023-05-04T06:23:39.391Z"
   },
   {
    "duration": 22,
    "start_time": "2023-05-04T06:24:07.347Z"
   },
   {
    "duration": 5,
    "start_time": "2023-05-04T07:22:22.881Z"
   },
   {
    "duration": 19,
    "start_time": "2023-05-04T07:22:27.164Z"
   },
   {
    "duration": 1321,
    "start_time": "2023-05-04T07:22:43.481Z"
   },
   {
    "duration": 1859,
    "start_time": "2023-05-04T07:22:44.804Z"
   },
   {
    "duration": 1806,
    "start_time": "2023-05-04T07:22:46.665Z"
   },
   {
    "duration": 615,
    "start_time": "2023-05-04T07:22:48.474Z"
   },
   {
    "duration": 61,
    "start_time": "2023-05-04T07:22:49.092Z"
   },
   {
    "duration": 234,
    "start_time": "2023-05-04T07:22:49.158Z"
   },
   {
    "duration": 18,
    "start_time": "2023-05-04T07:22:49.394Z"
   },
   {
    "duration": 55,
    "start_time": "2023-05-04T07:22:49.413Z"
   },
   {
    "duration": 18,
    "start_time": "2023-05-04T07:22:49.470Z"
   },
   {
    "duration": 93,
    "start_time": "2023-05-04T07:22:49.492Z"
   },
   {
    "duration": 5,
    "start_time": "2023-05-04T07:22:49.587Z"
   },
   {
    "duration": 470,
    "start_time": "2023-05-04T07:22:49.595Z"
   },
   {
    "duration": 24,
    "start_time": "2023-05-04T07:24:05.129Z"
   },
   {
    "duration": 15,
    "start_time": "2023-05-04T07:24:14.435Z"
   },
   {
    "duration": 14,
    "start_time": "2023-05-04T07:37:23.599Z"
   },
   {
    "duration": 1395,
    "start_time": "2023-05-04T07:37:41.457Z"
   },
   {
    "duration": 1014,
    "start_time": "2023-05-04T07:37:42.854Z"
   },
   {
    "duration": 1610,
    "start_time": "2023-05-04T07:37:43.870Z"
   },
   {
    "duration": 634,
    "start_time": "2023-05-04T07:37:45.482Z"
   },
   {
    "duration": 68,
    "start_time": "2023-05-04T07:37:46.117Z"
   },
   {
    "duration": 220,
    "start_time": "2023-05-04T07:37:46.187Z"
   },
   {
    "duration": 13,
    "start_time": "2023-05-04T07:37:46.409Z"
   },
   {
    "duration": 33,
    "start_time": "2023-05-04T07:37:46.435Z"
   },
   {
    "duration": 18,
    "start_time": "2023-05-04T07:37:46.470Z"
   },
   {
    "duration": 104,
    "start_time": "2023-05-04T07:37:46.491Z"
   },
   {
    "duration": 5,
    "start_time": "2023-05-04T07:37:46.599Z"
   },
   {
    "duration": 372,
    "start_time": "2023-05-04T07:37:46.606Z"
   },
   {
    "duration": 73,
    "start_time": "2023-05-04T07:41:15.010Z"
   },
   {
    "duration": 124,
    "start_time": "2023-05-04T07:44:33.727Z"
   },
   {
    "duration": 1328,
    "start_time": "2023-05-04T07:44:45.847Z"
   },
   {
    "duration": 885,
    "start_time": "2023-05-04T07:44:47.178Z"
   },
   {
    "duration": 1578,
    "start_time": "2023-05-04T07:44:48.065Z"
   },
   {
    "duration": 567,
    "start_time": "2023-05-04T07:44:49.646Z"
   },
   {
    "duration": 66,
    "start_time": "2023-05-04T07:44:50.216Z"
   },
   {
    "duration": 235,
    "start_time": "2023-05-04T07:44:50.284Z"
   },
   {
    "duration": 27,
    "start_time": "2023-05-04T07:44:50.522Z"
   },
   {
    "duration": 34,
    "start_time": "2023-05-04T07:44:50.551Z"
   },
   {
    "duration": 17,
    "start_time": "2023-05-04T07:44:50.586Z"
   },
   {
    "duration": 92,
    "start_time": "2023-05-04T07:44:50.605Z"
   },
   {
    "duration": 4,
    "start_time": "2023-05-04T07:44:50.699Z"
   },
   {
    "duration": 261,
    "start_time": "2023-05-04T07:44:50.705Z"
   },
   {
    "duration": 14,
    "start_time": "2023-05-04T07:46:12.312Z"
   },
   {
    "duration": 1428,
    "start_time": "2023-05-04T07:47:16.458Z"
   },
   {
    "duration": 1015,
    "start_time": "2023-05-04T07:47:17.889Z"
   },
   {
    "duration": 1708,
    "start_time": "2023-05-04T07:47:18.906Z"
   },
   {
    "duration": 658,
    "start_time": "2023-05-04T07:47:20.617Z"
   },
   {
    "duration": 61,
    "start_time": "2023-05-04T07:47:21.277Z"
   },
   {
    "duration": 252,
    "start_time": "2023-05-04T07:47:21.340Z"
   },
   {
    "duration": 13,
    "start_time": "2023-05-04T07:47:21.594Z"
   },
   {
    "duration": 53,
    "start_time": "2023-05-04T07:47:21.609Z"
   },
   {
    "duration": 22,
    "start_time": "2023-05-04T07:47:21.664Z"
   },
   {
    "duration": 97,
    "start_time": "2023-05-04T07:47:21.689Z"
   },
   {
    "duration": 3,
    "start_time": "2023-05-04T07:47:21.788Z"
   },
   {
    "duration": 321,
    "start_time": "2023-05-04T07:47:21.793Z"
   },
   {
    "duration": 117,
    "start_time": "2023-05-04T07:47:22.115Z"
   },
   {
    "duration": 1370,
    "start_time": "2023-05-04T07:47:46.461Z"
   },
   {
    "duration": 1053,
    "start_time": "2023-05-04T07:47:47.836Z"
   },
   {
    "duration": 1801,
    "start_time": "2023-05-04T07:47:48.891Z"
   },
   {
    "duration": 707,
    "start_time": "2023-05-04T07:47:50.694Z"
   },
   {
    "duration": 74,
    "start_time": "2023-05-04T07:47:51.404Z"
   },
   {
    "duration": 258,
    "start_time": "2023-05-04T07:47:51.480Z"
   },
   {
    "duration": 24,
    "start_time": "2023-05-04T07:47:51.741Z"
   },
   {
    "duration": 40,
    "start_time": "2023-05-04T07:47:51.767Z"
   },
   {
    "duration": 41,
    "start_time": "2023-05-04T07:47:51.808Z"
   },
   {
    "duration": 102,
    "start_time": "2023-05-04T07:47:51.854Z"
   },
   {
    "duration": 4,
    "start_time": "2023-05-04T07:47:51.963Z"
   },
   {
    "duration": 311,
    "start_time": "2023-05-04T07:47:51.969Z"
   },
   {
    "duration": 127,
    "start_time": "2023-05-04T07:47:52.282Z"
   },
   {
    "duration": 1248,
    "start_time": "2023-05-04T07:48:22.976Z"
   },
   {
    "duration": 946,
    "start_time": "2023-05-04T07:48:24.225Z"
   },
   {
    "duration": 1530,
    "start_time": "2023-05-04T07:48:25.173Z"
   },
   {
    "duration": 682,
    "start_time": "2023-05-04T07:48:26.705Z"
   },
   {
    "duration": 65,
    "start_time": "2023-05-04T07:48:27.389Z"
   },
   {
    "duration": 252,
    "start_time": "2023-05-04T07:48:27.456Z"
   },
   {
    "duration": 13,
    "start_time": "2023-05-04T07:48:27.709Z"
   },
   {
    "duration": 74,
    "start_time": "2023-05-04T07:48:27.724Z"
   },
   {
    "duration": 26,
    "start_time": "2023-05-04T07:48:27.799Z"
   },
   {
    "duration": 105,
    "start_time": "2023-05-04T07:48:27.827Z"
   },
   {
    "duration": 7,
    "start_time": "2023-05-04T07:48:27.937Z"
   },
   {
    "duration": 323,
    "start_time": "2023-05-04T07:48:27.946Z"
   },
   {
    "duration": 15,
    "start_time": "2023-05-04T07:48:28.271Z"
   },
   {
    "duration": 1133,
    "start_time": "2023-05-04T07:49:12.698Z"
   },
   {
    "duration": 894,
    "start_time": "2023-05-04T07:49:13.833Z"
   },
   {
    "duration": 1364,
    "start_time": "2023-05-04T07:49:14.729Z"
   },
   {
    "duration": 505,
    "start_time": "2023-05-04T07:49:16.095Z"
   },
   {
    "duration": 59,
    "start_time": "2023-05-04T07:49:16.602Z"
   },
   {
    "duration": 220,
    "start_time": "2023-05-04T07:49:16.663Z"
   },
   {
    "duration": 13,
    "start_time": "2023-05-04T07:49:16.884Z"
   },
   {
    "duration": 46,
    "start_time": "2023-05-04T07:49:16.898Z"
   },
   {
    "duration": 16,
    "start_time": "2023-05-04T07:49:16.945Z"
   },
   {
    "duration": 89,
    "start_time": "2023-05-04T07:49:16.963Z"
   },
   {
    "duration": 13,
    "start_time": "2023-05-04T07:49:17.054Z"
   },
   {
    "duration": 393,
    "start_time": "2023-05-04T07:49:17.070Z"
   },
   {
    "duration": 16,
    "start_time": "2023-05-04T07:49:17.466Z"
   },
   {
    "duration": 1217,
    "start_time": "2023-05-04T07:50:32.781Z"
   },
   {
    "duration": 949,
    "start_time": "2023-05-04T07:50:34.000Z"
   },
   {
    "duration": 1607,
    "start_time": "2023-05-04T07:50:34.952Z"
   },
   {
    "duration": 628,
    "start_time": "2023-05-04T07:50:36.561Z"
   },
   {
    "duration": 61,
    "start_time": "2023-05-04T07:50:37.191Z"
   },
   {
    "duration": 216,
    "start_time": "2023-05-04T07:50:37.254Z"
   },
   {
    "duration": 17,
    "start_time": "2023-05-04T07:50:37.472Z"
   },
   {
    "duration": 55,
    "start_time": "2023-05-04T07:50:37.491Z"
   },
   {
    "duration": 18,
    "start_time": "2023-05-04T07:50:37.549Z"
   },
   {
    "duration": 107,
    "start_time": "2023-05-04T07:50:37.570Z"
   },
   {
    "duration": 4,
    "start_time": "2023-05-04T07:50:37.679Z"
   },
   {
    "duration": 296,
    "start_time": "2023-05-04T07:50:37.684Z"
   },
   {
    "duration": 33,
    "start_time": "2023-05-04T07:50:37.982Z"
   },
   {
    "duration": 47,
    "start_time": "2023-05-04T08:38:48.357Z"
   },
   {
    "duration": 67,
    "start_time": "2023-05-04T08:39:46.308Z"
   },
   {
    "duration": 1269,
    "start_time": "2023-05-04T08:53:29.124Z"
   },
   {
    "duration": 1397,
    "start_time": "2023-05-04T08:53:30.395Z"
   },
   {
    "duration": 1572,
    "start_time": "2023-05-04T08:53:31.794Z"
   },
   {
    "duration": 517,
    "start_time": "2023-05-04T08:53:33.369Z"
   },
   {
    "duration": 55,
    "start_time": "2023-05-04T08:53:33.888Z"
   },
   {
    "duration": 256,
    "start_time": "2023-05-04T08:53:33.945Z"
   },
   {
    "duration": 15,
    "start_time": "2023-05-04T08:53:34.203Z"
   },
   {
    "duration": 51,
    "start_time": "2023-05-04T08:53:34.220Z"
   },
   {
    "duration": 19,
    "start_time": "2023-05-04T08:53:34.273Z"
   },
   {
    "duration": 83,
    "start_time": "2023-05-04T08:53:34.295Z"
   },
   {
    "duration": 13,
    "start_time": "2023-05-04T08:53:34.380Z"
   },
   {
    "duration": 414,
    "start_time": "2023-05-04T08:53:34.395Z"
   },
   {
    "duration": 16,
    "start_time": "2023-05-04T08:53:34.810Z"
   },
   {
    "duration": 124,
    "start_time": "2023-05-04T08:53:34.827Z"
   },
   {
    "duration": 1401,
    "start_time": "2023-05-04T08:55:06.664Z"
   },
   {
    "duration": 1092,
    "start_time": "2023-05-04T08:55:08.071Z"
   },
   {
    "duration": 1747,
    "start_time": "2023-05-04T08:55:09.165Z"
   },
   {
    "duration": 690,
    "start_time": "2023-05-04T08:55:10.915Z"
   },
   {
    "duration": 63,
    "start_time": "2023-05-04T08:55:11.607Z"
   },
   {
    "duration": 236,
    "start_time": "2023-05-04T08:55:11.672Z"
   },
   {
    "duration": 12,
    "start_time": "2023-05-04T08:55:11.910Z"
   },
   {
    "duration": 49,
    "start_time": "2023-05-04T08:55:11.923Z"
   },
   {
    "duration": 17,
    "start_time": "2023-05-04T08:55:11.974Z"
   },
   {
    "duration": 50,
    "start_time": "2023-05-04T08:55:11.993Z"
   },
   {
    "duration": 4,
    "start_time": "2023-05-04T08:55:12.045Z"
   },
   {
    "duration": 389,
    "start_time": "2023-05-04T08:55:12.051Z"
   },
   {
    "duration": 30,
    "start_time": "2023-05-04T08:55:12.442Z"
   },
   {
    "duration": 38,
    "start_time": "2023-05-04T08:55:12.475Z"
   },
   {
    "duration": 1585,
    "start_time": "2023-05-04T08:57:11.578Z"
   },
   {
    "duration": 1310,
    "start_time": "2023-05-04T08:57:13.166Z"
   },
   {
    "duration": 1898,
    "start_time": "2023-05-04T08:57:14.478Z"
   },
   {
    "duration": 616,
    "start_time": "2023-05-04T08:57:16.378Z"
   },
   {
    "duration": 77,
    "start_time": "2023-05-04T08:57:16.997Z"
   },
   {
    "duration": 288,
    "start_time": "2023-05-04T08:57:17.076Z"
   },
   {
    "duration": 33,
    "start_time": "2023-05-04T08:57:17.370Z"
   },
   {
    "duration": 94,
    "start_time": "2023-05-04T08:57:17.406Z"
   },
   {
    "duration": 77,
    "start_time": "2023-05-04T08:57:17.503Z"
   },
   {
    "duration": 116,
    "start_time": "2023-05-04T08:57:17.593Z"
   },
   {
    "duration": 6,
    "start_time": "2023-05-04T08:57:17.713Z"
   },
   {
    "duration": 582,
    "start_time": "2023-05-04T08:57:17.722Z"
   },
   {
    "duration": 98,
    "start_time": "2023-05-04T08:57:18.309Z"
   },
   {
    "duration": 543,
    "start_time": "2023-05-04T08:57:18.409Z"
   },
   {
    "duration": 38,
    "start_time": "2023-05-04T08:58:13.282Z"
   },
   {
    "duration": 225,
    "start_time": "2023-05-04T09:01:40.306Z"
   },
   {
    "duration": 898,
    "start_time": "2023-05-04T09:02:11.452Z"
   },
   {
    "duration": 183,
    "start_time": "2023-05-04T09:02:21.625Z"
   },
   {
    "duration": 327,
    "start_time": "2023-05-04T09:02:26.853Z"
   },
   {
    "duration": 16,
    "start_time": "2023-05-04T09:04:17.889Z"
   },
   {
    "duration": 163,
    "start_time": "2023-05-04T09:08:10.812Z"
   },
   {
    "duration": 189,
    "start_time": "2023-05-04T09:14:01.522Z"
   },
   {
    "duration": 1850,
    "start_time": "2023-05-04T09:18:04.431Z"
   },
   {
    "duration": 1730,
    "start_time": "2023-05-04T09:18:06.294Z"
   },
   {
    "duration": 2499,
    "start_time": "2023-05-04T09:18:08.027Z"
   },
   {
    "duration": 916,
    "start_time": "2023-05-04T09:18:10.529Z"
   },
   {
    "duration": 80,
    "start_time": "2023-05-04T09:18:11.449Z"
   },
   {
    "duration": 338,
    "start_time": "2023-05-04T09:18:11.552Z"
   },
   {
    "duration": 22,
    "start_time": "2023-05-04T09:18:11.894Z"
   },
   {
    "duration": 62,
    "start_time": "2023-05-04T09:18:11.919Z"
   },
   {
    "duration": 46,
    "start_time": "2023-05-04T09:18:11.983Z"
   },
   {
    "duration": 121,
    "start_time": "2023-05-04T09:18:12.031Z"
   },
   {
    "duration": 5,
    "start_time": "2023-05-04T09:18:12.154Z"
   },
   {
    "duration": 557,
    "start_time": "2023-05-04T09:18:12.161Z"
   },
   {
    "duration": 64,
    "start_time": "2023-05-04T09:18:12.720Z"
   },
   {
    "duration": 620,
    "start_time": "2023-05-04T09:18:12.788Z"
   },
   {
    "duration": 66,
    "start_time": "2023-05-04T09:18:13.410Z"
   },
   {
    "duration": 277,
    "start_time": "2023-05-04T09:18:13.479Z"
   },
   {
    "duration": 213,
    "start_time": "2023-05-04T09:18:13.761Z"
   },
   {
    "duration": 0,
    "start_time": "2023-05-04T09:18:13.985Z"
   },
   {
    "duration": 1667,
    "start_time": "2023-05-04T09:20:29.250Z"
   },
   {
    "duration": 1326,
    "start_time": "2023-05-04T09:20:30.922Z"
   },
   {
    "duration": 2316,
    "start_time": "2023-05-04T09:20:32.250Z"
   },
   {
    "duration": 784,
    "start_time": "2023-05-04T09:20:34.569Z"
   },
   {
    "duration": 91,
    "start_time": "2023-05-04T09:20:35.364Z"
   },
   {
    "duration": 337,
    "start_time": "2023-05-04T09:20:35.461Z"
   },
   {
    "duration": 17,
    "start_time": "2023-05-04T09:20:35.801Z"
   },
   {
    "duration": 134,
    "start_time": "2023-05-04T09:20:35.821Z"
   },
   {
    "duration": 70,
    "start_time": "2023-05-04T09:20:35.961Z"
   },
   {
    "duration": 195,
    "start_time": "2023-05-04T09:20:36.045Z"
   },
   {
    "duration": 17,
    "start_time": "2023-05-04T09:20:36.245Z"
   },
   {
    "duration": 824,
    "start_time": "2023-05-04T09:20:36.274Z"
   },
   {
    "duration": 67,
    "start_time": "2023-05-04T09:20:37.104Z"
   },
   {
    "duration": 554,
    "start_time": "2023-05-04T09:20:37.178Z"
   },
   {
    "duration": 67,
    "start_time": "2023-05-04T09:20:37.739Z"
   },
   {
    "duration": 330,
    "start_time": "2023-05-04T09:20:37.809Z"
   },
   {
    "duration": 15,
    "start_time": "2023-05-04T09:20:38.141Z"
   },
   {
    "duration": 36,
    "start_time": "2023-05-04T09:26:27.158Z"
   },
   {
    "duration": 56,
    "start_time": "2023-05-04T09:28:28.958Z"
   },
   {
    "duration": 56,
    "start_time": "2023-05-04T09:29:25.620Z"
   },
   {
    "duration": 12,
    "start_time": "2023-05-04T09:30:53.366Z"
   },
   {
    "duration": 81,
    "start_time": "2023-05-04T09:31:13.518Z"
   },
   {
    "duration": 2558,
    "start_time": "2023-05-04T09:31:25.659Z"
   },
   {
    "duration": 1636,
    "start_time": "2023-05-04T09:31:28.219Z"
   },
   {
    "duration": 2678,
    "start_time": "2023-05-04T09:31:29.864Z"
   },
   {
    "duration": 863,
    "start_time": "2023-05-04T09:31:32.553Z"
   },
   {
    "duration": 74,
    "start_time": "2023-05-04T09:31:33.419Z"
   },
   {
    "duration": 348,
    "start_time": "2023-05-04T09:31:33.495Z"
   },
   {
    "duration": 17,
    "start_time": "2023-05-04T09:31:33.846Z"
   },
   {
    "duration": 147,
    "start_time": "2023-05-04T09:31:33.866Z"
   },
   {
    "duration": 99,
    "start_time": "2023-05-04T09:31:34.016Z"
   },
   {
    "duration": 9,
    "start_time": "2023-05-04T09:31:34.122Z"
   },
   {
    "duration": 648,
    "start_time": "2023-05-04T09:31:34.133Z"
   },
   {
    "duration": 53,
    "start_time": "2023-05-04T09:31:34.788Z"
   },
   {
    "duration": 461,
    "start_time": "2023-05-04T09:31:34.847Z"
   },
   {
    "duration": 74,
    "start_time": "2023-05-04T09:31:35.314Z"
   },
   {
    "duration": 247,
    "start_time": "2023-05-04T09:31:35.399Z"
   },
   {
    "duration": 23,
    "start_time": "2023-05-04T09:31:35.651Z"
   },
   {
    "duration": 82,
    "start_time": "2023-05-04T09:31:35.682Z"
   },
   {
    "duration": 363,
    "start_time": "2023-05-04T09:32:06.849Z"
   },
   {
    "duration": 922,
    "start_time": "2023-05-04T09:33:05.476Z"
   },
   {
    "duration": 1132,
    "start_time": "2023-05-04T09:33:16.927Z"
   },
   {
    "duration": 925,
    "start_time": "2023-05-04T09:34:06.546Z"
   },
   {
    "duration": 439,
    "start_time": "2023-05-04T09:34:17.210Z"
   },
   {
    "duration": 298,
    "start_time": "2023-05-04T09:34:24.329Z"
   },
   {
    "duration": 345,
    "start_time": "2023-05-04T09:34:30.108Z"
   },
   {
    "duration": 254,
    "start_time": "2023-05-04T09:34:34.099Z"
   },
   {
    "duration": 518,
    "start_time": "2023-05-04T09:34:39.217Z"
   },
   {
    "duration": 1769,
    "start_time": "2023-05-04T09:35:21.206Z"
   },
   {
    "duration": 2597,
    "start_time": "2023-05-04T09:35:22.978Z"
   },
   {
    "duration": 2706,
    "start_time": "2023-05-04T09:35:25.577Z"
   },
   {
    "duration": 878,
    "start_time": "2023-05-04T09:35:28.290Z"
   },
   {
    "duration": 119,
    "start_time": "2023-05-04T09:35:29.175Z"
   },
   {
    "duration": 355,
    "start_time": "2023-05-04T09:35:29.303Z"
   },
   {
    "duration": 21,
    "start_time": "2023-05-04T09:35:29.666Z"
   },
   {
    "duration": 110,
    "start_time": "2023-05-04T09:35:29.694Z"
   },
   {
    "duration": 82,
    "start_time": "2023-05-04T09:35:29.813Z"
   },
   {
    "duration": 13,
    "start_time": "2023-05-04T09:35:29.901Z"
   },
   {
    "duration": 631,
    "start_time": "2023-05-04T09:35:29.920Z"
   },
   {
    "duration": 68,
    "start_time": "2023-05-04T09:35:30.559Z"
   },
   {
    "duration": 714,
    "start_time": "2023-05-04T09:35:30.629Z"
   },
   {
    "duration": 61,
    "start_time": "2023-05-04T09:35:31.345Z"
   },
   {
    "duration": 357,
    "start_time": "2023-05-04T09:35:31.409Z"
   },
   {
    "duration": 461,
    "start_time": "2023-05-04T09:35:31.774Z"
   },
   {
    "duration": 19,
    "start_time": "2023-05-04T09:35:32.247Z"
   },
   {
    "duration": 107,
    "start_time": "2023-05-04T09:35:32.268Z"
   },
   {
    "duration": 302,
    "start_time": "2023-05-04T09:35:32.391Z"
   },
   {
    "duration": 907,
    "start_time": "2023-05-04T09:35:32.695Z"
   },
   {
    "duration": 232,
    "start_time": "2023-05-04T09:35:50.478Z"
   },
   {
    "duration": 1917,
    "start_time": "2023-05-04T09:35:56.609Z"
   },
   {
    "duration": 1253,
    "start_time": "2023-05-04T09:35:58.528Z"
   },
   {
    "duration": 2276,
    "start_time": "2023-05-04T09:35:59.789Z"
   },
   {
    "duration": 753,
    "start_time": "2023-05-04T09:36:02.073Z"
   },
   {
    "duration": 84,
    "start_time": "2023-05-04T09:36:02.829Z"
   },
   {
    "duration": 497,
    "start_time": "2023-05-04T09:36:02.915Z"
   },
   {
    "duration": 20,
    "start_time": "2023-05-04T09:36:03.420Z"
   },
   {
    "duration": 183,
    "start_time": "2023-05-04T09:36:03.448Z"
   },
   {
    "duration": 135,
    "start_time": "2023-05-04T09:36:03.642Z"
   },
   {
    "duration": 42,
    "start_time": "2023-05-04T09:36:03.789Z"
   },
   {
    "duration": 671,
    "start_time": "2023-05-04T09:36:03.842Z"
   },
   {
    "duration": 54,
    "start_time": "2023-05-04T09:36:04.516Z"
   },
   {
    "duration": 530,
    "start_time": "2023-05-04T09:36:04.572Z"
   },
   {
    "duration": 95,
    "start_time": "2023-05-04T09:36:05.105Z"
   },
   {
    "duration": 300,
    "start_time": "2023-05-04T09:36:05.202Z"
   },
   {
    "duration": 232,
    "start_time": "2023-05-04T09:36:05.504Z"
   },
   {
    "duration": 27,
    "start_time": "2023-05-04T09:36:05.740Z"
   },
   {
    "duration": 161,
    "start_time": "2023-05-04T09:36:05.769Z"
   },
   {
    "duration": 238,
    "start_time": "2023-05-04T09:36:05.934Z"
   },
   {
    "duration": 831,
    "start_time": "2023-05-04T09:36:06.174Z"
   },
   {
    "duration": 547,
    "start_time": "2023-05-04T09:37:40.062Z"
   },
   {
    "duration": 397,
    "start_time": "2023-05-04T09:37:47.518Z"
   },
   {
    "duration": 36,
    "start_time": "2023-05-04T09:38:42.461Z"
   },
   {
    "duration": 49,
    "start_time": "2023-05-04T09:43:00.808Z"
   },
   {
    "duration": 58,
    "start_time": "2023-05-04T09:43:09.418Z"
   },
   {
    "duration": 3001,
    "start_time": "2023-05-04T09:44:15.959Z"
   },
   {
    "duration": 1667,
    "start_time": "2023-05-04T09:46:09.528Z"
   },
   {
    "duration": 1252,
    "start_time": "2023-05-04T09:46:11.204Z"
   },
   {
    "duration": 2304,
    "start_time": "2023-05-04T09:46:12.471Z"
   },
   {
    "duration": 821,
    "start_time": "2023-05-04T09:46:14.780Z"
   },
   {
    "duration": 93,
    "start_time": "2023-05-04T09:46:15.602Z"
   },
   {
    "duration": 270,
    "start_time": "2023-05-04T09:46:15.705Z"
   },
   {
    "duration": 24,
    "start_time": "2023-05-04T09:46:15.989Z"
   },
   {
    "duration": 127,
    "start_time": "2023-05-04T09:46:16.030Z"
   },
   {
    "duration": 97,
    "start_time": "2023-05-04T09:46:16.159Z"
   },
   {
    "duration": 103,
    "start_time": "2023-05-04T09:46:16.280Z"
   },
   {
    "duration": 661,
    "start_time": "2023-05-04T09:46:16.398Z"
   },
   {
    "duration": 76,
    "start_time": "2023-05-04T09:46:17.064Z"
   },
   {
    "duration": 554,
    "start_time": "2023-05-04T09:46:17.146Z"
   },
   {
    "duration": 92,
    "start_time": "2023-05-04T09:46:17.709Z"
   },
   {
    "duration": 389,
    "start_time": "2023-05-04T09:46:17.803Z"
   },
   {
    "duration": 33,
    "start_time": "2023-05-04T09:46:18.201Z"
   },
   {
    "duration": 177,
    "start_time": "2023-05-04T09:46:18.241Z"
   },
   {
    "duration": 285,
    "start_time": "2023-05-04T09:46:18.436Z"
   },
   {
    "duration": 405,
    "start_time": "2023-05-04T09:46:18.726Z"
   },
   {
    "duration": 41,
    "start_time": "2023-05-04T09:46:19.133Z"
   },
   {
    "duration": 151,
    "start_time": "2023-05-04T09:46:19.175Z"
   },
   {
    "duration": 3690,
    "start_time": "2023-05-04T09:46:19.327Z"
   },
   {
    "duration": 14,
    "start_time": "2023-05-04T11:52:41.636Z"
   },
   {
    "duration": 11,
    "start_time": "2023-05-04T11:57:16.250Z"
   },
   {
    "duration": 491,
    "start_time": "2023-05-04T11:57:38.920Z"
   },
   {
    "duration": 128,
    "start_time": "2023-05-04T11:57:44.528Z"
   },
   {
    "duration": 89,
    "start_time": "2023-05-04T11:58:42.654Z"
   },
   {
    "duration": 97,
    "start_time": "2023-05-04T12:31:52.392Z"
   },
   {
    "duration": 108,
    "start_time": "2023-05-04T12:32:18.579Z"
   },
   {
    "duration": 97,
    "start_time": "2023-05-04T12:33:10.676Z"
   },
   {
    "duration": 104,
    "start_time": "2023-05-04T12:33:23.113Z"
   },
   {
    "duration": 75,
    "start_time": "2023-05-04T12:54:37.393Z"
   },
   {
    "duration": 50,
    "start_time": "2023-05-05T10:56:13.057Z"
   },
   {
    "duration": 1584,
    "start_time": "2023-05-05T10:56:17.349Z"
   },
   {
    "duration": 1217,
    "start_time": "2023-05-05T10:56:18.935Z"
   },
   {
    "duration": 1467,
    "start_time": "2023-05-05T10:56:20.154Z"
   },
   {
    "duration": 529,
    "start_time": "2023-05-05T10:56:21.623Z"
   },
   {
    "duration": 54,
    "start_time": "2023-05-05T10:56:22.154Z"
   },
   {
    "duration": 210,
    "start_time": "2023-05-05T10:56:22.210Z"
   },
   {
    "duration": 14,
    "start_time": "2023-05-05T10:56:22.421Z"
   },
   {
    "duration": 57,
    "start_time": "2023-05-05T10:56:22.436Z"
   },
   {
    "duration": 33,
    "start_time": "2023-05-05T10:56:22.495Z"
   },
   {
    "duration": 28,
    "start_time": "2023-05-05T10:56:22.531Z"
   },
   {
    "duration": 338,
    "start_time": "2023-05-05T10:56:22.561Z"
   },
   {
    "duration": 44,
    "start_time": "2023-05-05T10:56:22.901Z"
   },
   {
    "duration": 332,
    "start_time": "2023-05-05T10:56:22.947Z"
   },
   {
    "duration": 36,
    "start_time": "2023-05-05T10:56:23.281Z"
   },
   {
    "duration": 170,
    "start_time": "2023-05-05T10:56:23.319Z"
   },
   {
    "duration": 12,
    "start_time": "2023-05-05T10:56:23.491Z"
   },
   {
    "duration": 57,
    "start_time": "2023-05-05T10:56:23.505Z"
   },
   {
    "duration": 171,
    "start_time": "2023-05-05T10:56:23.564Z"
   },
   {
    "duration": 284,
    "start_time": "2023-05-05T10:56:23.737Z"
   },
   {
    "duration": 14,
    "start_time": "2023-05-05T10:56:24.024Z"
   },
   {
    "duration": 55,
    "start_time": "2023-05-05T10:56:24.040Z"
   },
   {
    "duration": 14,
    "start_time": "2023-05-05T10:56:24.096Z"
   },
   {
    "duration": 184,
    "start_time": "2023-05-05T10:56:24.112Z"
   },
   {
    "duration": 0,
    "start_time": "2023-05-05T10:56:24.298Z"
   },
   {
    "duration": 1385,
    "start_time": "2023-05-05T10:57:21.053Z"
   },
   {
    "duration": 864,
    "start_time": "2023-05-05T10:57:22.440Z"
   },
   {
    "duration": 1407,
    "start_time": "2023-05-05T10:57:23.306Z"
   },
   {
    "duration": 556,
    "start_time": "2023-05-05T10:57:24.715Z"
   },
   {
    "duration": 53,
    "start_time": "2023-05-05T10:57:25.273Z"
   },
   {
    "duration": 198,
    "start_time": "2023-05-05T10:57:25.327Z"
   },
   {
    "duration": 13,
    "start_time": "2023-05-05T10:57:25.526Z"
   },
   {
    "duration": 58,
    "start_time": "2023-05-05T10:57:25.540Z"
   },
   {
    "duration": 29,
    "start_time": "2023-05-05T10:57:25.600Z"
   },
   {
    "duration": 7,
    "start_time": "2023-05-05T10:57:25.632Z"
   },
   {
    "duration": 303,
    "start_time": "2023-05-05T10:57:25.659Z"
   },
   {
    "duration": 33,
    "start_time": "2023-05-05T10:57:25.963Z"
   },
   {
    "duration": 310,
    "start_time": "2023-05-05T10:57:25.997Z"
   },
   {
    "duration": 33,
    "start_time": "2023-05-05T10:57:26.308Z"
   },
   {
    "duration": 160,
    "start_time": "2023-05-05T10:57:26.343Z"
   },
   {
    "duration": 11,
    "start_time": "2023-05-05T10:57:26.504Z"
   },
   {
    "duration": 50,
    "start_time": "2023-05-05T10:57:26.516Z"
   },
   {
    "duration": 167,
    "start_time": "2023-05-05T10:57:26.568Z"
   },
   {
    "duration": 263,
    "start_time": "2023-05-05T10:57:26.737Z"
   },
   {
    "duration": 11,
    "start_time": "2023-05-05T10:57:27.002Z"
   },
   {
    "duration": 52,
    "start_time": "2023-05-05T10:57:27.014Z"
   },
   {
    "duration": 13,
    "start_time": "2023-05-05T10:57:27.068Z"
   },
   {
    "duration": 59,
    "start_time": "2023-05-05T10:57:27.082Z"
   },
   {
    "duration": 32,
    "start_time": "2023-05-05T10:57:27.143Z"
   },
   {
    "duration": 120,
    "start_time": "2023-05-05T10:57:27.176Z"
   },
   {
    "duration": 12,
    "start_time": "2023-05-05T10:58:07.517Z"
   },
   {
    "duration": 1329,
    "start_time": "2023-05-05T10:58:25.406Z"
   },
   {
    "duration": 806,
    "start_time": "2023-05-05T10:58:26.737Z"
   },
   {
    "duration": 1392,
    "start_time": "2023-05-05T10:58:27.545Z"
   },
   {
    "duration": 511,
    "start_time": "2023-05-05T10:58:28.940Z"
   },
   {
    "duration": 55,
    "start_time": "2023-05-05T10:58:29.453Z"
   },
   {
    "duration": 231,
    "start_time": "2023-05-05T10:58:29.509Z"
   },
   {
    "duration": 20,
    "start_time": "2023-05-05T10:58:29.742Z"
   },
   {
    "duration": 48,
    "start_time": "2023-05-05T10:58:29.764Z"
   },
   {
    "duration": 51,
    "start_time": "2023-05-05T10:58:29.815Z"
   },
   {
    "duration": 3,
    "start_time": "2023-05-05T10:58:29.870Z"
   },
   {
    "duration": 319,
    "start_time": "2023-05-05T10:58:29.875Z"
   },
   {
    "duration": 31,
    "start_time": "2023-05-05T10:58:30.196Z"
   },
   {
    "duration": 314,
    "start_time": "2023-05-05T10:58:30.229Z"
   },
   {
    "duration": 41,
    "start_time": "2023-05-05T10:58:30.545Z"
   },
   {
    "duration": 171,
    "start_time": "2023-05-05T10:58:30.588Z"
   },
   {
    "duration": 17,
    "start_time": "2023-05-05T10:58:30.762Z"
   },
   {
    "duration": 117,
    "start_time": "2023-05-05T10:58:30.781Z"
   },
   {
    "duration": 202,
    "start_time": "2023-05-05T10:58:30.901Z"
   },
   {
    "duration": 278,
    "start_time": "2023-05-05T10:58:31.106Z"
   },
   {
    "duration": 11,
    "start_time": "2023-05-05T10:58:31.386Z"
   },
   {
    "duration": 62,
    "start_time": "2023-05-05T10:58:31.398Z"
   },
   {
    "duration": 23,
    "start_time": "2023-05-05T10:58:31.462Z"
   },
   {
    "duration": 92,
    "start_time": "2023-05-05T10:58:31.487Z"
   },
   {
    "duration": 20,
    "start_time": "2023-05-05T10:58:31.581Z"
   },
   {
    "duration": 161,
    "start_time": "2023-05-05T10:58:31.603Z"
   },
   {
    "duration": 13,
    "start_time": "2023-05-05T11:01:03.703Z"
   },
   {
    "duration": 7,
    "start_time": "2023-05-05T11:01:43.627Z"
   },
   {
    "duration": 18,
    "start_time": "2023-05-05T11:02:28.457Z"
   },
   {
    "duration": 27,
    "start_time": "2023-05-05T11:02:37.595Z"
   },
   {
    "duration": 15,
    "start_time": "2023-05-05T12:29:42.090Z"
   },
   {
    "duration": 11,
    "start_time": "2023-05-05T12:49:37.463Z"
   },
   {
    "duration": 6,
    "start_time": "2023-05-05T12:50:15.673Z"
   },
   {
    "duration": 13,
    "start_time": "2023-05-05T12:50:26.157Z"
   },
   {
    "duration": 5,
    "start_time": "2023-05-05T12:50:53.457Z"
   },
   {
    "duration": 84,
    "start_time": "2023-05-05T12:50:58.851Z"
   },
   {
    "duration": 10,
    "start_time": "2023-05-05T12:51:13.084Z"
   },
   {
    "duration": 54,
    "start_time": "2023-05-05T19:50:54.910Z"
   },
   {
    "duration": 1801,
    "start_time": "2023-05-05T19:51:07.211Z"
   },
   {
    "duration": 1323,
    "start_time": "2023-05-05T19:51:09.014Z"
   },
   {
    "duration": 1523,
    "start_time": "2023-05-05T19:51:10.339Z"
   },
   {
    "duration": 582,
    "start_time": "2023-05-05T19:51:11.864Z"
   },
   {
    "duration": 66,
    "start_time": "2023-05-05T19:51:12.448Z"
   },
   {
    "duration": 252,
    "start_time": "2023-05-05T19:51:12.515Z"
   },
   {
    "duration": 14,
    "start_time": "2023-05-05T19:51:12.769Z"
   },
   {
    "duration": 49,
    "start_time": "2023-05-05T19:51:12.785Z"
   },
   {
    "duration": 70,
    "start_time": "2023-05-05T19:51:12.837Z"
   },
   {
    "duration": 4,
    "start_time": "2023-05-05T19:51:12.909Z"
   },
   {
    "duration": 371,
    "start_time": "2023-05-05T19:51:12.915Z"
   },
   {
    "duration": 34,
    "start_time": "2023-05-05T19:51:13.292Z"
   },
   {
    "duration": 341,
    "start_time": "2023-05-05T19:51:13.328Z"
   },
   {
    "duration": 48,
    "start_time": "2023-05-05T19:51:13.672Z"
   },
   {
    "duration": 176,
    "start_time": "2023-05-05T19:51:13.722Z"
   },
   {
    "duration": 25,
    "start_time": "2023-05-05T19:51:13.900Z"
   },
   {
    "duration": 55,
    "start_time": "2023-05-05T19:51:13.927Z"
   },
   {
    "duration": 200,
    "start_time": "2023-05-05T19:51:13.989Z"
   },
   {
    "duration": 349,
    "start_time": "2023-05-05T19:51:14.191Z"
   },
   {
    "duration": 17,
    "start_time": "2023-05-05T19:51:14.560Z"
   },
   {
    "duration": 40,
    "start_time": "2023-05-05T19:51:14.580Z"
   },
   {
    "duration": 12,
    "start_time": "2023-05-05T19:51:14.622Z"
   },
   {
    "duration": 84,
    "start_time": "2023-05-05T19:51:14.636Z"
   },
   {
    "duration": 19,
    "start_time": "2023-05-05T19:51:14.722Z"
   },
   {
    "duration": 27,
    "start_time": "2023-05-05T19:51:14.743Z"
   },
   {
    "duration": 23,
    "start_time": "2023-05-05T19:51:14.781Z"
   },
   {
    "duration": 270,
    "start_time": "2023-05-05T19:51:14.807Z"
   },
   {
    "duration": 23,
    "start_time": "2023-05-05T19:55:03.611Z"
   },
   {
    "duration": 1555,
    "start_time": "2023-05-05T19:55:17.104Z"
   },
   {
    "duration": 926,
    "start_time": "2023-05-05T19:55:18.661Z"
   },
   {
    "duration": 1372,
    "start_time": "2023-05-05T19:55:19.592Z"
   },
   {
    "duration": 567,
    "start_time": "2023-05-05T19:55:20.966Z"
   },
   {
    "duration": 63,
    "start_time": "2023-05-05T19:55:21.535Z"
   },
   {
    "duration": 212,
    "start_time": "2023-05-05T19:55:21.600Z"
   },
   {
    "duration": 13,
    "start_time": "2023-05-05T19:55:21.814Z"
   },
   {
    "duration": 67,
    "start_time": "2023-05-05T19:55:21.829Z"
   },
   {
    "duration": 28,
    "start_time": "2023-05-05T19:55:21.898Z"
   },
   {
    "duration": 4,
    "start_time": "2023-05-05T19:55:21.928Z"
   },
   {
    "duration": 379,
    "start_time": "2023-05-05T19:55:21.934Z"
   },
   {
    "duration": 26,
    "start_time": "2023-05-05T19:55:22.315Z"
   },
   {
    "duration": 321,
    "start_time": "2023-05-05T19:55:22.343Z"
   },
   {
    "duration": 37,
    "start_time": "2023-05-05T19:55:22.667Z"
   },
   {
    "duration": 194,
    "start_time": "2023-05-05T19:55:22.706Z"
   },
   {
    "duration": 11,
    "start_time": "2023-05-05T19:55:22.901Z"
   },
   {
    "duration": 64,
    "start_time": "2023-05-05T19:55:22.913Z"
   },
   {
    "duration": 166,
    "start_time": "2023-05-05T19:55:22.981Z"
   },
   {
    "duration": 299,
    "start_time": "2023-05-05T19:55:23.149Z"
   },
   {
    "duration": 19,
    "start_time": "2023-05-05T19:55:23.449Z"
   },
   {
    "duration": 33,
    "start_time": "2023-05-05T19:55:23.479Z"
   },
   {
    "duration": 13,
    "start_time": "2023-05-05T19:55:23.513Z"
   },
   {
    "duration": 75,
    "start_time": "2023-05-05T19:55:23.528Z"
   },
   {
    "duration": 18,
    "start_time": "2023-05-05T19:55:23.604Z"
   },
   {
    "duration": 9,
    "start_time": "2023-05-05T19:55:23.624Z"
   },
   {
    "duration": 42,
    "start_time": "2023-05-05T19:55:23.634Z"
   },
   {
    "duration": 232,
    "start_time": "2023-05-05T19:55:23.681Z"
   },
   {
    "duration": 1504,
    "start_time": "2023-05-05T19:56:24.985Z"
   },
   {
    "duration": 892,
    "start_time": "2023-05-05T19:56:26.491Z"
   },
   {
    "duration": 1491,
    "start_time": "2023-05-05T19:56:27.385Z"
   },
   {
    "duration": 647,
    "start_time": "2023-05-05T19:56:28.886Z"
   },
   {
    "duration": 74,
    "start_time": "2023-05-05T19:56:29.535Z"
   },
   {
    "duration": 236,
    "start_time": "2023-05-05T19:56:29.611Z"
   },
   {
    "duration": 38,
    "start_time": "2023-05-05T19:56:29.850Z"
   },
   {
    "duration": 51,
    "start_time": "2023-05-05T19:56:29.894Z"
   },
   {
    "duration": 51,
    "start_time": "2023-05-05T19:56:29.947Z"
   },
   {
    "duration": 7,
    "start_time": "2023-05-05T19:56:30.001Z"
   },
   {
    "duration": 509,
    "start_time": "2023-05-05T19:56:30.010Z"
   },
   {
    "duration": 59,
    "start_time": "2023-05-05T19:56:30.521Z"
   },
   {
    "duration": 363,
    "start_time": "2023-05-05T19:56:30.590Z"
   },
   {
    "duration": 56,
    "start_time": "2023-05-05T19:56:30.962Z"
   },
   {
    "duration": 195,
    "start_time": "2023-05-05T19:56:31.021Z"
   },
   {
    "duration": 13,
    "start_time": "2023-05-05T19:56:31.218Z"
   },
   {
    "duration": 96,
    "start_time": "2023-05-05T19:56:31.232Z"
   },
   {
    "duration": 265,
    "start_time": "2023-05-05T19:56:31.331Z"
   },
   {
    "duration": 453,
    "start_time": "2023-05-05T19:56:31.599Z"
   },
   {
    "duration": 15,
    "start_time": "2023-05-05T19:56:32.054Z"
   },
   {
    "duration": 76,
    "start_time": "2023-05-05T19:56:32.071Z"
   },
   {
    "duration": 40,
    "start_time": "2023-05-05T19:56:32.150Z"
   },
   {
    "duration": 98,
    "start_time": "2023-05-05T19:56:32.193Z"
   },
   {
    "duration": 40,
    "start_time": "2023-05-05T19:56:32.294Z"
   },
   {
    "duration": 9,
    "start_time": "2023-05-05T19:56:32.336Z"
   },
   {
    "duration": 25,
    "start_time": "2023-05-05T19:56:32.365Z"
   },
   {
    "duration": 158,
    "start_time": "2023-05-05T19:56:32.392Z"
   },
   {
    "duration": 6,
    "start_time": "2023-05-05T20:11:20.140Z"
   },
   {
    "duration": 14,
    "start_time": "2023-05-05T21:49:22.205Z"
   },
   {
    "duration": 1637,
    "start_time": "2023-05-05T21:50:15.068Z"
   },
   {
    "duration": 1200,
    "start_time": "2023-05-05T21:50:16.707Z"
   },
   {
    "duration": 1591,
    "start_time": "2023-05-05T21:50:17.909Z"
   },
   {
    "duration": 628,
    "start_time": "2023-05-05T21:50:19.502Z"
   },
   {
    "duration": 73,
    "start_time": "2023-05-05T21:50:20.132Z"
   },
   {
    "duration": 238,
    "start_time": "2023-05-05T21:50:20.207Z"
   },
   {
    "duration": 29,
    "start_time": "2023-05-05T21:50:20.448Z"
   },
   {
    "duration": 53,
    "start_time": "2023-05-05T21:50:20.479Z"
   },
   {
    "duration": 43,
    "start_time": "2023-05-05T21:50:20.534Z"
   },
   {
    "duration": 3,
    "start_time": "2023-05-05T21:50:20.580Z"
   },
   {
    "duration": 406,
    "start_time": "2023-05-05T21:50:20.585Z"
   },
   {
    "duration": 29,
    "start_time": "2023-05-05T21:50:20.993Z"
   },
   {
    "duration": 340,
    "start_time": "2023-05-05T21:50:21.024Z"
   },
   {
    "duration": 37,
    "start_time": "2023-05-05T21:50:21.369Z"
   },
   {
    "duration": 169,
    "start_time": "2023-05-05T21:50:21.409Z"
   },
   {
    "duration": 13,
    "start_time": "2023-05-05T21:50:21.579Z"
   },
   {
    "duration": 65,
    "start_time": "2023-05-05T21:50:21.593Z"
   },
   {
    "duration": 162,
    "start_time": "2023-05-05T21:50:21.659Z"
   },
   {
    "duration": 379,
    "start_time": "2023-05-05T21:50:21.823Z"
   },
   {
    "duration": 13,
    "start_time": "2023-05-05T21:50:22.204Z"
   },
   {
    "duration": 53,
    "start_time": "2023-05-05T21:50:22.219Z"
   },
   {
    "duration": 17,
    "start_time": "2023-05-05T21:50:22.275Z"
   },
   {
    "duration": 81,
    "start_time": "2023-05-05T21:50:22.294Z"
   },
   {
    "duration": 22,
    "start_time": "2023-05-05T21:50:22.377Z"
   },
   {
    "duration": 7,
    "start_time": "2023-05-05T21:50:22.400Z"
   },
   {
    "duration": 28,
    "start_time": "2023-05-05T21:50:22.409Z"
   },
   {
    "duration": 3,
    "start_time": "2023-05-05T21:50:22.439Z"
   },
   {
    "duration": 145,
    "start_time": "2023-05-05T21:50:22.444Z"
   },
   {
    "duration": 44,
    "start_time": "2023-05-05T21:54:39.329Z"
   },
   {
    "duration": 385,
    "start_time": "2023-05-05T21:58:42.342Z"
   },
   {
    "duration": 4,
    "start_time": "2023-05-05T22:00:28.150Z"
   },
   {
    "duration": 17,
    "start_time": "2023-05-05T22:01:10.451Z"
   },
   {
    "duration": 12,
    "start_time": "2023-05-05T22:01:49.505Z"
   },
   {
    "duration": 11049,
    "start_time": "2023-05-05T22:02:14.287Z"
   },
   {
    "duration": 1600,
    "start_time": "2023-05-05T22:03:00.883Z"
   },
   {
    "duration": 1606,
    "start_time": "2023-05-06T09:12:56.456Z"
   },
   {
    "duration": 3008,
    "start_time": "2023-05-06T09:12:58.064Z"
   },
   {
    "duration": 1334,
    "start_time": "2023-05-06T09:13:01.073Z"
   },
   {
    "duration": 504,
    "start_time": "2023-05-06T09:13:02.409Z"
   },
   {
    "duration": 64,
    "start_time": "2023-05-06T09:13:02.914Z"
   },
   {
    "duration": 189,
    "start_time": "2023-05-06T09:13:02.980Z"
   },
   {
    "duration": 12,
    "start_time": "2023-05-06T09:13:03.171Z"
   },
   {
    "duration": 64,
    "start_time": "2023-05-06T09:13:03.185Z"
   },
   {
    "duration": 29,
    "start_time": "2023-05-06T09:13:03.251Z"
   },
   {
    "duration": 3,
    "start_time": "2023-05-06T09:13:03.283Z"
   },
   {
    "duration": 304,
    "start_time": "2023-05-06T09:13:03.287Z"
   },
   {
    "duration": 28,
    "start_time": "2023-05-06T09:13:03.592Z"
   },
   {
    "duration": 317,
    "start_time": "2023-05-06T09:13:03.621Z"
   },
   {
    "duration": 32,
    "start_time": "2023-05-06T09:13:03.947Z"
   },
   {
    "duration": 141,
    "start_time": "2023-05-06T09:13:03.980Z"
   },
   {
    "duration": 25,
    "start_time": "2023-05-06T09:13:04.123Z"
   },
   {
    "duration": 46,
    "start_time": "2023-05-06T09:13:04.150Z"
   },
   {
    "duration": 156,
    "start_time": "2023-05-06T09:13:04.198Z"
   },
   {
    "duration": 354,
    "start_time": "2023-05-06T09:13:04.355Z"
   },
   {
    "duration": 11,
    "start_time": "2023-05-06T09:13:04.711Z"
   },
   {
    "duration": 47,
    "start_time": "2023-05-06T09:13:04.734Z"
   },
   {
    "duration": 13,
    "start_time": "2023-05-06T09:13:04.783Z"
   },
   {
    "duration": 114,
    "start_time": "2023-05-06T09:13:04.797Z"
   },
   {
    "duration": 0,
    "start_time": "2023-05-06T09:13:04.913Z"
   },
   {
    "duration": 0,
    "start_time": "2023-05-06T09:13:04.914Z"
   },
   {
    "duration": 0,
    "start_time": "2023-05-06T09:13:04.915Z"
   },
   {
    "duration": 0,
    "start_time": "2023-05-06T09:13:04.916Z"
   },
   {
    "duration": 0,
    "start_time": "2023-05-06T09:13:04.917Z"
   },
   {
    "duration": 0,
    "start_time": "2023-05-06T09:13:04.918Z"
   },
   {
    "duration": 1,
    "start_time": "2023-05-06T09:13:04.918Z"
   },
   {
    "duration": 0,
    "start_time": "2023-05-06T09:13:04.919Z"
   },
   {
    "duration": 0,
    "start_time": "2023-05-06T09:13:04.920Z"
   },
   {
    "duration": 816,
    "start_time": "2023-05-06T09:13:59.459Z"
   },
   {
    "duration": 10,
    "start_time": "2023-05-06T09:18:16.423Z"
   },
   {
    "duration": 9,
    "start_time": "2023-05-06T09:18:29.820Z"
   },
   {
    "duration": 29,
    "start_time": "2023-05-06T09:18:31.960Z"
   },
   {
    "duration": 31,
    "start_time": "2023-05-06T09:19:34.770Z"
   },
   {
    "duration": 53,
    "start_time": "2023-05-06T09:27:39.960Z"
   },
   {
    "duration": 10,
    "start_time": "2023-05-06T09:36:07.497Z"
   },
   {
    "duration": 1415,
    "start_time": "2023-05-06T09:36:47.405Z"
   },
   {
    "duration": 847,
    "start_time": "2023-05-06T09:36:48.821Z"
   },
   {
    "duration": 1413,
    "start_time": "2023-05-06T09:36:49.670Z"
   },
   {
    "duration": 484,
    "start_time": "2023-05-06T09:36:51.085Z"
   },
   {
    "duration": 52,
    "start_time": "2023-05-06T09:36:51.570Z"
   },
   {
    "duration": 187,
    "start_time": "2023-05-06T09:36:51.636Z"
   },
   {
    "duration": 29,
    "start_time": "2023-05-06T09:36:51.825Z"
   },
   {
    "duration": 40,
    "start_time": "2023-05-06T09:36:51.858Z"
   },
   {
    "duration": 37,
    "start_time": "2023-05-06T09:36:51.900Z"
   },
   {
    "duration": 6,
    "start_time": "2023-05-06T09:36:51.939Z"
   },
   {
    "duration": 380,
    "start_time": "2023-05-06T09:36:51.946Z"
   },
   {
    "duration": 48,
    "start_time": "2023-05-06T09:36:52.328Z"
   },
   {
    "duration": 326,
    "start_time": "2023-05-06T09:36:52.377Z"
   },
   {
    "duration": 59,
    "start_time": "2023-05-06T09:36:52.705Z"
   },
   {
    "duration": 151,
    "start_time": "2023-05-06T09:36:52.765Z"
   },
   {
    "duration": 27,
    "start_time": "2023-05-06T09:36:52.917Z"
   },
   {
    "duration": 51,
    "start_time": "2023-05-06T09:36:52.945Z"
   },
   {
    "duration": 175,
    "start_time": "2023-05-06T09:36:52.998Z"
   },
   {
    "duration": 385,
    "start_time": "2023-05-06T09:36:53.175Z"
   },
   {
    "duration": 11,
    "start_time": "2023-05-06T09:36:53.562Z"
   },
   {
    "duration": 43,
    "start_time": "2023-05-06T09:36:53.575Z"
   },
   {
    "duration": 163,
    "start_time": "2023-05-06T09:36:53.620Z"
   },
   {
    "duration": 0,
    "start_time": "2023-05-06T09:36:53.785Z"
   },
   {
    "duration": 0,
    "start_time": "2023-05-06T09:36:53.786Z"
   },
   {
    "duration": 0,
    "start_time": "2023-05-06T09:36:53.787Z"
   },
   {
    "duration": 0,
    "start_time": "2023-05-06T09:36:53.788Z"
   },
   {
    "duration": 0,
    "start_time": "2023-05-06T09:36:53.789Z"
   },
   {
    "duration": 0,
    "start_time": "2023-05-06T09:36:53.791Z"
   },
   {
    "duration": 0,
    "start_time": "2023-05-06T09:36:53.792Z"
   },
   {
    "duration": 0,
    "start_time": "2023-05-06T09:36:53.793Z"
   },
   {
    "duration": 0,
    "start_time": "2023-05-06T09:36:53.794Z"
   },
   {
    "duration": 0,
    "start_time": "2023-05-06T09:36:53.795Z"
   },
   {
    "duration": 0,
    "start_time": "2023-05-06T09:36:53.796Z"
   },
   {
    "duration": 22,
    "start_time": "2023-05-06T09:37:08.865Z"
   },
   {
    "duration": 17,
    "start_time": "2023-05-06T09:38:09.512Z"
   },
   {
    "duration": 4,
    "start_time": "2023-05-06T09:40:48.617Z"
   },
   {
    "duration": 10,
    "start_time": "2023-05-06T09:41:33.955Z"
   },
   {
    "duration": 1315,
    "start_time": "2023-05-06T09:41:43.212Z"
   },
   {
    "duration": 930,
    "start_time": "2023-05-06T09:41:44.529Z"
   },
   {
    "duration": 1400,
    "start_time": "2023-05-06T09:41:45.462Z"
   },
   {
    "duration": 513,
    "start_time": "2023-05-06T09:41:46.864Z"
   },
   {
    "duration": 50,
    "start_time": "2023-05-06T09:41:47.379Z"
   },
   {
    "duration": 243,
    "start_time": "2023-05-06T09:41:47.439Z"
   },
   {
    "duration": 12,
    "start_time": "2023-05-06T09:41:47.684Z"
   },
   {
    "duration": 55,
    "start_time": "2023-05-06T09:41:47.697Z"
   },
   {
    "duration": 32,
    "start_time": "2023-05-06T09:41:47.759Z"
   },
   {
    "duration": 3,
    "start_time": "2023-05-06T09:41:47.793Z"
   },
   {
    "duration": 330,
    "start_time": "2023-05-06T09:41:47.797Z"
   },
   {
    "duration": 53,
    "start_time": "2023-05-06T09:41:48.128Z"
   },
   {
    "duration": 327,
    "start_time": "2023-05-06T09:41:48.183Z"
   },
   {
    "duration": 51,
    "start_time": "2023-05-06T09:41:48.513Z"
   },
   {
    "duration": 160,
    "start_time": "2023-05-06T09:41:48.566Z"
   },
   {
    "duration": 25,
    "start_time": "2023-05-06T09:41:48.728Z"
   },
   {
    "duration": 43,
    "start_time": "2023-05-06T09:41:48.758Z"
   },
   {
    "duration": 163,
    "start_time": "2023-05-06T09:41:48.802Z"
   },
   {
    "duration": 333,
    "start_time": "2023-05-06T09:41:48.966Z"
   },
   {
    "duration": 10,
    "start_time": "2023-05-06T09:41:49.300Z"
   },
   {
    "duration": 54,
    "start_time": "2023-05-06T09:41:49.312Z"
   },
   {
    "duration": 18,
    "start_time": "2023-05-06T09:41:49.367Z"
   },
   {
    "duration": 834,
    "start_time": "2023-05-06T09:41:49.387Z"
   },
   {
    "duration": 18,
    "start_time": "2023-05-06T09:41:50.223Z"
   },
   {
    "duration": 54,
    "start_time": "2023-05-06T09:41:50.243Z"
   },
   {
    "duration": 154,
    "start_time": "2023-05-06T09:41:50.299Z"
   },
   {
    "duration": 4,
    "start_time": "2023-05-06T09:41:50.458Z"
   },
   {
    "duration": 11,
    "start_time": "2023-05-06T09:41:50.464Z"
   },
   {
    "duration": 4,
    "start_time": "2023-05-06T09:41:50.477Z"
   },
   {
    "duration": 7,
    "start_time": "2023-05-06T09:41:50.483Z"
   },
   {
    "duration": 6,
    "start_time": "2023-05-06T09:41:50.491Z"
   },
   {
    "duration": 14,
    "start_time": "2023-05-06T09:41:50.498Z"
   },
   {
    "duration": 5,
    "start_time": "2023-05-06T09:41:50.514Z"
   },
   {
    "duration": 118,
    "start_time": "2023-05-06T13:51:20.989Z"
   },
   {
    "duration": 64,
    "start_time": "2023-05-06T13:52:27.540Z"
   },
   {
    "duration": 52,
    "start_time": "2023-05-06T13:53:06.668Z"
   },
   {
    "duration": 90,
    "start_time": "2023-05-06T13:53:13.385Z"
   },
   {
    "duration": 42,
    "start_time": "2023-05-06T13:54:06.464Z"
   },
   {
    "duration": 75,
    "start_time": "2023-05-06T13:54:19.511Z"
   },
   {
    "duration": 147,
    "start_time": "2023-05-06T13:54:30.029Z"
   },
   {
    "duration": 36,
    "start_time": "2023-05-06T13:55:41.592Z"
   },
   {
    "duration": 20,
    "start_time": "2023-05-06T13:55:48.223Z"
   },
   {
    "duration": 6,
    "start_time": "2023-05-06T13:56:13.152Z"
   },
   {
    "duration": 11,
    "start_time": "2023-05-06T13:56:18.613Z"
   },
   {
    "duration": 25,
    "start_time": "2023-05-06T13:56:35.731Z"
   },
   {
    "duration": 1462,
    "start_time": "2023-05-06T16:46:50.450Z"
   },
   {
    "duration": 875,
    "start_time": "2023-05-06T16:46:51.914Z"
   },
   {
    "duration": 1434,
    "start_time": "2023-05-06T16:46:52.791Z"
   },
   {
    "duration": 565,
    "start_time": "2023-05-06T16:46:54.228Z"
   },
   {
    "duration": 74,
    "start_time": "2023-05-06T16:46:54.795Z"
   },
   {
    "duration": 219,
    "start_time": "2023-05-06T16:46:54.871Z"
   },
   {
    "duration": 11,
    "start_time": "2023-05-06T16:46:55.091Z"
   },
   {
    "duration": 64,
    "start_time": "2023-05-06T16:46:55.104Z"
   },
   {
    "duration": 29,
    "start_time": "2023-05-06T16:46:55.170Z"
   },
   {
    "duration": 3,
    "start_time": "2023-05-06T16:46:55.201Z"
   },
   {
    "duration": 354,
    "start_time": "2023-05-06T16:46:55.206Z"
   },
   {
    "duration": 28,
    "start_time": "2023-05-06T16:46:55.563Z"
   },
   {
    "duration": 312,
    "start_time": "2023-05-06T16:46:55.593Z"
   },
   {
    "duration": 60,
    "start_time": "2023-05-06T16:46:55.907Z"
   },
   {
    "duration": 161,
    "start_time": "2023-05-06T16:46:55.969Z"
   },
   {
    "duration": 12,
    "start_time": "2023-05-06T16:46:56.135Z"
   },
   {
    "duration": 59,
    "start_time": "2023-05-06T16:46:56.148Z"
   },
   {
    "duration": 186,
    "start_time": "2023-05-06T16:46:56.208Z"
   },
   {
    "duration": 385,
    "start_time": "2023-05-06T16:46:56.396Z"
   },
   {
    "duration": 11,
    "start_time": "2023-05-06T16:46:56.783Z"
   },
   {
    "duration": 51,
    "start_time": "2023-05-06T16:46:56.795Z"
   },
   {
    "duration": 24,
    "start_time": "2023-05-06T16:46:56.848Z"
   },
   {
    "duration": 899,
    "start_time": "2023-05-06T16:46:56.874Z"
   },
   {
    "duration": 9,
    "start_time": "2023-05-06T16:46:57.775Z"
   },
   {
    "duration": 30,
    "start_time": "2023-05-06T16:46:57.786Z"
   },
   {
    "duration": 169,
    "start_time": "2023-05-06T16:46:57.818Z"
   },
   {
    "duration": 2,
    "start_time": "2023-05-06T16:46:57.989Z"
   },
   {
    "duration": 8,
    "start_time": "2023-05-06T16:46:57.995Z"
   },
   {
    "duration": 9,
    "start_time": "2023-05-06T16:46:58.004Z"
   },
   {
    "duration": 6,
    "start_time": "2023-05-06T16:46:58.015Z"
   },
   {
    "duration": 20,
    "start_time": "2023-05-06T16:46:58.022Z"
   },
   {
    "duration": 37,
    "start_time": "2023-05-06T16:46:58.043Z"
   },
   {
    "duration": 11,
    "start_time": "2023-05-06T16:46:58.082Z"
   },
   {
    "duration": 1471,
    "start_time": "2023-05-06T17:03:12.572Z"
   },
   {
    "duration": 904,
    "start_time": "2023-05-06T17:03:14.045Z"
   },
   {
    "duration": 1488,
    "start_time": "2023-05-06T17:03:14.951Z"
   },
   {
    "duration": 567,
    "start_time": "2023-05-06T17:03:16.441Z"
   },
   {
    "duration": 64,
    "start_time": "2023-05-06T17:03:17.010Z"
   },
   {
    "duration": 223,
    "start_time": "2023-05-06T17:03:17.076Z"
   },
   {
    "duration": 13,
    "start_time": "2023-05-06T17:03:17.302Z"
   },
   {
    "duration": 66,
    "start_time": "2023-05-06T17:03:17.317Z"
   },
   {
    "duration": 35,
    "start_time": "2023-05-06T17:03:17.384Z"
   },
   {
    "duration": 11,
    "start_time": "2023-05-06T17:03:17.421Z"
   },
   {
    "duration": 365,
    "start_time": "2023-05-06T17:03:17.434Z"
   },
   {
    "duration": 59,
    "start_time": "2023-05-06T17:03:17.800Z"
   },
   {
    "duration": 306,
    "start_time": "2023-05-06T17:03:17.862Z"
   },
   {
    "duration": 30,
    "start_time": "2023-05-06T17:03:18.169Z"
   },
   {
    "duration": 176,
    "start_time": "2023-05-06T17:03:18.200Z"
   },
   {
    "duration": 10,
    "start_time": "2023-05-06T17:03:18.377Z"
   },
   {
    "duration": 51,
    "start_time": "2023-05-06T17:03:18.388Z"
   },
   {
    "duration": 165,
    "start_time": "2023-05-06T17:03:18.440Z"
   },
   {
    "duration": 371,
    "start_time": "2023-05-06T17:03:18.607Z"
   },
   {
    "duration": 10,
    "start_time": "2023-05-06T17:03:18.979Z"
   },
   {
    "duration": 67,
    "start_time": "2023-05-06T17:03:18.991Z"
   },
   {
    "duration": 19,
    "start_time": "2023-05-06T17:03:19.063Z"
   },
   {
    "duration": 839,
    "start_time": "2023-05-06T17:03:19.084Z"
   },
   {
    "duration": 26,
    "start_time": "2023-05-06T17:03:19.925Z"
   },
   {
    "duration": 59,
    "start_time": "2023-05-06T17:03:19.956Z"
   },
   {
    "duration": 181,
    "start_time": "2023-05-06T17:03:20.017Z"
   },
   {
    "duration": 2,
    "start_time": "2023-05-06T17:03:20.201Z"
   },
   {
    "duration": 58,
    "start_time": "2023-05-06T17:03:20.207Z"
   },
   {
    "duration": 14,
    "start_time": "2023-05-06T17:03:20.267Z"
   },
   {
    "duration": 16,
    "start_time": "2023-05-06T17:03:20.283Z"
   },
   {
    "duration": 18,
    "start_time": "2023-05-06T17:03:20.301Z"
   },
   {
    "duration": 10,
    "start_time": "2023-05-06T17:03:20.320Z"
   },
   {
    "duration": 37,
    "start_time": "2023-05-06T17:03:20.331Z"
   },
   {
    "duration": 1472,
    "start_time": "2023-05-06T18:06:42.535Z"
   },
   {
    "duration": 990,
    "start_time": "2023-05-06T18:06:44.009Z"
   },
   {
    "duration": 1689,
    "start_time": "2023-05-06T18:06:45.004Z"
   },
   {
    "duration": 660,
    "start_time": "2023-05-06T18:06:46.696Z"
   },
   {
    "duration": 63,
    "start_time": "2023-05-06T18:06:47.359Z"
   },
   {
    "duration": 232,
    "start_time": "2023-05-06T18:06:47.424Z"
   },
   {
    "duration": 14,
    "start_time": "2023-05-06T18:06:47.657Z"
   },
   {
    "duration": 58,
    "start_time": "2023-05-06T18:06:47.673Z"
   },
   {
    "duration": 57,
    "start_time": "2023-05-06T18:06:47.732Z"
   },
   {
    "duration": 9,
    "start_time": "2023-05-06T18:06:47.792Z"
   },
   {
    "duration": 385,
    "start_time": "2023-05-06T18:06:47.802Z"
   },
   {
    "duration": 31,
    "start_time": "2023-05-06T18:06:48.189Z"
   },
   {
    "duration": 349,
    "start_time": "2023-05-06T18:06:48.221Z"
   },
   {
    "duration": 49,
    "start_time": "2023-05-06T18:06:48.571Z"
   },
   {
    "duration": 191,
    "start_time": "2023-05-06T18:06:48.621Z"
   },
   {
    "duration": 10,
    "start_time": "2023-05-06T18:06:48.814Z"
   },
   {
    "duration": 44,
    "start_time": "2023-05-06T18:06:48.825Z"
   },
   {
    "duration": 207,
    "start_time": "2023-05-06T18:06:48.871Z"
   },
   {
    "duration": 384,
    "start_time": "2023-05-06T18:06:49.079Z"
   },
   {
    "duration": 21,
    "start_time": "2023-05-06T18:06:49.468Z"
   },
   {
    "duration": 42,
    "start_time": "2023-05-06T18:06:49.491Z"
   },
   {
    "duration": 23,
    "start_time": "2023-05-06T18:06:49.545Z"
   },
   {
    "duration": 957,
    "start_time": "2023-05-06T18:06:49.570Z"
   },
   {
    "duration": 21,
    "start_time": "2023-05-06T18:06:50.535Z"
   },
   {
    "duration": 67,
    "start_time": "2023-05-06T18:06:50.561Z"
   },
   {
    "duration": 183,
    "start_time": "2023-05-06T18:06:50.630Z"
   },
   {
    "duration": 2,
    "start_time": "2023-05-06T18:06:50.815Z"
   },
   {
    "duration": 91,
    "start_time": "2023-05-06T18:06:50.820Z"
   },
   {
    "duration": 16,
    "start_time": "2023-05-06T18:06:50.913Z"
   },
   {
    "duration": 60,
    "start_time": "2023-05-06T18:06:50.931Z"
   },
   {
    "duration": 22,
    "start_time": "2023-05-06T18:06:50.993Z"
   },
   {
    "duration": 79,
    "start_time": "2023-05-06T18:06:51.017Z"
   },
   {
    "duration": 12,
    "start_time": "2023-05-06T18:06:51.098Z"
   },
   {
    "duration": 159,
    "start_time": "2023-05-06T18:06:51.111Z"
   },
   {
    "duration": 4,
    "start_time": "2023-05-06T18:07:04.590Z"
   },
   {
    "duration": 11,
    "start_time": "2023-05-06T18:22:26.315Z"
   },
   {
    "duration": 30,
    "start_time": "2023-05-06T18:23:27.663Z"
   },
   {
    "duration": 11,
    "start_time": "2023-05-06T18:23:32.917Z"
   },
   {
    "duration": 140270,
    "start_time": "2023-05-06T18:23:45.279Z"
   },
   {
    "duration": 1378,
    "start_time": "2023-05-06T21:03:15.053Z"
   },
   {
    "duration": 796,
    "start_time": "2023-05-06T21:03:16.433Z"
   },
   {
    "duration": 1294,
    "start_time": "2023-05-06T21:03:17.237Z"
   },
   {
    "duration": 513,
    "start_time": "2023-05-06T21:03:18.533Z"
   },
   {
    "duration": 48,
    "start_time": "2023-05-06T21:03:19.048Z"
   },
   {
    "duration": 192,
    "start_time": "2023-05-06T21:03:19.097Z"
   },
   {
    "duration": 11,
    "start_time": "2023-05-06T21:03:19.291Z"
   },
   {
    "duration": 58,
    "start_time": "2023-05-06T21:03:19.303Z"
   },
   {
    "duration": 28,
    "start_time": "2023-05-06T21:03:19.362Z"
   },
   {
    "duration": 3,
    "start_time": "2023-05-06T21:03:19.393Z"
   },
   {
    "duration": 317,
    "start_time": "2023-05-06T21:03:19.398Z"
   },
   {
    "duration": 45,
    "start_time": "2023-05-06T21:03:19.716Z"
   },
   {
    "duration": 292,
    "start_time": "2023-05-06T21:03:19.762Z"
   },
   {
    "duration": 36,
    "start_time": "2023-05-06T21:03:20.055Z"
   },
   {
    "duration": 165,
    "start_time": "2023-05-06T21:03:20.093Z"
   },
   {
    "duration": 10,
    "start_time": "2023-05-06T21:03:20.260Z"
   },
   {
    "duration": 48,
    "start_time": "2023-05-06T21:03:20.271Z"
   },
   {
    "duration": 156,
    "start_time": "2023-05-06T21:03:20.321Z"
   },
   {
    "duration": 372,
    "start_time": "2023-05-06T21:03:20.479Z"
   },
   {
    "duration": 10,
    "start_time": "2023-05-06T21:03:20.853Z"
   },
   {
    "duration": 33,
    "start_time": "2023-05-06T21:03:20.865Z"
   },
   {
    "duration": 50,
    "start_time": "2023-05-06T21:03:20.899Z"
   },
   {
    "duration": 857,
    "start_time": "2023-05-06T21:03:20.951Z"
   },
   {
    "duration": 8,
    "start_time": "2023-05-06T21:03:21.810Z"
   },
   {
    "duration": 43,
    "start_time": "2023-05-06T21:03:21.820Z"
   },
   {
    "duration": 158,
    "start_time": "2023-05-06T21:03:21.864Z"
   },
   {
    "duration": 2,
    "start_time": "2023-05-06T21:03:22.024Z"
   },
   {
    "duration": 20,
    "start_time": "2023-05-06T21:03:22.036Z"
   },
   {
    "duration": 5,
    "start_time": "2023-05-06T21:03:22.058Z"
   },
   {
    "duration": 10,
    "start_time": "2023-05-06T21:03:22.065Z"
   },
   {
    "duration": 11,
    "start_time": "2023-05-06T21:03:22.076Z"
   },
   {
    "duration": 8,
    "start_time": "2023-05-06T21:03:22.089Z"
   },
   {
    "duration": 10,
    "start_time": "2023-05-06T21:03:22.098Z"
   },
   {
    "duration": 13,
    "start_time": "2023-05-06T21:03:22.109Z"
   },
   {
    "duration": 9,
    "start_time": "2023-05-06T21:03:22.123Z"
   },
   {
    "duration": 123,
    "start_time": "2023-05-06T21:03:22.134Z"
   },
   {
    "duration": 66,
    "start_time": "2023-05-06T21:18:44.694Z"
   },
   {
    "duration": 4,
    "start_time": "2023-05-06T21:19:13.581Z"
   },
   {
    "duration": 4,
    "start_time": "2023-05-06T21:19:22.481Z"
   },
   {
    "duration": 5,
    "start_time": "2023-05-06T21:27:46.428Z"
   },
   {
    "duration": 6,
    "start_time": "2023-05-06T21:28:10.446Z"
   },
   {
    "duration": 1630,
    "start_time": "2023-05-06T23:01:29.183Z"
   },
   {
    "duration": 958,
    "start_time": "2023-05-06T23:01:30.815Z"
   },
   {
    "duration": 1472,
    "start_time": "2023-05-06T23:01:31.774Z"
   },
   {
    "duration": 536,
    "start_time": "2023-05-06T23:01:33.249Z"
   },
   {
    "duration": 60,
    "start_time": "2023-05-06T23:01:33.786Z"
   },
   {
    "duration": 210,
    "start_time": "2023-05-06T23:01:33.848Z"
   },
   {
    "duration": 12,
    "start_time": "2023-05-06T23:01:34.062Z"
   },
   {
    "duration": 60,
    "start_time": "2023-05-06T23:01:34.076Z"
   },
   {
    "duration": 45,
    "start_time": "2023-05-06T23:01:34.142Z"
   },
   {
    "duration": 3,
    "start_time": "2023-05-06T23:01:34.189Z"
   },
   {
    "duration": 392,
    "start_time": "2023-05-06T23:01:34.194Z"
   },
   {
    "duration": 34,
    "start_time": "2023-05-06T23:01:34.589Z"
   },
   {
    "duration": 379,
    "start_time": "2023-05-06T23:01:34.625Z"
   },
   {
    "duration": 38,
    "start_time": "2023-05-06T23:01:35.006Z"
   },
   {
    "duration": 159,
    "start_time": "2023-05-06T23:01:35.046Z"
   },
   {
    "duration": 10,
    "start_time": "2023-05-06T23:01:35.207Z"
   },
   {
    "duration": 63,
    "start_time": "2023-05-06T23:01:35.219Z"
   },
   {
    "duration": 192,
    "start_time": "2023-05-06T23:01:35.284Z"
   },
   {
    "duration": 332,
    "start_time": "2023-05-06T23:01:35.478Z"
   },
   {
    "duration": 10,
    "start_time": "2023-05-06T23:01:35.811Z"
   },
   {
    "duration": 70,
    "start_time": "2023-05-06T23:01:35.823Z"
   },
   {
    "duration": 17,
    "start_time": "2023-05-06T23:01:35.895Z"
   },
   {
    "duration": 814,
    "start_time": "2023-05-06T23:01:35.913Z"
   },
   {
    "duration": 11,
    "start_time": "2023-05-06T23:01:36.728Z"
   },
   {
    "duration": 57,
    "start_time": "2023-05-06T23:01:36.740Z"
   },
   {
    "duration": 166,
    "start_time": "2023-05-06T23:01:36.799Z"
   },
   {
    "duration": 2,
    "start_time": "2023-05-06T23:01:36.967Z"
   },
   {
    "duration": 8,
    "start_time": "2023-05-06T23:01:36.972Z"
   },
   {
    "duration": 10,
    "start_time": "2023-05-06T23:01:36.981Z"
   },
   {
    "duration": 12,
    "start_time": "2023-05-06T23:01:36.992Z"
   },
   {
    "duration": 6,
    "start_time": "2023-05-06T23:01:37.005Z"
   },
   {
    "duration": 12,
    "start_time": "2023-05-06T23:01:37.012Z"
   },
   {
    "duration": 39,
    "start_time": "2023-05-06T23:01:37.025Z"
   },
   {
    "duration": 190981,
    "start_time": "2023-05-06T23:01:37.066Z"
   },
   {
    "duration": 112601,
    "start_time": "2023-05-06T23:04:48.049Z"
   },
   {
    "duration": 186,
    "start_time": "2023-05-06T23:06:40.652Z"
   },
   {
    "duration": 17488,
    "start_time": "2023-05-06T23:06:40.840Z"
   },
   {
    "duration": 1528,
    "start_time": "2023-05-08T11:58:06.608Z"
   },
   {
    "duration": 752,
    "start_time": "2023-05-08T11:58:08.138Z"
   },
   {
    "duration": 1265,
    "start_time": "2023-05-08T11:58:08.892Z"
   },
   {
    "duration": 752,
    "start_time": "2023-05-08T11:58:20.421Z"
   },
   {
    "duration": 1105,
    "start_time": "2023-05-08T11:58:21.174Z"
   },
   {
    "duration": 377,
    "start_time": "2023-05-08T11:58:22.280Z"
   },
   {
    "duration": 43,
    "start_time": "2023-05-08T11:58:23.209Z"
   },
   {
    "duration": 186,
    "start_time": "2023-05-08T11:58:23.969Z"
   },
   {
    "duration": 13,
    "start_time": "2023-05-08T11:58:24.221Z"
   },
   {
    "duration": 44,
    "start_time": "2023-05-08T11:58:24.449Z"
   },
   {
    "duration": 50,
    "start_time": "2023-05-08T11:58:24.661Z"
   },
   {
    "duration": 3,
    "start_time": "2023-05-08T11:58:24.943Z"
   },
   {
    "duration": 270,
    "start_time": "2023-05-08T11:58:25.269Z"
   },
   {
    "duration": 30,
    "start_time": "2023-05-08T11:58:25.789Z"
   },
   {
    "duration": 273,
    "start_time": "2023-05-08T11:58:26.289Z"
   },
   {
    "duration": 33,
    "start_time": "2023-05-08T11:58:26.568Z"
   },
   {
    "duration": 155,
    "start_time": "2023-05-08T11:58:26.888Z"
   },
   {
    "duration": 14,
    "start_time": "2023-05-08T11:58:27.429Z"
   },
   {
    "duration": 43,
    "start_time": "2023-05-08T11:58:27.914Z"
   },
   {
    "duration": 189,
    "start_time": "2023-05-08T11:58:28.450Z"
   },
   {
    "duration": 301,
    "start_time": "2023-05-08T11:58:29.449Z"
   },
   {
    "duration": 11,
    "start_time": "2023-05-08T11:58:30.409Z"
   },
   {
    "duration": 32,
    "start_time": "2023-05-08T11:58:31.410Z"
   },
   {
    "duration": 5,
    "start_time": "2023-05-08T11:58:45.132Z"
   },
   {
    "duration": 1565,
    "start_time": "2023-05-08T12:00:12.865Z"
   },
   {
    "duration": 729,
    "start_time": "2023-05-08T12:00:15.566Z"
   },
   {
    "duration": 1179,
    "start_time": "2023-05-08T12:00:16.297Z"
   },
   {
    "duration": 410,
    "start_time": "2023-05-08T12:00:19.999Z"
   },
   {
    "duration": 46,
    "start_time": "2023-05-08T12:00:21.146Z"
   },
   {
    "duration": 193,
    "start_time": "2023-05-08T12:00:22.265Z"
   },
   {
    "duration": 15,
    "start_time": "2023-05-08T12:00:22.461Z"
   },
   {
    "duration": 42,
    "start_time": "2023-05-08T12:00:22.825Z"
   },
   {
    "duration": 27,
    "start_time": "2023-05-08T12:00:22.986Z"
   },
   {
    "duration": 4,
    "start_time": "2023-05-08T12:00:23.406Z"
   },
   {
    "duration": 282,
    "start_time": "2023-05-08T12:00:23.778Z"
   },
   {
    "duration": 29,
    "start_time": "2023-05-08T12:00:24.063Z"
   },
   {
    "duration": 342,
    "start_time": "2023-05-08T12:00:24.345Z"
   },
   {
    "duration": 41,
    "start_time": "2023-05-08T12:00:24.689Z"
   },
   {
    "duration": 152,
    "start_time": "2023-05-08T12:00:24.980Z"
   },
   {
    "duration": 12,
    "start_time": "2023-05-08T12:00:25.586Z"
   },
   {
    "duration": 38,
    "start_time": "2023-05-08T12:00:26.109Z"
   },
   {
    "duration": 155,
    "start_time": "2023-05-08T12:00:26.585Z"
   },
   {
    "duration": 334,
    "start_time": "2023-05-08T12:00:27.466Z"
   },
   {
    "duration": 12,
    "start_time": "2023-05-08T12:00:45.366Z"
   },
   {
    "duration": 47,
    "start_time": "2023-05-08T12:00:49.786Z"
   },
   {
    "duration": 5,
    "start_time": "2023-05-08T12:00:52.325Z"
   },
   {
    "duration": 24,
    "start_time": "2023-05-08T12:16:48.205Z"
   },
   {
    "duration": 731,
    "start_time": "2023-05-08T12:16:50.206Z"
   },
   {
    "duration": 11,
    "start_time": "2023-05-08T12:16:53.187Z"
   },
   {
    "duration": 29,
    "start_time": "2023-05-08T12:16:53.545Z"
   },
   {
    "duration": 10,
    "start_time": "2023-05-08T12:17:03.306Z"
   },
   {
    "duration": 57,
    "start_time": "2023-05-08T14:22:32.725Z"
   },
   {
    "duration": 1715,
    "start_time": "2023-05-08T14:23:17.693Z"
   },
   {
    "duration": 3075,
    "start_time": "2023-05-08T14:23:19.411Z"
   },
   {
    "duration": 1457,
    "start_time": "2023-05-08T14:23:22.488Z"
   },
   {
    "duration": 553,
    "start_time": "2023-05-08T14:23:23.947Z"
   },
   {
    "duration": 61,
    "start_time": "2023-05-08T14:23:24.502Z"
   },
   {
    "duration": 212,
    "start_time": "2023-05-08T14:23:24.565Z"
   },
   {
    "duration": 13,
    "start_time": "2023-05-08T14:23:24.779Z"
   },
   {
    "duration": 74,
    "start_time": "2023-05-08T14:23:24.794Z"
   },
   {
    "duration": 30,
    "start_time": "2023-05-08T14:23:24.870Z"
   },
   {
    "duration": 9,
    "start_time": "2023-05-08T14:23:24.903Z"
   },
   {
    "duration": 384,
    "start_time": "2023-05-08T14:23:24.914Z"
   },
   {
    "duration": 42,
    "start_time": "2023-05-08T14:23:25.300Z"
   },
   {
    "duration": 340,
    "start_time": "2023-05-08T14:23:25.344Z"
   },
   {
    "duration": 34,
    "start_time": "2023-05-08T14:23:25.686Z"
   },
   {
    "duration": 203,
    "start_time": "2023-05-08T14:23:25.722Z"
   },
   {
    "duration": 22,
    "start_time": "2023-05-08T14:23:25.927Z"
   },
   {
    "duration": 49,
    "start_time": "2023-05-08T14:23:25.951Z"
   },
   {
    "duration": 206,
    "start_time": "2023-05-08T14:23:26.001Z"
   },
   {
    "duration": 461,
    "start_time": "2023-05-08T14:23:26.209Z"
   },
   {
    "duration": 15,
    "start_time": "2023-05-08T14:23:26.672Z"
   },
   {
    "duration": 80,
    "start_time": "2023-05-08T14:23:26.689Z"
   },
   {
    "duration": 5,
    "start_time": "2023-05-08T14:23:26.771Z"
   },
   {
    "duration": 30,
    "start_time": "2023-05-08T14:23:26.778Z"
   },
   {
    "duration": 819,
    "start_time": "2023-05-08T14:23:26.810Z"
   },
   {
    "duration": 13,
    "start_time": "2023-05-08T14:23:27.631Z"
   },
   {
    "duration": 39,
    "start_time": "2023-05-08T14:23:27.646Z"
   },
   {
    "duration": 178,
    "start_time": "2023-05-08T14:23:27.687Z"
   },
   {
    "duration": 4,
    "start_time": "2023-05-08T14:23:27.868Z"
   },
   {
    "duration": 29,
    "start_time": "2023-05-08T14:23:27.874Z"
   },
   {
    "duration": 25,
    "start_time": "2023-05-08T14:23:27.905Z"
   },
   {
    "duration": 17,
    "start_time": "2023-05-08T14:23:27.932Z"
   },
   {
    "duration": 20,
    "start_time": "2023-05-08T14:23:27.951Z"
   },
   {
    "duration": 32,
    "start_time": "2023-05-08T14:23:27.973Z"
   },
   {
    "duration": 24,
    "start_time": "2023-05-08T14:23:28.007Z"
   },
   {
    "duration": 13,
    "start_time": "2023-05-08T14:23:28.033Z"
   },
   {
    "duration": 16,
    "start_time": "2023-05-08T14:23:28.048Z"
   },
   {
    "duration": 279,
    "start_time": "2023-05-08T14:23:28.066Z"
   },
   {
    "duration": 19788,
    "start_time": "2023-05-08T14:23:28.347Z"
   },
   {
    "duration": 28,
    "start_time": "2023-05-08T14:24:35.009Z"
   },
   {
    "duration": 7,
    "start_time": "2023-05-08T14:24:47.797Z"
   },
   {
    "duration": 898,
    "start_time": "2023-05-08T14:24:49.508Z"
   },
   {
    "duration": 556,
    "start_time": "2023-05-08T14:24:55.455Z"
   },
   {
    "duration": 55,
    "start_time": "2023-05-08T14:24:58.010Z"
   },
   {
    "duration": 211,
    "start_time": "2023-05-08T14:25:00.803Z"
   },
   {
    "duration": 1579,
    "start_time": "2023-05-08T14:25:09.730Z"
   },
   {
    "duration": 909,
    "start_time": "2023-05-08T14:25:11.312Z"
   },
   {
    "duration": 1518,
    "start_time": "2023-05-08T14:25:12.223Z"
   },
   {
    "duration": 601,
    "start_time": "2023-05-08T14:25:13.744Z"
   },
   {
    "duration": 59,
    "start_time": "2023-05-08T14:25:14.347Z"
   },
   {
    "duration": 224,
    "start_time": "2023-05-08T14:25:14.408Z"
   },
   {
    "duration": 17,
    "start_time": "2023-05-08T14:25:14.635Z"
   },
   {
    "duration": 50,
    "start_time": "2023-05-08T14:25:14.656Z"
   },
   {
    "duration": 59,
    "start_time": "2023-05-08T14:25:14.708Z"
   },
   {
    "duration": 5,
    "start_time": "2023-05-08T14:25:14.772Z"
   },
   {
    "duration": 346,
    "start_time": "2023-05-08T14:25:14.779Z"
   },
   {
    "duration": 37,
    "start_time": "2023-05-08T14:25:15.126Z"
   },
   {
    "duration": 333,
    "start_time": "2023-05-08T14:25:15.165Z"
   },
   {
    "duration": 42,
    "start_time": "2023-05-08T14:25:15.500Z"
   },
   {
    "duration": 161,
    "start_time": "2023-05-08T14:25:15.545Z"
   },
   {
    "duration": 13,
    "start_time": "2023-05-08T14:25:15.708Z"
   },
   {
    "duration": 60,
    "start_time": "2023-05-08T14:25:15.724Z"
   },
   {
    "duration": 233,
    "start_time": "2023-05-08T14:25:15.786Z"
   },
   {
    "duration": 394,
    "start_time": "2023-05-08T14:25:16.022Z"
   },
   {
    "duration": 24,
    "start_time": "2023-05-08T14:25:16.418Z"
   },
   {
    "duration": 47,
    "start_time": "2023-05-08T14:25:16.444Z"
   },
   {
    "duration": 5,
    "start_time": "2023-05-08T14:25:16.493Z"
   },
   {
    "duration": 48,
    "start_time": "2023-05-08T14:25:16.499Z"
   },
   {
    "duration": 865,
    "start_time": "2023-05-08T14:25:16.550Z"
   },
   {
    "duration": 9,
    "start_time": "2023-05-08T14:25:17.417Z"
   },
   {
    "duration": 48,
    "start_time": "2023-05-08T14:25:17.428Z"
   },
   {
    "duration": 174,
    "start_time": "2023-05-08T14:25:17.478Z"
   },
   {
    "duration": 4,
    "start_time": "2023-05-08T14:25:17.655Z"
   },
   {
    "duration": 21,
    "start_time": "2023-05-08T14:25:17.661Z"
   },
   {
    "duration": 12,
    "start_time": "2023-05-08T14:25:17.684Z"
   },
   {
    "duration": 30,
    "start_time": "2023-05-08T14:25:17.698Z"
   },
   {
    "duration": 41,
    "start_time": "2023-05-08T14:25:17.730Z"
   },
   {
    "duration": 30,
    "start_time": "2023-05-08T14:25:17.774Z"
   },
   {
    "duration": 18,
    "start_time": "2023-05-08T14:25:17.806Z"
   },
   {
    "duration": 22,
    "start_time": "2023-05-08T14:25:17.827Z"
   },
   {
    "duration": 29,
    "start_time": "2023-05-08T14:25:17.851Z"
   },
   {
    "duration": 162,
    "start_time": "2023-05-08T14:25:17.882Z"
   },
   {
    "duration": 19902,
    "start_time": "2023-05-08T14:25:18.048Z"
   },
   {
    "duration": 1602,
    "start_time": "2023-05-08T14:26:29.025Z"
   },
   {
    "duration": 934,
    "start_time": "2023-05-08T14:26:30.630Z"
   },
   {
    "duration": 1454,
    "start_time": "2023-05-08T14:26:31.566Z"
   },
   {
    "duration": 567,
    "start_time": "2023-05-08T14:26:33.023Z"
   },
   {
    "duration": 67,
    "start_time": "2023-05-08T14:26:33.592Z"
   },
   {
    "duration": 223,
    "start_time": "2023-05-08T14:26:33.661Z"
   },
   {
    "duration": 13,
    "start_time": "2023-05-08T14:26:33.885Z"
   },
   {
    "duration": 67,
    "start_time": "2023-05-08T14:26:33.900Z"
   },
   {
    "duration": 30,
    "start_time": "2023-05-08T14:26:33.968Z"
   },
   {
    "duration": 4,
    "start_time": "2023-05-08T14:26:34.001Z"
   },
   {
    "duration": 354,
    "start_time": "2023-05-08T14:26:34.006Z"
   },
   {
    "duration": 30,
    "start_time": "2023-05-08T14:26:34.362Z"
   },
   {
    "duration": 332,
    "start_time": "2023-05-08T14:26:34.393Z"
   },
   {
    "duration": 41,
    "start_time": "2023-05-08T14:26:34.727Z"
   },
   {
    "duration": 176,
    "start_time": "2023-05-08T14:26:34.771Z"
   },
   {
    "duration": 13,
    "start_time": "2023-05-08T14:26:34.949Z"
   },
   {
    "duration": 62,
    "start_time": "2023-05-08T14:26:34.964Z"
   },
   {
    "duration": 194,
    "start_time": "2023-05-08T14:26:35.029Z"
   },
   {
    "duration": 385,
    "start_time": "2023-05-08T14:26:35.226Z"
   },
   {
    "duration": 13,
    "start_time": "2023-05-08T14:26:35.613Z"
   },
   {
    "duration": 61,
    "start_time": "2023-05-08T14:26:35.629Z"
   },
   {
    "duration": 5,
    "start_time": "2023-05-08T14:26:35.693Z"
   },
   {
    "duration": 49,
    "start_time": "2023-05-08T14:26:35.700Z"
   },
   {
    "duration": 863,
    "start_time": "2023-05-08T14:26:35.752Z"
   },
   {
    "duration": 11,
    "start_time": "2023-05-08T14:26:36.618Z"
   },
   {
    "duration": 45,
    "start_time": "2023-05-08T14:26:36.645Z"
   },
   {
    "duration": 183,
    "start_time": "2023-05-08T14:26:36.692Z"
   },
   {
    "duration": 3,
    "start_time": "2023-05-08T14:26:36.878Z"
   },
   {
    "duration": 31,
    "start_time": "2023-05-08T14:26:36.882Z"
   },
   {
    "duration": 6,
    "start_time": "2023-05-08T14:26:36.915Z"
   },
   {
    "duration": 15,
    "start_time": "2023-05-08T14:26:36.923Z"
   },
   {
    "duration": 31,
    "start_time": "2023-05-08T14:26:36.940Z"
   },
   {
    "duration": 19,
    "start_time": "2023-05-08T14:26:36.973Z"
   },
   {
    "duration": 6,
    "start_time": "2023-05-08T14:26:36.994Z"
   },
   {
    "duration": 13,
    "start_time": "2023-05-08T14:26:37.002Z"
   },
   {
    "duration": 22,
    "start_time": "2023-05-08T14:26:37.018Z"
   },
   {
    "duration": 108,
    "start_time": "2023-05-08T14:26:37.042Z"
   },
   {
    "duration": 20853,
    "start_time": "2023-05-08T14:26:37.240Z"
   },
   {
    "duration": 1644,
    "start_time": "2023-05-08T14:32:24.779Z"
   },
   {
    "duration": 958,
    "start_time": "2023-05-08T14:32:26.425Z"
   },
   {
    "duration": 1428,
    "start_time": "2023-05-08T14:32:27.385Z"
   },
   {
    "duration": 571,
    "start_time": "2023-05-08T14:32:28.816Z"
   },
   {
    "duration": 67,
    "start_time": "2023-05-08T14:32:29.389Z"
   },
   {
    "duration": 210,
    "start_time": "2023-05-08T14:32:29.457Z"
   },
   {
    "duration": 15,
    "start_time": "2023-05-08T14:32:29.669Z"
   },
   {
    "duration": 71,
    "start_time": "2023-05-08T14:32:29.686Z"
   },
   {
    "duration": 30,
    "start_time": "2023-05-08T14:32:29.759Z"
   },
   {
    "duration": 4,
    "start_time": "2023-05-08T14:32:29.792Z"
   },
   {
    "duration": 385,
    "start_time": "2023-05-08T14:32:29.797Z"
   },
   {
    "duration": 32,
    "start_time": "2023-05-08T14:32:30.184Z"
   },
   {
    "duration": 436,
    "start_time": "2023-05-08T14:32:30.218Z"
   },
   {
    "duration": 40,
    "start_time": "2023-05-08T14:32:30.656Z"
   },
   {
    "duration": 201,
    "start_time": "2023-05-08T14:32:30.698Z"
   },
   {
    "duration": 17,
    "start_time": "2023-05-08T14:32:30.902Z"
   },
   {
    "duration": 86,
    "start_time": "2023-05-08T14:32:30.921Z"
   },
   {
    "duration": 183,
    "start_time": "2023-05-08T14:32:31.009Z"
   },
   {
    "duration": 398,
    "start_time": "2023-05-08T14:32:31.194Z"
   },
   {
    "duration": 12,
    "start_time": "2023-05-08T14:32:31.595Z"
   },
   {
    "duration": 152,
    "start_time": "2023-05-08T14:32:31.609Z"
   },
   {
    "duration": 4,
    "start_time": "2023-05-08T14:32:31.763Z"
   },
   {
    "duration": 99,
    "start_time": "2023-05-08T14:32:31.768Z"
   },
   {
    "duration": 917,
    "start_time": "2023-05-08T14:32:31.869Z"
   },
   {
    "duration": 10,
    "start_time": "2023-05-08T14:32:32.787Z"
   },
   {
    "duration": 60,
    "start_time": "2023-05-08T14:32:32.799Z"
   },
   {
    "duration": 181,
    "start_time": "2023-05-08T14:32:32.861Z"
   },
   {
    "duration": 3,
    "start_time": "2023-05-08T14:32:33.045Z"
   },
   {
    "duration": 8,
    "start_time": "2023-05-08T14:32:33.050Z"
   },
   {
    "duration": 8,
    "start_time": "2023-05-08T14:32:33.060Z"
   },
   {
    "duration": 6,
    "start_time": "2023-05-08T14:32:33.070Z"
   },
   {
    "duration": 10,
    "start_time": "2023-05-08T14:32:33.078Z"
   },
   {
    "duration": 8,
    "start_time": "2023-05-08T14:32:33.090Z"
   },
   {
    "duration": 10,
    "start_time": "2023-05-08T14:32:33.100Z"
   },
   {
    "duration": 15,
    "start_time": "2023-05-08T14:32:33.112Z"
   },
   {
    "duration": 15,
    "start_time": "2023-05-08T14:32:33.128Z"
   },
   {
    "duration": 112,
    "start_time": "2023-05-08T14:32:33.145Z"
   },
   {
    "duration": 21082,
    "start_time": "2023-05-08T14:32:33.258Z"
   },
   {
    "duration": 1588,
    "start_time": "2023-05-08T14:33:48.240Z"
   },
   {
    "duration": 885,
    "start_time": "2023-05-08T14:33:49.830Z"
   },
   {
    "duration": 1410,
    "start_time": "2023-05-08T14:33:50.717Z"
   },
   {
    "duration": 553,
    "start_time": "2023-05-08T14:33:52.129Z"
   },
   {
    "duration": 63,
    "start_time": "2023-05-08T14:33:52.684Z"
   },
   {
    "duration": 210,
    "start_time": "2023-05-08T14:33:52.749Z"
   },
   {
    "duration": 15,
    "start_time": "2023-05-08T14:33:52.961Z"
   },
   {
    "duration": 66,
    "start_time": "2023-05-08T14:33:52.977Z"
   },
   {
    "duration": 28,
    "start_time": "2023-05-08T14:33:53.045Z"
   },
   {
    "duration": 8,
    "start_time": "2023-05-08T14:33:53.076Z"
   },
   {
    "duration": 359,
    "start_time": "2023-05-08T14:33:53.085Z"
   },
   {
    "duration": 31,
    "start_time": "2023-05-08T14:33:53.446Z"
   },
   {
    "duration": 357,
    "start_time": "2023-05-08T14:33:53.479Z"
   },
   {
    "duration": 33,
    "start_time": "2023-05-08T14:33:53.838Z"
   },
   {
    "duration": 176,
    "start_time": "2023-05-08T14:33:53.873Z"
   },
   {
    "duration": 13,
    "start_time": "2023-05-08T14:33:54.051Z"
   },
   {
    "duration": 54,
    "start_time": "2023-05-08T14:33:54.066Z"
   },
   {
    "duration": 196,
    "start_time": "2023-05-08T14:33:54.122Z"
   },
   {
    "duration": 394,
    "start_time": "2023-05-08T14:33:54.320Z"
   },
   {
    "duration": 12,
    "start_time": "2023-05-08T14:33:54.716Z"
   },
   {
    "duration": 141,
    "start_time": "2023-05-08T14:33:54.740Z"
   },
   {
    "duration": 4,
    "start_time": "2023-05-08T14:33:54.883Z"
   },
   {
    "duration": 53,
    "start_time": "2023-05-08T14:33:54.889Z"
   },
   {
    "duration": 911,
    "start_time": "2023-05-08T14:33:54.944Z"
   },
   {
    "duration": 11,
    "start_time": "2023-05-08T14:33:55.858Z"
   },
   {
    "duration": 55,
    "start_time": "2023-05-08T14:33:55.871Z"
   },
   {
    "duration": 178,
    "start_time": "2023-05-08T14:33:55.942Z"
   },
   {
    "duration": 3,
    "start_time": "2023-05-08T14:33:56.123Z"
   },
   {
    "duration": 17,
    "start_time": "2023-05-08T14:33:56.128Z"
   },
   {
    "duration": 11,
    "start_time": "2023-05-08T14:33:56.147Z"
   },
   {
    "duration": 6,
    "start_time": "2023-05-08T14:33:56.160Z"
   },
   {
    "duration": 5,
    "start_time": "2023-05-08T14:33:56.167Z"
   },
   {
    "duration": 7,
    "start_time": "2023-05-08T14:33:56.174Z"
   },
   {
    "duration": 7,
    "start_time": "2023-05-08T14:33:56.183Z"
   },
   {
    "duration": 18,
    "start_time": "2023-05-08T14:33:56.191Z"
   },
   {
    "duration": 15,
    "start_time": "2023-05-08T14:33:56.211Z"
   },
   {
    "duration": 117,
    "start_time": "2023-05-08T14:33:56.228Z"
   },
   {
    "duration": 20881,
    "start_time": "2023-05-08T14:33:56.346Z"
   },
   {
    "duration": 1609,
    "start_time": "2023-05-08T14:35:05.772Z"
   },
   {
    "duration": 923,
    "start_time": "2023-05-08T14:35:07.384Z"
   },
   {
    "duration": 1436,
    "start_time": "2023-05-08T14:35:08.309Z"
   },
   {
    "duration": 568,
    "start_time": "2023-05-08T14:35:09.747Z"
   },
   {
    "duration": 55,
    "start_time": "2023-05-08T14:35:10.316Z"
   },
   {
    "duration": 217,
    "start_time": "2023-05-08T14:35:10.373Z"
   },
   {
    "duration": 14,
    "start_time": "2023-05-08T14:35:10.592Z"
   },
   {
    "duration": 71,
    "start_time": "2023-05-08T14:35:10.607Z"
   },
   {
    "duration": 31,
    "start_time": "2023-05-08T14:35:10.680Z"
   },
   {
    "duration": 4,
    "start_time": "2023-05-08T14:35:10.713Z"
   },
   {
    "duration": 350,
    "start_time": "2023-05-08T14:35:10.719Z"
   },
   {
    "duration": 34,
    "start_time": "2023-05-08T14:35:11.071Z"
   },
   {
    "duration": 345,
    "start_time": "2023-05-08T14:35:11.107Z"
   },
   {
    "duration": 32,
    "start_time": "2023-05-08T14:35:11.454Z"
   },
   {
    "duration": 172,
    "start_time": "2023-05-08T14:35:11.488Z"
   },
   {
    "duration": 13,
    "start_time": "2023-05-08T14:35:11.662Z"
   },
   {
    "duration": 65,
    "start_time": "2023-05-08T14:35:11.676Z"
   },
   {
    "duration": 180,
    "start_time": "2023-05-08T14:35:11.743Z"
   },
   {
    "duration": 383,
    "start_time": "2023-05-08T14:35:11.925Z"
   },
   {
    "duration": 15,
    "start_time": "2023-05-08T14:35:12.309Z"
   },
   {
    "duration": 56,
    "start_time": "2023-05-08T14:35:12.326Z"
   },
   {
    "duration": 5,
    "start_time": "2023-05-08T14:35:12.383Z"
   },
   {
    "duration": 35,
    "start_time": "2023-05-08T14:35:12.390Z"
   },
   {
    "duration": 815,
    "start_time": "2023-05-08T14:35:12.441Z"
   },
   {
    "duration": 15,
    "start_time": "2023-05-08T14:35:13.258Z"
   },
   {
    "duration": 46,
    "start_time": "2023-05-08T14:35:13.275Z"
   },
   {
    "duration": 180,
    "start_time": "2023-05-08T14:35:13.342Z"
   },
   {
    "duration": 2,
    "start_time": "2023-05-08T14:35:13.527Z"
   },
   {
    "duration": 25,
    "start_time": "2023-05-08T14:35:13.541Z"
   },
   {
    "duration": 9,
    "start_time": "2023-05-08T14:35:13.568Z"
   },
   {
    "duration": 27,
    "start_time": "2023-05-08T14:35:13.579Z"
   },
   {
    "duration": 34,
    "start_time": "2023-05-08T14:35:13.608Z"
   },
   {
    "duration": 38,
    "start_time": "2023-05-08T14:35:13.644Z"
   },
   {
    "duration": 32,
    "start_time": "2023-05-08T14:35:13.684Z"
   },
   {
    "duration": 47,
    "start_time": "2023-05-08T14:35:13.718Z"
   },
   {
    "duration": 27,
    "start_time": "2023-05-08T14:35:13.767Z"
   },
   {
    "duration": 247,
    "start_time": "2023-05-08T14:35:13.796Z"
   },
   {
    "duration": 1690,
    "start_time": "2023-05-08T14:35:35.633Z"
   },
   {
    "duration": 911,
    "start_time": "2023-05-08T14:35:37.325Z"
   },
   {
    "duration": 1467,
    "start_time": "2023-05-08T14:35:38.238Z"
   },
   {
    "duration": 574,
    "start_time": "2023-05-08T14:35:39.708Z"
   },
   {
    "duration": 64,
    "start_time": "2023-05-08T14:35:40.284Z"
   },
   {
    "duration": 208,
    "start_time": "2023-05-08T14:35:40.351Z"
   },
   {
    "duration": 14,
    "start_time": "2023-05-08T14:35:40.562Z"
   },
   {
    "duration": 70,
    "start_time": "2023-05-08T14:35:40.578Z"
   },
   {
    "duration": 31,
    "start_time": "2023-05-08T14:35:40.650Z"
   },
   {
    "duration": 5,
    "start_time": "2023-05-08T14:35:40.685Z"
   },
   {
    "duration": 351,
    "start_time": "2023-05-08T14:35:40.691Z"
   },
   {
    "duration": 31,
    "start_time": "2023-05-08T14:35:41.044Z"
   },
   {
    "duration": 396,
    "start_time": "2023-05-08T14:35:41.077Z"
   },
   {
    "duration": 33,
    "start_time": "2023-05-08T14:35:41.474Z"
   },
   {
    "duration": 178,
    "start_time": "2023-05-08T14:35:41.508Z"
   },
   {
    "duration": 12,
    "start_time": "2023-05-08T14:35:41.688Z"
   },
   {
    "duration": 61,
    "start_time": "2023-05-08T14:35:41.702Z"
   },
   {
    "duration": 176,
    "start_time": "2023-05-08T14:35:41.765Z"
   },
   {
    "duration": 373,
    "start_time": "2023-05-08T14:35:41.943Z"
   },
   {
    "duration": 12,
    "start_time": "2023-05-08T14:35:42.318Z"
   },
   {
    "duration": 50,
    "start_time": "2023-05-08T14:35:42.341Z"
   },
   {
    "duration": 4,
    "start_time": "2023-05-08T14:35:42.393Z"
   },
   {
    "duration": 48,
    "start_time": "2023-05-08T14:35:42.398Z"
   },
   {
    "duration": 881,
    "start_time": "2023-05-08T14:35:42.448Z"
   },
   {
    "duration": 18,
    "start_time": "2023-05-08T14:35:43.331Z"
   },
   {
    "duration": 44,
    "start_time": "2023-05-08T14:35:43.351Z"
   },
   {
    "duration": 198,
    "start_time": "2023-05-08T14:35:43.397Z"
   },
   {
    "duration": 2,
    "start_time": "2023-05-08T14:35:43.599Z"
   },
   {
    "duration": 40,
    "start_time": "2023-05-08T14:35:43.602Z"
   },
   {
    "duration": 14,
    "start_time": "2023-05-08T14:35:43.644Z"
   },
   {
    "duration": 22,
    "start_time": "2023-05-08T14:35:43.659Z"
   },
   {
    "duration": 16,
    "start_time": "2023-05-08T14:35:43.683Z"
   },
   {
    "duration": 18,
    "start_time": "2023-05-08T14:35:43.701Z"
   },
   {
    "duration": 20,
    "start_time": "2023-05-08T14:35:43.721Z"
   },
   {
    "duration": 13,
    "start_time": "2023-05-08T14:35:43.744Z"
   },
   {
    "duration": 18,
    "start_time": "2023-05-08T14:35:43.759Z"
   },
   {
    "duration": 168,
    "start_time": "2023-05-08T14:35:43.779Z"
   },
   {
    "duration": 22009,
    "start_time": "2023-05-08T14:35:43.949Z"
   },
   {
    "duration": 1550,
    "start_time": "2023-05-08T14:36:08.148Z"
   },
   {
    "duration": 902,
    "start_time": "2023-05-08T14:36:09.701Z"
   },
   {
    "duration": 1530,
    "start_time": "2023-05-08T14:36:10.605Z"
   },
   {
    "duration": 557,
    "start_time": "2023-05-08T14:36:12.141Z"
   },
   {
    "duration": 64,
    "start_time": "2023-05-08T14:36:12.700Z"
   },
   {
    "duration": 223,
    "start_time": "2023-05-08T14:36:12.766Z"
   },
   {
    "duration": 13,
    "start_time": "2023-05-08T14:36:12.991Z"
   },
   {
    "duration": 63,
    "start_time": "2023-05-08T14:36:13.006Z"
   },
   {
    "duration": 30,
    "start_time": "2023-05-08T14:36:13.071Z"
   },
   {
    "duration": 4,
    "start_time": "2023-05-08T14:36:13.103Z"
   },
   {
    "duration": 363,
    "start_time": "2023-05-08T14:36:13.109Z"
   },
   {
    "duration": 33,
    "start_time": "2023-05-08T14:36:13.474Z"
   },
   {
    "duration": 340,
    "start_time": "2023-05-08T14:36:13.509Z"
   },
   {
    "duration": 34,
    "start_time": "2023-05-08T14:36:13.850Z"
   },
   {
    "duration": 181,
    "start_time": "2023-05-08T14:36:13.885Z"
   },
   {
    "duration": 13,
    "start_time": "2023-05-08T14:36:14.068Z"
   },
   {
    "duration": 66,
    "start_time": "2023-05-08T14:36:14.082Z"
   },
   {
    "duration": 181,
    "start_time": "2023-05-08T14:36:14.150Z"
   },
   {
    "duration": 379,
    "start_time": "2023-05-08T14:36:14.333Z"
   },
   {
    "duration": 27,
    "start_time": "2023-05-08T14:36:14.714Z"
   },
   {
    "duration": 42,
    "start_time": "2023-05-08T14:36:14.744Z"
   },
   {
    "duration": 5,
    "start_time": "2023-05-08T14:36:14.788Z"
   },
   {
    "duration": 48,
    "start_time": "2023-05-08T14:36:14.796Z"
   },
   {
    "duration": 861,
    "start_time": "2023-05-08T14:36:14.847Z"
   },
   {
    "duration": 11,
    "start_time": "2023-05-08T14:36:15.710Z"
   },
   {
    "duration": 58,
    "start_time": "2023-05-08T14:36:15.723Z"
   },
   {
    "duration": 197,
    "start_time": "2023-05-08T14:36:15.783Z"
   },
   {
    "duration": 3,
    "start_time": "2023-05-08T14:36:15.985Z"
   },
   {
    "duration": 32,
    "start_time": "2023-05-08T14:36:15.991Z"
   },
   {
    "duration": 19,
    "start_time": "2023-05-08T14:36:16.025Z"
   },
   {
    "duration": 22,
    "start_time": "2023-05-08T14:36:16.047Z"
   },
   {
    "duration": 22,
    "start_time": "2023-05-08T14:36:16.072Z"
   },
   {
    "duration": 29,
    "start_time": "2023-05-08T14:36:16.096Z"
   },
   {
    "duration": 10,
    "start_time": "2023-05-08T14:36:16.127Z"
   },
   {
    "duration": 26,
    "start_time": "2023-05-08T14:36:16.139Z"
   },
   {
    "duration": 18,
    "start_time": "2023-05-08T14:36:16.167Z"
   },
   {
    "duration": 156,
    "start_time": "2023-05-08T14:36:16.187Z"
   },
   {
    "duration": 20684,
    "start_time": "2023-05-08T14:36:16.353Z"
   },
   {
    "duration": 36,
    "start_time": "2023-05-08T15:00:37.999Z"
   },
   {
    "duration": 34,
    "start_time": "2023-05-08T15:00:55.617Z"
   },
   {
    "duration": 1706,
    "start_time": "2023-05-08T15:01:04.813Z"
   },
   {
    "duration": 1002,
    "start_time": "2023-05-08T15:01:06.522Z"
   },
   {
    "duration": 1566,
    "start_time": "2023-05-08T15:01:07.526Z"
   },
   {
    "duration": 631,
    "start_time": "2023-05-08T15:01:09.094Z"
   },
   {
    "duration": 67,
    "start_time": "2023-05-08T15:01:09.727Z"
   },
   {
    "duration": 230,
    "start_time": "2023-05-08T15:01:09.796Z"
   },
   {
    "duration": 16,
    "start_time": "2023-05-08T15:01:10.028Z"
   },
   {
    "duration": 123,
    "start_time": "2023-05-08T15:01:10.046Z"
   },
   {
    "duration": 32,
    "start_time": "2023-05-08T15:01:10.171Z"
   },
   {
    "duration": 23,
    "start_time": "2023-05-08T15:01:10.206Z"
   },
   {
    "duration": 422,
    "start_time": "2023-05-08T15:01:10.231Z"
   },
   {
    "duration": 37,
    "start_time": "2023-05-08T15:01:10.655Z"
   },
   {
    "duration": 360,
    "start_time": "2023-05-08T15:01:10.695Z"
   },
   {
    "duration": 34,
    "start_time": "2023-05-08T15:01:11.057Z"
   },
   {
    "duration": 186,
    "start_time": "2023-05-08T15:01:11.093Z"
   },
   {
    "duration": 14,
    "start_time": "2023-05-08T15:01:11.281Z"
   },
   {
    "duration": 73,
    "start_time": "2023-05-08T15:01:11.298Z"
   },
   {
    "duration": 191,
    "start_time": "2023-05-08T15:01:11.373Z"
   },
   {
    "duration": 397,
    "start_time": "2023-05-08T15:01:11.566Z"
   },
   {
    "duration": 13,
    "start_time": "2023-05-08T15:01:11.965Z"
   },
   {
    "duration": 71,
    "start_time": "2023-05-08T15:01:11.980Z"
   },
   {
    "duration": 4,
    "start_time": "2023-05-08T15:01:12.053Z"
   },
   {
    "duration": 28,
    "start_time": "2023-05-08T15:01:12.059Z"
   },
   {
    "duration": 897,
    "start_time": "2023-05-08T15:01:12.089Z"
   },
   {
    "duration": 19,
    "start_time": "2023-05-08T15:01:12.990Z"
   },
   {
    "duration": 60,
    "start_time": "2023-05-08T15:01:13.012Z"
   },
   {
    "duration": 168,
    "start_time": "2023-05-08T15:01:13.075Z"
   },
   {
    "duration": 0,
    "start_time": "2023-05-08T15:01:13.246Z"
   },
   {
    "duration": 0,
    "start_time": "2023-05-08T15:01:13.248Z"
   },
   {
    "duration": 0,
    "start_time": "2023-05-08T15:01:13.250Z"
   },
   {
    "duration": 0,
    "start_time": "2023-05-08T15:01:13.252Z"
   },
   {
    "duration": 0,
    "start_time": "2023-05-08T15:01:13.254Z"
   },
   {
    "duration": 0,
    "start_time": "2023-05-08T15:01:13.255Z"
   },
   {
    "duration": 0,
    "start_time": "2023-05-08T15:01:13.256Z"
   },
   {
    "duration": 0,
    "start_time": "2023-05-08T15:01:13.259Z"
   },
   {
    "duration": 0,
    "start_time": "2023-05-08T15:01:13.260Z"
   },
   {
    "duration": 0,
    "start_time": "2023-05-08T15:01:13.263Z"
   },
   {
    "duration": 0,
    "start_time": "2023-05-08T15:01:13.264Z"
   },
   {
    "duration": 195,
    "start_time": "2023-05-08T15:13:04.303Z"
   },
   {
    "duration": 14,
    "start_time": "2023-05-08T15:27:03.451Z"
   },
   {
    "duration": 160,
    "start_time": "2023-05-08T15:27:19.840Z"
   },
   {
    "duration": 506,
    "start_time": "2023-05-08T15:30:10.774Z"
   },
   {
    "duration": 1484,
    "start_time": "2023-05-08T16:01:01.491Z"
   },
   {
    "duration": 894,
    "start_time": "2023-05-08T16:01:02.978Z"
   },
   {
    "duration": 1411,
    "start_time": "2023-05-08T16:01:03.874Z"
   },
   {
    "duration": 567,
    "start_time": "2023-05-08T16:01:05.287Z"
   },
   {
    "duration": 62,
    "start_time": "2023-05-08T16:01:05.857Z"
   },
   {
    "duration": 263,
    "start_time": "2023-05-08T16:01:05.921Z"
   },
   {
    "duration": 14,
    "start_time": "2023-05-08T16:01:06.185Z"
   },
   {
    "duration": 65,
    "start_time": "2023-05-08T16:01:06.201Z"
   },
   {
    "duration": 32,
    "start_time": "2023-05-08T16:01:06.268Z"
   },
   {
    "duration": 3,
    "start_time": "2023-05-08T16:01:06.304Z"
   },
   {
    "duration": 351,
    "start_time": "2023-05-08T16:01:06.310Z"
   },
   {
    "duration": 40,
    "start_time": "2023-05-08T16:01:06.663Z"
   },
   {
    "duration": 325,
    "start_time": "2023-05-08T16:01:06.705Z"
   },
   {
    "duration": 38,
    "start_time": "2023-05-08T16:01:07.032Z"
   },
   {
    "duration": 172,
    "start_time": "2023-05-08T16:01:07.072Z"
   },
   {
    "duration": 13,
    "start_time": "2023-05-08T16:01:07.247Z"
   },
   {
    "duration": 51,
    "start_time": "2023-05-08T16:01:07.262Z"
   },
   {
    "duration": 193,
    "start_time": "2023-05-08T16:01:07.315Z"
   },
   {
    "duration": 376,
    "start_time": "2023-05-08T16:01:07.509Z"
   },
   {
    "duration": 12,
    "start_time": "2023-05-08T16:01:07.887Z"
   },
   {
    "duration": 61,
    "start_time": "2023-05-08T16:01:07.900Z"
   },
   {
    "duration": 4,
    "start_time": "2023-05-08T16:01:07.963Z"
   },
   {
    "duration": 37,
    "start_time": "2023-05-08T16:01:07.968Z"
   },
   {
    "duration": 17,
    "start_time": "2023-05-08T16:01:08.006Z"
   },
   {
    "duration": 83,
    "start_time": "2023-05-08T16:01:08.025Z"
   },
   {
    "duration": 791,
    "start_time": "2023-05-08T16:01:08.110Z"
   },
   {
    "duration": 184,
    "start_time": "2023-05-08T16:01:08.903Z"
   },
   {
    "duration": 3,
    "start_time": "2023-05-08T16:01:09.091Z"
   },
   {
    "duration": 34,
    "start_time": "2023-05-08T16:01:09.096Z"
   },
   {
    "duration": 24,
    "start_time": "2023-05-08T16:01:09.133Z"
   },
   {
    "duration": 29,
    "start_time": "2023-05-08T16:01:09.159Z"
   },
   {
    "duration": 26,
    "start_time": "2023-05-08T16:01:09.190Z"
   },
   {
    "duration": 41,
    "start_time": "2023-05-08T16:01:09.218Z"
   },
   {
    "duration": 18,
    "start_time": "2023-05-08T16:01:09.262Z"
   },
   {
    "duration": 36,
    "start_time": "2023-05-08T16:01:09.282Z"
   },
   {
    "duration": 38,
    "start_time": "2023-05-08T16:01:09.320Z"
   },
   {
    "duration": 280,
    "start_time": "2023-05-08T16:01:09.360Z"
   },
   {
    "duration": 20138,
    "start_time": "2023-05-08T16:01:09.642Z"
   },
   {
    "duration": 1515,
    "start_time": "2023-05-08T16:14:32.778Z"
   },
   {
    "duration": 858,
    "start_time": "2023-05-08T16:14:34.295Z"
   },
   {
    "duration": 1444,
    "start_time": "2023-05-08T16:14:35.155Z"
   },
   {
    "duration": 566,
    "start_time": "2023-05-08T16:14:36.601Z"
   },
   {
    "duration": 56,
    "start_time": "2023-05-08T16:14:37.170Z"
   },
   {
    "duration": 229,
    "start_time": "2023-05-08T16:14:37.229Z"
   },
   {
    "duration": 14,
    "start_time": "2023-05-08T16:14:37.459Z"
   },
   {
    "duration": 68,
    "start_time": "2023-05-08T16:14:37.474Z"
   },
   {
    "duration": 30,
    "start_time": "2023-05-08T16:14:37.544Z"
   },
   {
    "duration": 3,
    "start_time": "2023-05-08T16:14:37.577Z"
   },
   {
    "duration": 383,
    "start_time": "2023-05-08T16:14:37.582Z"
   },
   {
    "duration": 31,
    "start_time": "2023-05-08T16:14:37.966Z"
   },
   {
    "duration": 335,
    "start_time": "2023-05-08T16:14:37.999Z"
   },
   {
    "duration": 32,
    "start_time": "2023-05-08T16:14:38.340Z"
   },
   {
    "duration": 172,
    "start_time": "2023-05-08T16:14:38.373Z"
   },
   {
    "duration": 13,
    "start_time": "2023-05-08T16:14:38.547Z"
   },
   {
    "duration": 59,
    "start_time": "2023-05-08T16:14:38.561Z"
   },
   {
    "duration": 179,
    "start_time": "2023-05-08T16:14:38.622Z"
   },
   {
    "duration": 392,
    "start_time": "2023-05-08T16:14:38.803Z"
   },
   {
    "duration": 15,
    "start_time": "2023-05-08T16:14:39.197Z"
   },
   {
    "duration": 61,
    "start_time": "2023-05-08T16:14:39.214Z"
   },
   {
    "duration": 4,
    "start_time": "2023-05-08T16:14:39.277Z"
   },
   {
    "duration": 36,
    "start_time": "2023-05-08T16:14:39.283Z"
   },
   {
    "duration": 29,
    "start_time": "2023-05-08T16:14:39.321Z"
   },
   {
    "duration": 89,
    "start_time": "2023-05-08T16:14:39.352Z"
   },
   {
    "duration": 800,
    "start_time": "2023-05-08T16:14:39.443Z"
   },
   {
    "duration": 167,
    "start_time": "2023-05-08T16:14:40.245Z"
   },
   {
    "duration": 2,
    "start_time": "2023-05-08T16:14:40.416Z"
   },
   {
    "duration": 17,
    "start_time": "2023-05-08T16:14:40.420Z"
   },
   {
    "duration": 9,
    "start_time": "2023-05-08T16:14:40.439Z"
   },
   {
    "duration": 6,
    "start_time": "2023-05-08T16:14:40.450Z"
   },
   {
    "duration": 8,
    "start_time": "2023-05-08T16:14:40.457Z"
   },
   {
    "duration": 10,
    "start_time": "2023-05-08T16:14:40.467Z"
   },
   {
    "duration": 12,
    "start_time": "2023-05-08T16:14:40.479Z"
   },
   {
    "duration": 17,
    "start_time": "2023-05-08T16:14:40.492Z"
   },
   {
    "duration": 62236,
    "start_time": "2023-05-08T16:14:40.511Z"
   },
   {
    "duration": 105,
    "start_time": "2023-05-08T16:15:42.749Z"
   },
   {
    "duration": 22136,
    "start_time": "2023-05-08T16:15:42.943Z"
   },
   {
    "duration": 1547,
    "start_time": "2023-05-08T16:18:32.409Z"
   },
   {
    "duration": 962,
    "start_time": "2023-05-08T16:18:33.958Z"
   },
   {
    "duration": 1622,
    "start_time": "2023-05-08T16:18:34.922Z"
   },
   {
    "duration": 641,
    "start_time": "2023-05-08T16:18:36.547Z"
   },
   {
    "duration": 70,
    "start_time": "2023-05-08T16:18:37.190Z"
   },
   {
    "duration": 232,
    "start_time": "2023-05-08T16:18:37.263Z"
   },
   {
    "duration": 15,
    "start_time": "2023-05-08T16:18:37.498Z"
   },
   {
    "duration": 75,
    "start_time": "2023-05-08T16:18:37.515Z"
   },
   {
    "duration": 31,
    "start_time": "2023-05-08T16:18:37.592Z"
   },
   {
    "duration": 15,
    "start_time": "2023-05-08T16:18:37.626Z"
   },
   {
    "duration": 355,
    "start_time": "2023-05-08T16:18:37.643Z"
   },
   {
    "duration": 42,
    "start_time": "2023-05-08T16:18:38.000Z"
   },
   {
    "duration": 334,
    "start_time": "2023-05-08T16:18:38.044Z"
   },
   {
    "duration": 42,
    "start_time": "2023-05-08T16:18:38.380Z"
   },
   {
    "duration": 191,
    "start_time": "2023-05-08T16:18:38.424Z"
   },
   {
    "duration": 14,
    "start_time": "2023-05-08T16:18:38.617Z"
   },
   {
    "duration": 51,
    "start_time": "2023-05-08T16:18:38.642Z"
   },
   {
    "duration": 215,
    "start_time": "2023-05-08T16:18:38.695Z"
   },
   {
    "duration": 407,
    "start_time": "2023-05-08T16:18:38.911Z"
   },
   {
    "duration": 21,
    "start_time": "2023-05-08T16:18:39.320Z"
   },
   {
    "duration": 46,
    "start_time": "2023-05-08T16:18:39.343Z"
   },
   {
    "duration": 4,
    "start_time": "2023-05-08T16:18:39.391Z"
   },
   {
    "duration": 51,
    "start_time": "2023-05-08T16:18:39.397Z"
   },
   {
    "duration": 18,
    "start_time": "2023-05-08T16:18:39.449Z"
   },
   {
    "duration": 100,
    "start_time": "2023-05-08T16:18:39.469Z"
   },
   {
    "duration": 834,
    "start_time": "2023-05-08T16:18:39.571Z"
   },
   {
    "duration": 192,
    "start_time": "2023-05-08T16:18:40.407Z"
   },
   {
    "duration": 3,
    "start_time": "2023-05-08T16:18:40.602Z"
   },
   {
    "duration": 13,
    "start_time": "2023-05-08T16:18:40.607Z"
   },
   {
    "duration": 7,
    "start_time": "2023-05-08T16:18:40.622Z"
   },
   {
    "duration": 10,
    "start_time": "2023-05-08T16:18:40.631Z"
   },
   {
    "duration": 18,
    "start_time": "2023-05-08T16:18:40.643Z"
   },
   {
    "duration": 14,
    "start_time": "2023-05-08T16:18:40.663Z"
   },
   {
    "duration": 26,
    "start_time": "2023-05-08T16:18:40.678Z"
   },
   {
    "duration": 15,
    "start_time": "2023-05-08T16:18:40.706Z"
   },
   {
    "duration": 134582,
    "start_time": "2023-05-08T16:18:40.723Z"
   },
   {
    "duration": 137,
    "start_time": "2023-05-08T16:20:55.307Z"
   },
   {
    "duration": 21652,
    "start_time": "2023-05-08T16:20:55.447Z"
   },
   {
    "duration": 1575,
    "start_time": "2023-05-08T16:25:19.211Z"
   },
   {
    "duration": 1008,
    "start_time": "2023-05-08T16:25:20.788Z"
   },
   {
    "duration": 1594,
    "start_time": "2023-05-08T16:25:21.798Z"
   },
   {
    "duration": 607,
    "start_time": "2023-05-08T16:25:23.395Z"
   },
   {
    "duration": 68,
    "start_time": "2023-05-08T16:25:24.004Z"
   },
   {
    "duration": 225,
    "start_time": "2023-05-08T16:25:24.074Z"
   },
   {
    "duration": 15,
    "start_time": "2023-05-08T16:25:24.301Z"
   },
   {
    "duration": 71,
    "start_time": "2023-05-08T16:25:24.317Z"
   },
   {
    "duration": 58,
    "start_time": "2023-05-08T16:25:24.389Z"
   },
   {
    "duration": 4,
    "start_time": "2023-05-08T16:25:24.452Z"
   },
   {
    "duration": 392,
    "start_time": "2023-05-08T16:25:24.458Z"
   },
   {
    "duration": 33,
    "start_time": "2023-05-08T16:25:24.852Z"
   },
   {
    "duration": 373,
    "start_time": "2023-05-08T16:25:24.887Z"
   },
   {
    "duration": 39,
    "start_time": "2023-05-08T16:25:25.263Z"
   },
   {
    "duration": 200,
    "start_time": "2023-05-08T16:25:25.304Z"
   },
   {
    "duration": 14,
    "start_time": "2023-05-08T16:25:25.506Z"
   },
   {
    "duration": 52,
    "start_time": "2023-05-08T16:25:25.540Z"
   },
   {
    "duration": 206,
    "start_time": "2023-05-08T16:25:25.595Z"
   },
   {
    "duration": 480,
    "start_time": "2023-05-08T16:25:25.803Z"
   },
   {
    "duration": 13,
    "start_time": "2023-05-08T16:25:26.285Z"
   },
   {
    "duration": 59,
    "start_time": "2023-05-08T16:25:26.300Z"
   },
   {
    "duration": 5,
    "start_time": "2023-05-08T16:25:26.361Z"
   },
   {
    "duration": 48,
    "start_time": "2023-05-08T16:25:26.368Z"
   },
   {
    "duration": 29,
    "start_time": "2023-05-08T16:25:26.418Z"
   },
   {
    "duration": 100,
    "start_time": "2023-05-08T16:25:26.449Z"
   },
   {
    "duration": 26,
    "start_time": "2023-05-08T16:25:26.551Z"
   },
   {
    "duration": 915,
    "start_time": "2023-05-08T16:25:26.580Z"
   },
   {
    "duration": 202,
    "start_time": "2023-05-08T16:25:27.500Z"
   },
   {
    "duration": 3,
    "start_time": "2023-05-08T16:25:27.704Z"
   },
   {
    "duration": 15,
    "start_time": "2023-05-08T16:25:27.709Z"
   },
   {
    "duration": 7,
    "start_time": "2023-05-08T16:25:27.726Z"
   },
   {
    "duration": 24,
    "start_time": "2023-05-08T16:25:27.735Z"
   },
   {
    "duration": 8,
    "start_time": "2023-05-08T16:25:27.761Z"
   },
   {
    "duration": 14,
    "start_time": "2023-05-08T16:25:27.772Z"
   },
   {
    "duration": 20,
    "start_time": "2023-05-08T16:25:27.788Z"
   },
   {
    "duration": 20,
    "start_time": "2023-05-08T16:25:27.810Z"
   },
   {
    "duration": 179,
    "start_time": "2023-05-08T16:25:27.832Z"
   },
   {
    "duration": 234,
    "start_time": "2023-05-08T16:25:28.013Z"
   },
   {
    "duration": 21243,
    "start_time": "2023-05-08T16:25:28.249Z"
   },
   {
    "duration": 1599,
    "start_time": "2023-05-08T16:26:44.046Z"
   },
   {
    "duration": 974,
    "start_time": "2023-05-08T16:26:45.647Z"
   },
   {
    "duration": 1584,
    "start_time": "2023-05-08T16:26:46.623Z"
   },
   {
    "duration": 606,
    "start_time": "2023-05-08T16:26:48.210Z"
   },
   {
    "duration": 69,
    "start_time": "2023-05-08T16:26:48.818Z"
   },
   {
    "duration": 212,
    "start_time": "2023-05-08T16:26:48.890Z"
   },
   {
    "duration": 13,
    "start_time": "2023-05-08T16:26:49.103Z"
   },
   {
    "duration": 67,
    "start_time": "2023-05-08T16:26:49.118Z"
   },
   {
    "duration": 34,
    "start_time": "2023-05-08T16:26:49.187Z"
   },
   {
    "duration": 54,
    "start_time": "2023-05-08T16:26:49.224Z"
   },
   {
    "duration": 365,
    "start_time": "2023-05-08T16:26:49.280Z"
   },
   {
    "duration": 32,
    "start_time": "2023-05-08T16:26:49.647Z"
   },
   {
    "duration": 339,
    "start_time": "2023-05-08T16:26:49.681Z"
   },
   {
    "duration": 42,
    "start_time": "2023-05-08T16:26:50.022Z"
   },
   {
    "duration": 169,
    "start_time": "2023-05-08T16:26:50.067Z"
   },
   {
    "duration": 13,
    "start_time": "2023-05-08T16:26:50.242Z"
   },
   {
    "duration": 51,
    "start_time": "2023-05-08T16:26:50.256Z"
   },
   {
    "duration": 193,
    "start_time": "2023-05-08T16:26:50.309Z"
   },
   {
    "duration": 383,
    "start_time": "2023-05-08T16:26:50.503Z"
   },
   {
    "duration": 13,
    "start_time": "2023-05-08T16:26:50.887Z"
   },
   {
    "duration": 65,
    "start_time": "2023-05-08T16:26:50.902Z"
   },
   {
    "duration": 5,
    "start_time": "2023-05-08T16:26:50.969Z"
   },
   {
    "duration": 40,
    "start_time": "2023-05-08T16:26:50.975Z"
   },
   {
    "duration": 28,
    "start_time": "2023-05-08T16:26:51.017Z"
   },
   {
    "duration": 84,
    "start_time": "2023-05-08T16:26:51.047Z"
   },
   {
    "duration": 30,
    "start_time": "2023-05-08T16:26:51.142Z"
   },
   {
    "duration": 834,
    "start_time": "2023-05-08T16:26:51.174Z"
   },
   {
    "duration": 188,
    "start_time": "2023-05-08T16:26:52.011Z"
   },
   {
    "duration": 3,
    "start_time": "2023-05-08T16:26:52.201Z"
   },
   {
    "duration": 30,
    "start_time": "2023-05-08T16:26:52.206Z"
   },
   {
    "duration": 71,
    "start_time": "2023-05-08T16:26:52.238Z"
   },
   {
    "duration": 83,
    "start_time": "2023-05-08T16:26:52.311Z"
   },
   {
    "duration": 72,
    "start_time": "2023-05-08T16:26:52.396Z"
   },
   {
    "duration": 64,
    "start_time": "2023-05-08T16:26:52.470Z"
   },
   {
    "duration": 24,
    "start_time": "2023-05-08T16:26:52.536Z"
   },
   {
    "duration": 36,
    "start_time": "2023-05-08T16:26:52.562Z"
   },
   {
    "duration": 173,
    "start_time": "2023-05-08T16:26:52.600Z"
   },
   {
    "duration": 88,
    "start_time": "2023-05-08T16:26:52.775Z"
   },
   {
    "duration": 20697,
    "start_time": "2023-05-08T16:26:52.942Z"
   },
   {
    "duration": 64,
    "start_time": "2023-05-08T16:30:16.749Z"
   },
   {
    "duration": 134271,
    "start_time": "2023-05-08T16:38:01.913Z"
   },
   {
    "duration": 71,
    "start_time": "2023-05-08T16:43:32.781Z"
   },
   {
    "duration": 1581,
    "start_time": "2023-05-08T16:57:00.606Z"
   },
   {
    "duration": 853,
    "start_time": "2023-05-08T16:57:02.189Z"
   },
   {
    "duration": 1398,
    "start_time": "2023-05-08T16:57:03.044Z"
   },
   {
    "duration": 582,
    "start_time": "2023-05-08T16:57:04.444Z"
   },
   {
    "duration": 65,
    "start_time": "2023-05-08T16:57:05.028Z"
   },
   {
    "duration": 225,
    "start_time": "2023-05-08T16:57:05.096Z"
   },
   {
    "duration": 21,
    "start_time": "2023-05-08T16:57:05.323Z"
   },
   {
    "duration": 52,
    "start_time": "2023-05-08T16:57:05.346Z"
   },
   {
    "duration": 49,
    "start_time": "2023-05-08T16:57:05.400Z"
   },
   {
    "duration": 4,
    "start_time": "2023-05-08T16:57:05.452Z"
   },
   {
    "duration": 367,
    "start_time": "2023-05-08T16:57:05.458Z"
   },
   {
    "duration": 36,
    "start_time": "2023-05-08T16:57:05.826Z"
   },
   {
    "duration": 400,
    "start_time": "2023-05-08T16:57:05.864Z"
   },
   {
    "duration": 40,
    "start_time": "2023-05-08T16:57:06.266Z"
   },
   {
    "duration": 184,
    "start_time": "2023-05-08T16:57:06.308Z"
   },
   {
    "duration": 13,
    "start_time": "2023-05-08T16:57:06.494Z"
   },
   {
    "duration": 67,
    "start_time": "2023-05-08T16:57:06.509Z"
   },
   {
    "duration": 232,
    "start_time": "2023-05-08T16:57:06.578Z"
   },
   {
    "duration": 393,
    "start_time": "2023-05-08T16:57:06.812Z"
   },
   {
    "duration": 14,
    "start_time": "2023-05-08T16:57:07.207Z"
   },
   {
    "duration": 62,
    "start_time": "2023-05-08T16:57:07.224Z"
   },
   {
    "duration": 4,
    "start_time": "2023-05-08T16:57:07.288Z"
   },
   {
    "duration": 29,
    "start_time": "2023-05-08T16:57:07.294Z"
   },
   {
    "duration": 20,
    "start_time": "2023-05-08T16:57:07.341Z"
   },
   {
    "duration": 134,
    "start_time": "2023-05-08T16:57:07.363Z"
   },
   {
    "duration": 42,
    "start_time": "2023-05-08T16:57:07.499Z"
   },
   {
    "duration": 834,
    "start_time": "2023-05-08T16:57:07.543Z"
   },
   {
    "duration": 184,
    "start_time": "2023-05-08T16:57:08.380Z"
   },
   {
    "duration": 3,
    "start_time": "2023-05-08T16:57:08.566Z"
   },
   {
    "duration": 15,
    "start_time": "2023-05-08T16:57:08.570Z"
   },
   {
    "duration": 6,
    "start_time": "2023-05-08T16:57:08.587Z"
   },
   {
    "duration": 7,
    "start_time": "2023-05-08T16:57:08.595Z"
   },
   {
    "duration": 19,
    "start_time": "2023-05-08T16:57:08.604Z"
   },
   {
    "duration": 12,
    "start_time": "2023-05-08T16:57:08.625Z"
   },
   {
    "duration": 10,
    "start_time": "2023-05-08T16:57:08.639Z"
   },
   {
    "duration": 15,
    "start_time": "2023-05-08T16:57:08.651Z"
   },
   {
    "duration": 127932,
    "start_time": "2023-05-08T16:57:08.669Z"
   },
   {
    "duration": 172,
    "start_time": "2023-05-08T16:59:16.603Z"
   },
   {
    "duration": 20185,
    "start_time": "2023-05-08T16:59:16.777Z"
   },
   {
    "duration": 33,
    "start_time": "2023-05-08T16:59:36.965Z"
   },
   {
    "duration": 70755,
    "start_time": "2023-05-08T16:59:43.618Z"
   },
   {
    "duration": 33741,
    "start_time": "2023-05-08T17:04:19.042Z"
   },
   {
    "duration": 1608,
    "start_time": "2023-05-08T17:06:08.225Z"
   },
   {
    "duration": 953,
    "start_time": "2023-05-08T17:06:09.835Z"
   },
   {
    "duration": 1756,
    "start_time": "2023-05-08T17:06:10.790Z"
   },
   {
    "duration": 616,
    "start_time": "2023-05-08T17:06:12.548Z"
   },
   {
    "duration": 77,
    "start_time": "2023-05-08T17:06:13.166Z"
   },
   {
    "duration": 210,
    "start_time": "2023-05-08T17:06:13.245Z"
   },
   {
    "duration": 13,
    "start_time": "2023-05-08T17:06:13.457Z"
   },
   {
    "duration": 73,
    "start_time": "2023-05-08T17:06:13.472Z"
   },
   {
    "duration": 30,
    "start_time": "2023-05-08T17:06:13.547Z"
   },
   {
    "duration": 4,
    "start_time": "2023-05-08T17:06:13.579Z"
   },
   {
    "duration": 358,
    "start_time": "2023-05-08T17:06:13.584Z"
   },
   {
    "duration": 31,
    "start_time": "2023-05-08T17:06:13.944Z"
   },
   {
    "duration": 336,
    "start_time": "2023-05-08T17:06:13.977Z"
   },
   {
    "duration": 35,
    "start_time": "2023-05-08T17:06:14.315Z"
   },
   {
    "duration": 172,
    "start_time": "2023-05-08T17:06:14.351Z"
   },
   {
    "duration": 21,
    "start_time": "2023-05-08T17:06:14.525Z"
   },
   {
    "duration": 49,
    "start_time": "2023-05-08T17:06:14.548Z"
   },
   {
    "duration": 192,
    "start_time": "2023-05-08T17:06:14.599Z"
   },
   {
    "duration": 411,
    "start_time": "2023-05-08T17:06:14.792Z"
   },
   {
    "duration": 37,
    "start_time": "2023-05-08T17:06:15.206Z"
   },
   {
    "duration": 108,
    "start_time": "2023-05-08T17:06:15.246Z"
   },
   {
    "duration": 6,
    "start_time": "2023-05-08T17:06:15.356Z"
   },
   {
    "duration": 54,
    "start_time": "2023-05-08T17:06:15.364Z"
   },
   {
    "duration": 23,
    "start_time": "2023-05-08T17:06:15.421Z"
   },
   {
    "duration": 102,
    "start_time": "2023-05-08T17:06:15.447Z"
   },
   {
    "duration": 31,
    "start_time": "2023-05-08T17:06:15.551Z"
   },
   {
    "duration": 899,
    "start_time": "2023-05-08T17:06:15.586Z"
   },
   {
    "duration": 198,
    "start_time": "2023-05-08T17:06:16.488Z"
   },
   {
    "duration": 5,
    "start_time": "2023-05-08T17:06:16.688Z"
   },
   {
    "duration": 34,
    "start_time": "2023-05-08T17:06:16.696Z"
   },
   {
    "duration": 18,
    "start_time": "2023-05-08T17:06:16.732Z"
   },
   {
    "duration": 11,
    "start_time": "2023-05-08T17:06:16.752Z"
   },
   {
    "duration": 10,
    "start_time": "2023-05-08T17:06:16.764Z"
   },
   {
    "duration": 19,
    "start_time": "2023-05-08T17:06:16.775Z"
   },
   {
    "duration": 31,
    "start_time": "2023-05-08T17:06:16.796Z"
   },
   {
    "duration": 364313,
    "start_time": "2023-05-08T17:06:16.828Z"
   },
   {
    "duration": 135040,
    "start_time": "2023-05-08T17:12:21.144Z"
   },
   {
    "duration": 33125,
    "start_time": "2023-05-08T17:14:36.187Z"
   },
   {
    "duration": 21036,
    "start_time": "2023-05-08T17:15:09.314Z"
   },
   {
    "duration": 72,
    "start_time": "2023-05-08T17:22:39.525Z"
   },
   {
    "duration": 7240,
    "start_time": "2023-05-08T17:23:09.734Z"
   },
   {
    "duration": 55,
    "start_time": "2023-05-08T17:28:18.523Z"
   },
   {
    "duration": 7,
    "start_time": "2023-05-08T17:35:40.571Z"
   },
   {
    "duration": 3120,
    "start_time": "2023-05-08T17:35:48.416Z"
   }
  ],
  "kernelspec": {
   "display_name": "Python 3 (ipykernel)",
   "language": "python",
   "name": "python3"
  },
  "language_info": {
   "codemirror_mode": {
    "name": "ipython",
    "version": 3
   },
   "file_extension": ".py",
   "mimetype": "text/x-python",
   "name": "python",
   "nbconvert_exporter": "python",
   "pygments_lexer": "ipython3",
   "version": "3.13.5"
  },
  "toc": {
   "base_numbering": 1,
   "nav_menu": {},
   "number_sections": true,
   "sideBar": true,
   "skip_h1_title": true,
   "title_cell": "Table of Contents",
   "title_sidebar": "Contents",
   "toc_cell": false,
   "toc_position": {},
   "toc_section_display": true,
   "toc_window_display": false
  }
 },
 "nbformat": 4,
 "nbformat_minor": 4
}
